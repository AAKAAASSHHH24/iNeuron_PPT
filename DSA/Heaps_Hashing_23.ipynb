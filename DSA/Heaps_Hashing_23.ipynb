{
  "cells": [
    {
      "cell_type": "markdown",
      "metadata": {},
      "source": [
        "💡 Question-1:\n",
        "\n",
        "Given preorder of a binary tree, calculate its **[depth(or height)](https://www.geeksforgeeks.org/write-a-c-program-to-find-the-maximum-depth-or-height-of-a-tree/)** [starting from depth 0]. The preorder is given as a string with two possible characters.\n",
        "\n",
        "1. ‘l’ denotes the leaf\n",
        "2. ‘n’ denotes internal node\n",
        "\n",
        "The given tree can be seen as a full binary tree where every node has 0 or two children. The two children of a node can ‘n’ or ‘l’ or mix of both.\n",
        "\n",
        "</aside>"
      ]
    },
    {
      "cell_type": "code",
      "execution_count": 1,
      "metadata": {
        "colab": {
          "base_uri": "https://localhost:8080/"
        },
        "id": "yry_r8cOe_Fp",
        "outputId": "b2701b41-09f7-4df3-e8e9-178b6f556f2d"
      },
      "outputs": [
        {
          "name": "stdout",
          "output_type": "stream",
          "text": [
            "Example 1: 1\n",
            "Example 2: 2\n"
          ]
        }
      ],
      "source": [
        "def calculate_tree_depth(preorder):\n",
        "    depth = 0\n",
        "    max_depth = 0\n",
        "\n",
        "    for char in preorder:\n",
        "        if char == 'n':\n",
        "            depth += 1\n",
        "        elif char == 'l':\n",
        "            max_depth = max(max_depth, depth)\n",
        "            depth -= 1\n",
        "\n",
        "    return max_depth\n",
        "\n",
        "# Example 1\n",
        "preorder1 = 'nlnll'\n",
        "print(\"Example 1:\", calculate_tree_depth(preorder1))  # Output: 2\n",
        "\n",
        "# Example 2\n",
        "preorder2 = 'nlnnlll'\n",
        "print(\"Example 2:\", calculate_tree_depth(preorder2))  # Output: 3\n"
      ]
    },
    {
      "cell_type": "markdown",
      "metadata": {},
      "source": [
        "<aside>\n",
        "💡 Question-2:\n",
        "\n",
        "Given a Binary tree, the task is to print the **left view** of the Binary Tree. The left view of a Binary Tree is a set of leftmost nodes for every level.\n",
        "\n",
        "</aside>"
      ]
    },
    {
      "cell_type": "code",
      "execution_count": 2,
      "metadata": {
        "colab": {
          "base_uri": "https://localhost:8080/"
        },
        "id": "nHnBy36bgjcP",
        "outputId": "01303656-116f-4a54-8c78-ff8e2518d0bd"
      },
      "outputs": [
        {
          "name": "stdout",
          "output_type": "stream",
          "text": [
            "Left View of Binary Tree:\n",
            "4 5 3 6 "
          ]
        }
      ],
      "source": [
        "## Ans2\n",
        "\n",
        "from collections import deque\n",
        "\n",
        "class Node:\n",
        "    def __init__(self, data):\n",
        "        self.data = data\n",
        "        self.left = None\n",
        "        self.right = None\n",
        "\n",
        "def print_left_view(root):\n",
        "    if root is None:\n",
        "        return\n",
        "\n",
        "    queue = deque()\n",
        "    queue.append(root)\n",
        "\n",
        "    while queue:\n",
        "        nodeCount = len(queue)\n",
        "        level_nodes = []\n",
        "\n",
        "        for i in range(nodeCount):\n",
        "            node = queue.popleft()\n",
        "\n",
        "            if i == 0:\n",
        "                # First node in the current level (leftmost node)\n",
        "                print(node.data, end=\" \")\n",
        "\n",
        "            if node.left:\n",
        "                queue.append(node.left)\n",
        "            if node.right:\n",
        "                queue.append(node.right)\n",
        "\n",
        "# Create the binary tree\n",
        "root = Node(4)\n",
        "root.left = Node(5)\n",
        "root.right = Node(2)\n",
        "root.right.left = Node(3)\n",
        "root.right.right = Node(1)\n",
        "root.right.left.left = Node(6)\n",
        "root.right.left.right = Node(7)\n",
        "\n",
        "print(\"Left View of Binary Tree:\")\n",
        "print_left_view(root)\n"
      ]
    },
    {
      "cell_type": "markdown",
      "metadata": {},
      "source": [
        "<aside>\n",
        "💡 Question-3:\n",
        "\n",
        "Given a Binary Tree, print the Right view of it.\n",
        "\n",
        "The right view of a Binary Tree is a set of nodes visible when the tree is visited from the Right side.\n",
        "\n",
        "</aside>"
      ]
    },
    {
      "cell_type": "code",
      "execution_count": 3,
      "metadata": {
        "colab": {
          "base_uri": "https://localhost:8080/"
        },
        "id": "hLLFjFeqglT5",
        "outputId": "07029f84-b61f-476e-d404-23873831e83b"
      },
      "outputs": [
        {
          "name": "stdout",
          "output_type": "stream",
          "text": [
            "Left View of Binary Tree:\n",
            "4 5 3 6 "
          ]
        }
      ],
      "source": [
        "## Ans3\n",
        "\n",
        "from collections import deque\n",
        "\n",
        "class Node:\n",
        "    def __init__(self, data):\n",
        "        self.data = data\n",
        "        self.left = None\n",
        "        self.right = None\n",
        "\n",
        "def print_left_view(root):\n",
        "    if root is None:\n",
        "        return\n",
        "\n",
        "    queue = deque()\n",
        "    queue.append(root)\n",
        "\n",
        "    while queue:\n",
        "        nodeCount = len(queue)\n",
        "        level_nodes = []\n",
        "\n",
        "        for i in range(nodeCount):\n",
        "            node = queue.popleft()\n",
        "\n",
        "            if i == 0:\n",
        "                # First node in the current level (leftmost node)\n",
        "                print(node.data, end=\" \")\n",
        "\n",
        "            if node.left:\n",
        "                queue.append(node.left)\n",
        "            if node.right:\n",
        "                queue.append(node.right)\n",
        "\n",
        "# Create the binary tree\n",
        "root = Node(4)\n",
        "root.left = Node(5)\n",
        "root.right = Node(2)\n",
        "root.right.left = Node(3)\n",
        "root.right.right = Node(1)\n",
        "root.right.left.left = Node(6)\n",
        "root.right.left.right = Node(7)\n",
        "\n",
        "print(\"Left View of Binary Tree:\")\n",
        "print_left_view(root)\n"
      ]
    },
    {
      "cell_type": "markdown",
      "metadata": {},
      "source": [
        "<aside>\n",
        "💡 Question-4:\n",
        "\n",
        "Given a Binary Tree, The task is to print the **bottom view** from left to right. A node **x** is there in output if x is the bottommost node at its horizontal distance. The horizontal distance of the left child of a node x is equal to a horizontal distance of x minus 1, and that of a right child is the horizontal distance of x plus 1.\n",
        "\n",
        "</aside>"
      ]
    },
    {
      "cell_type": "code",
      "execution_count": 4,
      "metadata": {
        "colab": {
          "base_uri": "https://localhost:8080/"
        },
        "id": "NH5erN4ag-_3",
        "outputId": "4742571a-3846-42e8-d9f3-967fc2146a2e"
      },
      "outputs": [
        {
          "name": "stdout",
          "output_type": "stream",
          "text": [
            "Bottom View of Binary Tree:\n",
            "5 10 3 14 25 "
          ]
        }
      ],
      "source": [
        "## Ans4\n",
        "\n",
        "from collections import deque\n",
        "\n",
        "class Node:\n",
        "    def __init__(self, data):\n",
        "        self.data = data\n",
        "        self.left = None\n",
        "        self.right = None\n",
        "\n",
        "def print_bottom_view(root):\n",
        "    if root is None:\n",
        "        return\n",
        "\n",
        "    queue = deque()\n",
        "    queue.append((root, 0))\n",
        "\n",
        "    bottom_view = {}\n",
        "\n",
        "    while queue:\n",
        "        node, hd = queue.popleft()\n",
        "\n",
        "        bottom_view[hd] = node.data\n",
        "\n",
        "        if node.left:\n",
        "            queue.append((node.left, hd - 1))\n",
        "        if node.right:\n",
        "            queue.append((node.right, hd + 1))\n",
        "\n",
        "    # Print the nodes from the bottom_view dictionary in ascending order of their horizontal distances\n",
        "    for hd in sorted(bottom_view.keys()):\n",
        "        print(bottom_view[hd], end=\" \")\n",
        "\n",
        "# Create the binary tree\n",
        "root = Node(20)\n",
        "root.left = Node(8)\n",
        "root.right = Node(22)\n",
        "root.left.left = Node(5)\n",
        "root.left.right = Node(3)\n",
        "root.right.right = Node(25)\n",
        "root.left.right.left = Node(10)\n",
        "root.left.right.right = Node(14)\n",
        "\n",
        "print(\"Bottom View of Binary Tree:\")\n",
        "print_bottom_view(root)\n",
        "\n"
      ]
    },
    {
      "cell_type": "code",
      "execution_count": null,
      "metadata": {
        "id": "HmfdATtDhlW9"
      },
      "outputs": [],
      "source": []
    }
  ],
  "metadata": {
    "colab": {
      "provenance": []
    },
    "kernelspec": {
      "display_name": "Python 3",
      "name": "python3"
    },
    "language_info": {
      "name": "python"
    }
  },
  "nbformat": 4,
  "nbformat_minor": 0
}
