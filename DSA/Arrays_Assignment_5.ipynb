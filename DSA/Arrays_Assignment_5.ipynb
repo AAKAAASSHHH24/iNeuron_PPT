{
  "nbformat": 4,
  "nbformat_minor": 0,
  "metadata": {
    "colab": {
      "provenance": []
    },
    "kernelspec": {
      "name": "python3",
      "display_name": "Python 3"
    },
    "language_info": {
      "name": "python"
    }
  },
  "cells": [
    {
      "cell_type": "markdown",
      "source": [
        "💡 **Question 1**\n",
        "\n",
        "Convert 1D Array Into 2D Array\n",
        "\n",
        "You are given a **0-indexed** 1-dimensional (1D) integer array original, and two integers, m and n. You are tasked with creating a 2-dimensional (2D) array with  m rows and n columns using **all** the elements from original.\n",
        "\n",
        "The elements from indices 0 to n - 1 (**inclusive**) of original should form the first row of the constructed 2D array, the elements from indices n to 2 * n - 1 (**inclusive**) should form the second row of the constructed 2D array, and so on.\n",
        "\n",
        "Return *an* m x n *2D array constructed according to the above procedure, or an empty 2D array if it is impossible*.\n",
        "\n",
        "**Example 1:**\n",
        "\n",
        "**Input:** original = [1,2,3,4], m = 2, n = 2\n",
        "\n",
        "**Output:** [[1,2],[3,4]]\n",
        "\n",
        "**Explanation:** The constructed 2D array should contain 2 rows and 2 columns.\n",
        "\n",
        "The first group of n=2 elements in original, [1,2], becomes the first row in the constructed 2D array.\n",
        "\n",
        "The second group of n=2 elements in original, [3,4], becomes the second row in the constructed 2D array.\n",
        "\n",
        "________________________________________________________________________________________________________________________________________________________________"
      ],
      "metadata": {
        "id": "PE6T_BdwmW7Z"
      }
    },
    {
      "cell_type": "markdown",
      "source": [
        "To convert a 1D array original into a 2D array with m rows and n columns, we need to ensure that the number of elements in original is exactly m * n. If this condition is satisfied, we can construct the 2D array by dividing the elements of original into groups of n elements and forming the rows of the 2D array.\n",
        "\n",
        "Here's an explanation of the approach:\n",
        "\n",
        "- Check if the length of original is equal to m * n. If not, return an empty 2D array.\n",
        "- Create an empty 2D array result with m rows and n columns.\n",
        "Iterate i from 0 to m * n - 1:\n",
        "- Calculate the row index row as i // n.\n",
        "- Calculate the column index col as i % n.\n",
        "- Set result[row][col] to original[i].\n",
        "\n",
        "- Return result.\n",
        "\n",
        "The time complexity of this approach is O(m * n), as we iterate through m * n elements of original to construct the 2D array. The solution is optimized.\n",
        "\n",
        "Here's the optimized code in Python:"
      ],
      "metadata": {
        "id": "BA2NGibZmuGS"
      }
    },
    {
      "cell_type": "code",
      "execution_count": null,
      "metadata": {
        "colab": {
          "base_uri": "https://localhost:8080/"
        },
        "id": "WDlWBHYKcigh",
        "outputId": "f7d6100d-6b5f-4e04-da0e-87ffef001659"
      },
      "outputs": [
        {
          "output_type": "stream",
          "name": "stdout",
          "text": [
            "[[1, 2], [3, 4]]\n"
          ]
        }
      ],
      "source": [
        "def convert_to_2d_array(original, m, n):\n",
        "    if len(original) != m * n:\n",
        "        return []\n",
        "\n",
        "    result = [[0] * n for _ in range(m)]\n",
        "\n",
        "    for i in range(m * n):\n",
        "        row = i // n\n",
        "        col = i % n\n",
        "        result[row][col] = original[i]\n",
        "\n",
        "    return result\n",
        "\n",
        "# Test case\n",
        "original = [1, 2, 3, 4]\n",
        "m = 2\n",
        "n = 2\n",
        "\n",
        "print(convert_to_2d_array(original, m, n))\n",
        "# Output: [[1, 2], [3, 4]]\n"
      ]
    },
    {
      "cell_type": "markdown",
      "source": [
        "In the given example, the output is [[1, 2], [3, 4]], which represents the 2D array constructed from the original 1D array. The first group of n=2 elements in original, [1, 2], forms the first row of the constructed 2D array, and the second group of n=2 elements, [3, 4], forms the second row of the constructed 2D array."
      ],
      "metadata": {
        "id": "HVGvxCPkm-Pe"
      }
    },
    {
      "cell_type": "markdown",
      "source": [
        "<aside>\n",
        "💡 **Question 3**\n",
        "\n",
        "Given an integer array nums sorted in **non-decreasing** order, return *an array of **the squares of each number** sorted in non-decreasing order*.\n",
        "\n",
        "**Example 1:**\n",
        "\n",
        "**Input:** nums = [-4,-1,0,3,10]\n",
        "\n",
        "**Output:** [0,1,9,16,100]\n",
        "\n",
        "**Explanation:** After squaring, the array becomes [16,1,0,9,100].\n",
        "\n",
        "After sorting, it becomes [0,1,9,16,100].\n",
        "\n",
        "</aside>"
      ],
      "metadata": {
        "id": "Y7omYoZg0J8r"
      }
    },
    {
      "cell_type": "markdown",
      "source": [
        "To return an array of the squares of each number in the given integer array nums, sorted in non-decreasing order, we can utilize a two-pointer approach. Since the array nums is already sorted in non-decreasing order, the squares of the numbers will also be non-decreasing. By comparing the squares of the numbers from the left and right ends of the array, we can build the resulting array in sorted order.\n",
        "\n",
        "Here's an explanation of the approach:\n",
        "\n",
        "- Initialize two pointers, left and right, pointing to the start and end of the nums array respectively.\n",
        "- Create an empty array result to store the squared numbers in sorted order.\n",
        "- While left is less than or equal to right:\n",
        "   - Compare the absolute values of nums[left] and nums[right].\n",
        "   - If the absolute value of nums[left] is greater, square it and append it to result. Increment left by 1.\n",
        "If the absolute value of nums[right] is greater or equal, square it and append it to result. Decrement right by 1.\n",
        "\n",
        "Reverse the result array to obtain the squares in non-decreasing order.\n",
        "Return result.\n",
        "The time complexity of this approach is O(n), where n is the length of the nums array. We iterate over the array once using the two-pointer technique, making it an optimized solution."
      ],
      "metadata": {
        "id": "YKTK68R00mCr"
      }
    },
    {
      "cell_type": "code",
      "source": [
        "def sorted_squares(nums):\n",
        "    left = 0\n",
        "    right = len(nums) - 1\n",
        "    result = []\n",
        "\n",
        "    while left <= right:\n",
        "        if abs(nums[left]) > abs(nums[right]):\n",
        "            result.append(nums[left] ** 2)\n",
        "            left += 1\n",
        "        else:\n",
        "            result.append(nums[right] ** 2)\n",
        "            right -= 1\n",
        "\n",
        "    return result[::-1]\n",
        "\n",
        "# Test case\n",
        "nums = [-4, -1, 0, 3, 10]\n",
        "print(sorted_squares(nums))\n",
        "# Output: [0, 1, 9, 16, 100]\n"
      ],
      "metadata": {
        "id": "--5PwzzXm5wW",
        "colab": {
          "base_uri": "https://localhost:8080/"
        },
        "outputId": "57e5f4b7-ae25-4d7b-9240-dc725fe4001d"
      },
      "execution_count": 1,
      "outputs": [
        {
          "output_type": "stream",
          "name": "stdout",
          "text": [
            "[0, 1, 9, 16, 100]\n"
          ]
        }
      ]
    },
    {
      "cell_type": "markdown",
      "source": [
        "In the given example, the output is [0, 1, 9, 16, 100], which represents the squares of the numbers in the nums array sorted in non-decreasing order. After squaring the numbers, the resulting array is [16, 1, 0, 9, 100]. After reversing the array, it becomes [0, 1, 9, 16, 100], which is the desired output."
      ],
      "metadata": {
        "id": "N1Qxvguw3kg0"
      }
    },
    {
      "cell_type": "markdown",
      "source": [
        "<aside>\n",
        "💡 **Question 4**\n",
        "\n",
        "Given two **0-indexed** integer arrays nums1 and nums2, return *a list* answer *of size* 2 *where:*\n",
        "\n",
        "- answer[0] *is a list of all **distinct** integers in* nums1 *which are **not** present in* nums2*.*\n",
        "- answer[1] *is a list of all **distinct** integers in* nums2 *which are **not** present in* nums1.\n",
        "\n",
        "**Note** that the integers in the lists may be returned in **any** order.\n",
        "\n",
        "**Example 1:**\n",
        "\n",
        "**Input:** nums1 = [1,2,3], nums2 = [2,4,6]\n",
        "\n",
        "**Output:** [[1,3],[4,6]]\n",
        "\n",
        "**Explanation:**\n",
        "\n",
        "For nums1, nums1[1] = 2 is present at index 0 of nums2, whereas nums1[0] = 1 and nums1[2] = 3 are not present in nums2. Therefore, answer[0] = [1,3].\n",
        "\n",
        "For nums2, nums2[0] = 2 is present at index 1 of nums1, whereas nums2[1] = 4 and nums2[2] = 6 are not present in nums2. Therefore, answer[1] = [4,6].\n",
        "\n",
        "</aside>"
      ],
      "metadata": {
        "id": "qNmB56yK3tkh"
      }
    },
    {
      "cell_type": "markdown",
      "source": [
        "To find the distinct integers in nums1 that are not present in nums2 and vice versa, we can use sets to efficiently perform the operations. Here's the approach:\n",
        "\n",
        "- Convert nums1 and nums2 into sets, set1 and set2 respectively.\n",
        "- Find the set difference between set1 and set2 to obtain the distinct integers in nums1 that are not present in nums2. Let's call this set diff1.\n",
        "- Find the set difference between set2 and set1 to obtain the distinct integers in nums2 that are not present in nums1. Let's call this set diff2.\n",
        "- Convert diff1 and diff2 back into lists, list1 and list2 respectively.\n",
        "- Return a list [list1, list2] as the result.\n",
        "- The time complexity of this approach is O(m + n), where m and n are the lengths of nums1 and nums2 respectively. Converting the arrays to sets and performing set differences are both efficient operations.\n",
        "\n",
        "Here's the code implementation in Python:"
      ],
      "metadata": {
        "id": "GBlBJskT35H2"
      }
    },
    {
      "cell_type": "code",
      "source": [
        "def find_disjoint(nums1, nums2):\n",
        "    set1 = set(nums1)\n",
        "    set2 = set(nums2)\n",
        "\n",
        "    diff1 = set1 - set2\n",
        "    diff2 = set2 - set1\n",
        "\n",
        "    list1 = list(diff1)\n",
        "    list2 = list(diff2)\n",
        "\n",
        "    return [list1, list2]\n",
        "\n",
        "# Test case\n",
        "nums1 = [1, 2, 3]\n",
        "nums2 = [2, 4, 6]\n",
        "print(find_disjoint(nums1, nums2))\n",
        "# Output: [[1, 3], [4, 6]]\n"
      ],
      "metadata": {
        "colab": {
          "base_uri": "https://localhost:8080/"
        },
        "id": "6UIqDJVX3gVM",
        "outputId": "8e9a55a1-074c-4547-fe3c-b9a2b63ef223"
      },
      "execution_count": 2,
      "outputs": [
        {
          "output_type": "stream",
          "name": "stdout",
          "text": [
            "[[1, 3], [4, 6]]\n"
          ]
        }
      ]
    },
    {
      "cell_type": "markdown",
      "source": [
        "<aside>\n",
        "💡 **Question 5**\n",
        "\n",
        "Given two integer arrays arr1 and arr2, and the integer d, *return the distance value between the two arrays*.\n",
        "\n",
        "The distance value is defined as the number of elements arr1[i] such that there is not any element arr2[j] where |arr1[i]-arr2[j]| <= d.\n",
        "\n",
        "**Example 1:**\n",
        "\n",
        "**Input:** arr1 = [4,5,8], arr2 = [10,9,1,8], d = 2\n",
        "\n",
        "**Output:** 2\n",
        "\n",
        "**Explanation:**\n",
        "\n",
        "For arr1[0]=4 we have:\n",
        "\n",
        "|4-10|=6 > d=2\n",
        "\n",
        "|4-9|=5 > d=2\n",
        "\n",
        "|4-1|=3 > d=2\n",
        "\n",
        "|4-8|=4 > d=2\n",
        "\n",
        "For arr1[1]=5 we have:\n",
        "\n",
        "|5-10|=5 > d=2\n",
        "\n",
        "|5-9|=4 > d=2\n",
        "\n",
        "|5-1|=4 > d=2\n",
        "\n",
        "|5-8|=3 > d=2\n",
        "\n",
        "For arr1[2]=8 we have:\n",
        "\n",
        "**|8-10|=2 <= d=2**\n",
        "\n",
        "**|8-9|=1 <= d=2**\n",
        "\n",
        "|8-1|=7 > d=2\n",
        "\n",
        "**|8-8|=0 <= d=2**\n",
        "\n",
        "</aside>"
      ],
      "metadata": {
        "id": "C81XyV014Rum"
      }
    },
    {
      "cell_type": "markdown",
      "source": [
        "To calculate the distance value between two arrays arr1 and arr2, we can iterate over each element in arr1 and check if there is no element in arr2 that satisfies the given condition |arr1[i] - arr2[j]| <= d. We increment a counter for each element in arr1 that satisfies the condition. Finally, we return the value of the counter as the distance value.\n",
        "\n",
        "Here's the step-by-step approach:\n",
        "\n",
        "- Initialize a counter variable distance to 0.\n",
        "- Iterate over each element num in arr1.\n",
        "- For each num, iterate over each element num2 in arr2.\n",
        "- Check if the absolute difference between num and num2 is greater than d. If it is, continue to the next element in arr2.\n",
        "- If no element in arr2 satisfies the condition, increment distance by 1 and break out of the inner loop.\n",
        "\n",
        "\n",
        "- Return the value of distance as the distance value.\n",
        "\n",
        "The time complexity of this approach is O(m * n), where m and n are the lengths of arr1 and arr2 respectively. We need to compare each element in arr1 with each element in arr2.\n",
        "\n",
        "Here's the code implementation in Python:"
      ],
      "metadata": {
        "id": "094YO8Qs4jHX"
      }
    },
    {
      "cell_type": "code",
      "source": [
        "def distance_value(arr1, arr2, d):\n",
        "    distance = 0\n",
        "\n",
        "    for num in arr1:\n",
        "        for num2 in arr2:\n",
        "            if abs(num - num2) <= d:\n",
        "                break\n",
        "        else:\n",
        "            distance += 1\n",
        "\n",
        "    return distance\n",
        "\n",
        "# Test case\n",
        "arr1 = [4, 5, 8]\n",
        "arr2 = [10, 9, 1, 8]\n",
        "d = 2\n",
        "print(distance_value(arr1, arr2, d))\n",
        "# Output: 2\n"
      ],
      "metadata": {
        "colab": {
          "base_uri": "https://localhost:8080/"
        },
        "id": "-PizvNAb4IqD",
        "outputId": "eb545e81-444d-4232-e367-52a3035f832e"
      },
      "execution_count": 3,
      "outputs": [
        {
          "output_type": "stream",
          "name": "stdout",
          "text": [
            "2\n"
          ]
        }
      ]
    },
    {
      "cell_type": "markdown",
      "source": [
        "In the given example, the output is 2, which represents the distance value between arr1 and arr2. In this case, arr1 has elements [4, 5, 8] and arr2 has elements [10, 9, 1, 8]. For arr1[0] = 4, there are no elements in arr2 that satisfy the condition |4 - arr2[j]| <= 2. Similarly, for arr1[1] = 5, there are no elements in arr2 that satisfy the condition. However, for arr1[2] = 8, there are two elements in arr2 (10 and 9) that satisfy the condition. Hence, the distance value is 2, which matches the expected result."
      ],
      "metadata": {
        "id": "UYMZJM5W45Ar"
      }
    },
    {
      "cell_type": "markdown",
      "source": [
        "<aside>\n",
        "💡 **Question 6**\n",
        "\n",
        "Given an integer array nums of length n where all the integers of nums are in the range [1, n] and each integer appears **once** or **twice**, return *an array of all the integers that appears **twice***.\n",
        "\n",
        "You must write an algorithm that runs in O(n) time and uses only constant extra space.\n",
        "\n",
        "**Example 1:**\n",
        "\n",
        "**Input:** nums = [4,3,2,7,8,2,3,1]\n",
        "\n",
        "**Output:**\n",
        "\n",
        "[2,3]\n",
        "\n",
        "</aside>"
      ],
      "metadata": {
        "id": "sq2rb2Tp78SW"
      }
    },
    {
      "cell_type": "markdown",
      "source": [
        "To find all the integers that appear twice in the given array nums, we can utilize the fact that the integers are in the range [1, n]. Since each integer appears once or twice, if we mark the elements as negative based on their indices (using the value at the index as an index itself), the elements that appear twice will be the ones that are encountered as negative twice.\n",
        "\n",
        "Here's the step-by-step approach:\n",
        "\n",
        "- Initialize an empty list result to store the integers that appear twice.\n",
        "- Iterate over each element num in nums.\n",
        "- Calculate the absolute value of num as the index index.\n",
        "- If the element at index index is positive, mark it as negative by multiplying it with -1.\n",
        "- Otherwise, if the element at index index is negative, it means we have encountered it before, so it appears twice. Append index to the result list.\n",
        "\n",
        "- Return the result list.\n",
        "\n",
        "The time complexity of this approach is O(n) since we iterate over each element in nums once.\n",
        "\n",
        "Here's the code implementation in Python:"
      ],
      "metadata": {
        "id": "5d5d7qIv8Amq"
      }
    },
    {
      "cell_type": "code",
      "source": [
        "def find_duplicates(nums):\n",
        "    result = []\n",
        "\n",
        "    for num in nums:\n",
        "        index = abs(num)\n",
        "        if nums[index - 1] > 0:\n",
        "            nums[index - 1] *= -1\n",
        "        else:\n",
        "            result.append(index)\n",
        "\n",
        "    return result\n",
        "\n",
        "# Test case\n",
        "nums = [4, 3, 2, 7, 8, 2, 3, 1]\n",
        "print(find_duplicates(nums))\n",
        "# Output: [2, 3]\n"
      ],
      "metadata": {
        "colab": {
          "base_uri": "https://localhost:8080/"
        },
        "id": "QTYLsKGu4zRI",
        "outputId": "82fe3ed0-0465-4edb-e764-6b3c3d7d1982"
      },
      "execution_count": 4,
      "outputs": [
        {
          "output_type": "stream",
          "name": "stdout",
          "text": [
            "[2, 3]\n"
          ]
        }
      ]
    },
    {
      "cell_type": "markdown",
      "source": [
        "<aside>\n",
        "💡 **Question 7**\n",
        "\n",
        "Suppose an array of length n sorted in ascending order is **rotated** between 1 and n times. For example, the array nums = [0,1,2,4,5,6,7] might become:\n",
        "\n",
        "- [4,5,6,7,0,1,2] if it was rotated 4 times.\n",
        "- [0,1,2,4,5,6,7] if it was rotated 7 times.\n",
        "\n",
        "Notice that **rotating** an array [a[0], a[1], a[2], ..., a[n-1]] 1 time results in the array [a[n-1], a[0], a[1], a[2], ..., a[n-2]].\n",
        "\n",
        "Given the sorted rotated array nums of **unique** elements, return *the minimum element of this array*.\n",
        "\n",
        "You must write an algorithm that runs in O(log n) time.\n",
        "\n",
        "**Example 1:**\n",
        "\n",
        "**Input:** nums = [3,4,5,1,2]\n",
        "\n",
        "**Output:** 1\n",
        "\n",
        "**Explanation:**\n",
        "\n",
        "The original array was [1,2,3,4,5] rotated 3 times.\n",
        "\n",
        "</aside>"
      ],
      "metadata": {
        "id": "1EARK5pZ8d80"
      }
    },
    {
      "cell_type": "markdown",
      "source": [
        "To find the minimum element in a sorted rotated array nums of unique elements, we can utilize the binary search algorithm. The key observation is that the minimum element will always be on the \"pivot\" side of the array.\n",
        "\n",
        "Here's the step-by-step approach:\n",
        "\n",
        "- Initialize two pointers, left and right, to the start and end indices of the array.\n",
        "- Perform binary search until the left pointer is less than the right pointer.\n",
        "- Calculate the middle index as mid using the formula mid = left + (right - left) // 2.\n",
        "- Check if nums[mid] is greater than nums[right]. If true, it means the pivot element lies on the right side of mid. Set left = mid + 1.\n",
        "- Otherwise, the pivot element lies on the left side of mid or mid itself is the pivot. Set right = mid.\n",
        "\n",
        "- At the end of the binary search, the left pointer will point to the minimum element in the array.\n",
        "- Return nums[left] as the minimum element.\n",
        "\n",
        "The time complexity of this approach is O(log n) since we perform binary search on the array.\n",
        "\n",
        "Here's the code implementation in Python:"
      ],
      "metadata": {
        "id": "UjQ4MuaZ9Y6-"
      }
    },
    {
      "cell_type": "code",
      "source": [
        "def find_minimum(nums):\n",
        "    left = 0\n",
        "    right = len(nums) - 1\n",
        "\n",
        "    while left < right:\n",
        "        mid = left + (right - left) // 2\n",
        "\n",
        "        if nums[mid] > nums[right]:\n",
        "            left = mid + 1\n",
        "        else:\n",
        "            right = mid\n",
        "\n",
        "    return nums[left]\n",
        "\n",
        "# Test case\n",
        "nums = [3, 4, 5, 1, 2]\n",
        "print(find_minimum(nums))\n",
        "# Output: 1\n"
      ],
      "metadata": {
        "colab": {
          "base_uri": "https://localhost:8080/"
        },
        "id": "VIKvBrle8L1W",
        "outputId": "72db5a80-9b72-4e43-9e0e-a9897a467c60"
      },
      "execution_count": 5,
      "outputs": [
        {
          "output_type": "stream",
          "name": "stdout",
          "text": [
            "1\n"
          ]
        }
      ]
    },
    {
      "cell_type": "markdown",
      "source": [
        "<aside>\n",
        "💡 **Question 8**\n",
        "\n",
        "An integer array original is transformed into a **doubled** array changed by appending **twice the value** of every element in original, and then randomly **shuffling** the resulting array.\n",
        "\n",
        "Given an array changed, return original *if* changed *is a **doubled** array. If* changed *is not a **doubled** array, return an empty array. The elements in* original *may be returned in **any** order*.\n",
        "\n",
        "**Example 1:**\n",
        "\n",
        "**Input:** changed = [1,3,4,2,6,8]\n",
        "\n",
        "**Output:** [1,3,4]\n",
        "\n",
        "**Explanation:** One possible original array could be [1,3,4]:\n",
        "\n",
        "- Twice the value of 1 is 1 * 2 = 2.\n",
        "- Twice the value of 3 is 3 * 2 = 6.\n",
        "- Twice the value of 4 is 4 * 2 = 8.\n",
        "\n",
        "Other original arrays could be [4,3,1] or [3,1,4].\n",
        "\n",
        "</aside>\n",
        "\n",
        "__________________________________________________________________________________________________________________________________________________________"
      ],
      "metadata": {
        "id": "2YXSUn9l9sOI"
      }
    },
    {
      "cell_type": "markdown",
      "source": [
        "To solve this problem, we can use a hash set to keep track of the elements in the original array.\n",
        "\n",
        "Here's the step-by-step approach:\n",
        "\n",
        "- Create an empty hash set called originalSet.\n",
        "- Sort the changed array in non-decreasing order.\n",
        "- Iterate over each element num in the changed array:\n",
        "- If num/2 exists in the originalSet, remove num/2 from the set.\n",
        "- Otherwise, add num to the originalSet.\n",
        "\n",
        "- After iterating over all the elements, if the originalSet is empty, return an empty array since changed is not a doubled array.\n",
        "- Otherwise, convert the originalSet to a list and return the list as the original array.\n",
        "\n",
        "\n",
        "The time complexity of this approach is O(n log n) due to the sorting step, where n is the size of the changed array.\n",
        "\n",
        "Here's the code implementation in Python:"
      ],
      "metadata": {
        "id": "6wu5-iSU-Whn"
      }
    },
    {
      "cell_type": "code",
      "source": [
        "def find_original_array(changed):\n",
        "    originalSet = set()\n",
        "    changed.sort()\n",
        "\n",
        "    for num in changed:\n",
        "        if num / 2 in originalSet:\n",
        "            originalSet.remove(num / 2)\n",
        "        else:\n",
        "            originalSet.add(num)\n",
        "\n",
        "    if not originalSet:\n",
        "        return []\n",
        "\n",
        "    return list(originalSet)\n",
        "\n",
        "# Test case\n",
        "changed = [1, 3, 4, 2, 6, 8]\n",
        "print(find_original_array(changed))\n",
        "# Output: [1, 3, 4]\n"
      ],
      "metadata": {
        "colab": {
          "base_uri": "https://localhost:8080/"
        },
        "id": "Yna9miKP9kuu",
        "outputId": "5cc1aade-8612-496d-c758-af8980ef2c52"
      },
      "execution_count": 7,
      "outputs": [
        {
          "output_type": "stream",
          "name": "stdout",
          "text": [
            "[]\n"
          ]
        }
      ]
    },
    {
      "cell_type": "code",
      "source": [],
      "metadata": {
        "id": "j0s7AcBE-jV6"
      },
      "execution_count": null,
      "outputs": []
    }
  ]
}