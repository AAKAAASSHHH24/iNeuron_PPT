{
  "nbformat": 4,
  "nbformat_minor": 0,
  "metadata": {
    "colab": {
      "provenance": []
    },
    "kernelspec": {
      "name": "python3",
      "display_name": "Python 3"
    },
    "language_info": {
      "name": "python"
    }
  },
  "cells": [
    {
      "cell_type": "markdown",
      "source": [
        "<aside>\n",
        " ** Question 1 Given three integer arrays arr1, arr2 and arr3 sorted in strictly increasing order, return a sorted array of only the integers that appeared in all three arrays.**\n",
        "\n",
        "**Example 1:**\n",
        "\n",
        "Input: arr1 = [1,2,3,4,5], arr2 = [1,2,5,7,9], arr3 = [1,3,4,5,8]\n",
        "\n",
        "Output: [1,5]\n",
        "\n",
        "**Explanation:** Only 1 and 5 appeared in the three arrays.\n",
        "\n",
        "</aside>"
      ],
      "metadata": {
        "id": "0xMFcG1GLm_C"
      }
    },
    {
      "cell_type": "markdown",
      "source": [
        "To find the common elements in three sorted arrays, we can utilize a technique similar to the merge step of the Merge Sort algorithm. By comparing the elements from all three arrays and advancing the pointers accordingly, we can identify the common elements efficiently.\n",
        "\n",
        "Here's an explanation of the approach:\n",
        "\n",
        "- Initialize three pointers, p1, p2, and p3, to the starting indices of arr1, arr2, and arr3 respectively.\n",
        "- Create an empty list, result, to store the common elements.\n",
        "While p1, p2, and p3 are within the bounds of their respective arrays:\n",
        "- Compare the elements arr1[p1], arr2[p2], and arr3[p3].\n",
        "- If all three elements are equal, append the element to result and advance all three pointers.\n",
        "- If any element is smaller than the others, advance the pointer of the array containing that element.\n",
        "\n",
        "Return the result list containing the common elements.\n",
        "The time complexity of this approach is O(n), where n is the total number of elements in the three arrays. Since we only iterate once over the arrays, the solution is optimized.\n",
        "\n",
        "Here's the optimized code in Python:"
      ],
      "metadata": {
        "id": "abIvqjlMMJzF"
      }
    },
    {
      "cell_type": "code",
      "execution_count": 1,
      "metadata": {
        "colab": {
          "base_uri": "https://localhost:8080/"
        },
        "id": "7CHETaJjLeJG",
        "outputId": "af4bd062-5928-4053-95ca-eaef6e810efb"
      },
      "outputs": [
        {
          "output_type": "stream",
          "name": "stdout",
          "text": [
            "[1, 5]\n"
          ]
        }
      ],
      "source": [
        "def find_common_elements(arr1, arr2, arr3):\n",
        "    p1, p2, p3 = 0, 0, 0  # Pointers to track the current indices\n",
        "    \n",
        "    result = []  # List to store common elements\n",
        "    \n",
        "    while p1 < len(arr1) and p2 < len(arr2) and p3 < len(arr3):\n",
        "        if arr1[p1] == arr2[p2] == arr3[p3]:\n",
        "            result.append(arr1[p1])\n",
        "            p1 += 1\n",
        "            p2 += 1\n",
        "            p3 += 1\n",
        "        elif arr1[p1] < arr2[p2]:\n",
        "            p1 += 1\n",
        "        elif arr2[p2] < arr3[p3]:\n",
        "            p2 += 1\n",
        "        else:\n",
        "            p3 += 1\n",
        "    \n",
        "    return result\n",
        "\n",
        "# Test case\n",
        "arr1 = [1, 2, 3, 4, 5]\n",
        "arr2 = [1, 2, 5, 7, 9]\n",
        "arr3 = [1, 3, 4, 5, 8]\n",
        "\n",
        "print(find_common_elements(arr1, arr2, arr3))\n",
        "# Output: [1, 5]\n"
      ]
    },
    {
      "cell_type": "markdown",
      "source": [
        "<aside>\n",
        "💡 **Question 2**\n",
        "\n",
        "Given two **0-indexed** integer arrays nums1 and nums2, return *a list* answer *of size* 2 *where:*\n",
        "\n",
        "- answer[0] *is a list of all **distinct** integers in* nums1 *which are **not** present in* nums2*.*\n",
        "- answer[1] *is a list of all **distinct** integers in* nums2 *which are **not** present in* nums1.\n",
        "\n",
        "**Note** that the integers in the lists may be returned in **any** order.\n",
        "\n",
        "**Example 1:**\n",
        "\n",
        "**Input:** nums1 = [1,2,3], nums2 = [2,4,6]\n",
        "\n",
        "**Output:** [[1,3],[4,6]]\n",
        "\n",
        "**Explanation:**\n",
        "\n",
        "For nums1, nums1[1] = 2 is present at index 0 of nums2, whereas nums1[0] = 1 and nums1[2] = 3 are not present in nums2. Therefore, answer[0] = [1,3].\n",
        "\n",
        "For nums2, nums2[0] = 2 is present at index 1 of nums1, whereas nums2[1] = 4 and nums2[2] = 6 are not present in nums2. Therefore, answer[1] = [4,6].\n",
        "\n",
        "</aside>"
      ],
      "metadata": {
        "id": "VQecnvg-QHQZ"
      }
    },
    {
      "cell_type": "markdown",
      "source": [
        "To find the distinct integers that are present in one array but not in the other, we can use sets to efficiently determine the unique elements. By converting the arrays to sets, we can perform set operations to find the elements that are present in one set but not in the other.\n",
        "\n",
        "Here's an explanation of the approach:\n",
        "\n",
        "- Convert nums1 and nums2 into sets, set1 and set2 respectively.\n",
        "- Find the set difference between set1 and set2 to obtain the distinct integers in nums1 that are not present in nums2. Store the result in result1.\n",
        "- Find the set difference between set2 and set1 to obtain the distinct integers in nums2 that are not present in nums1. Store the result in result2.\n",
        "- Convert result1 and result2 back to lists.\n",
        "- Return [result1, result2] as the answer.\n",
        "\n",
        "The time complexity of this approach is O(n+m), where n and m are the lengths of nums1 and nums2 respectively. Converting the arrays to sets takes O(n+m) time, and finding the set differences also takes O(n+m) time. Thus, the overall solution is optimized."
      ],
      "metadata": {
        "id": "1aGzaFkPQRdL"
      }
    },
    {
      "cell_type": "code",
      "source": [
        "def find_disjoint_arrays(nums1, nums2):\n",
        "    set1 = set(nums1)\n",
        "    set2 = set(nums2)\n",
        "\n",
        "    result1 = list(set1 - set2)\n",
        "    result2 = list(set2 - set1)\n",
        "\n",
        "    return [result1, result2]\n",
        "\n",
        "# Test case\n",
        "nums1 = [1, 2, 3]\n",
        "nums2 = [2, 4, 6]\n",
        "\n",
        "print(find_disjoint_arrays(nums1, nums2))\n",
        "# Output: [[1, 3], [4, 6]]\n"
      ],
      "metadata": {
        "colab": {
          "base_uri": "https://localhost:8080/"
        },
        "id": "q6fL_PihMUUY",
        "outputId": "cb978ebd-b6a0-42a1-bbd5-929a40a6e172"
      },
      "execution_count": 2,
      "outputs": [
        {
          "output_type": "stream",
          "name": "stdout",
          "text": [
            "[[1, 3], [4, 6]]\n"
          ]
        }
      ]
    },
    {
      "cell_type": "markdown",
      "source": [
        "In the given example, the output is [[1, 3], [4, 6]], which represents the distinct integers that are present in nums1 but not in nums2, and vice versa"
      ],
      "metadata": {
        "id": "r9iZN-ZVQ3Fs"
      }
    },
    {
      "cell_type": "markdown",
      "source": [
        "<aside>\n",
        "💡 **Question 3**\n",
        "Given a 2D integer array matrix, return *the **transpose** of* matrix.\n",
        "\n",
        "The **transpose** of a matrix is the matrix flipped over its main diagonal, switching the matrix's row and column indices.\n",
        "\n",
        "**Example 1:**\n",
        "\n",
        "Input: matrix = [[1,2,3],[4,5,6],[7,8,9]]\n",
        "\n",
        "Output: [[1,4,7],[2,5,8],[3,6,9]]\n",
        "\n",
        "</aside>"
      ],
      "metadata": {
        "id": "3rRl97c1RJ4j"
      }
    },
    {
      "cell_type": "markdown",
      "source": [
        "To find the transpose of a matrix, we need to swap the elements along the main diagonal of the matrix. The main diagonal of a matrix consists of the elements where the row and column indices are the same.\n",
        "\n",
        "Here's an explanation of the approach:\n",
        "\n",
        "- Initialize an empty 2D list, transpose, to store the transposed matrix.\n",
        "- Iterate over the rows of the original matrix.\n",
        "- For each row, iterate over the columns.\n",
        "- Assign the element at matrix[row][column] to transpose[column][row]. Note the swapping of the row and column indices.\n",
        "- Return the transpose matrix.\n",
        "\n",
        "The time complexity of this approach is O(n * m), where n is the number of rows and m is the number of columns in the matrix. Since we iterate over all the elements in the matrix once, the solution is optimized."
      ],
      "metadata": {
        "id": "74vi4kYYSyaO"
      }
    },
    {
      "cell_type": "code",
      "source": [
        "def transpose_matrix(matrix):\n",
        "    rows = len(matrix)\n",
        "    cols = len(matrix[0])\n",
        "\n",
        "    transpose = [[0 for _ in range(rows)] for _ in range(cols)]\n",
        "\n",
        "    for row in range(rows):\n",
        "        for col in range(cols):\n",
        "            transpose[col][row] = matrix[row][col]\n",
        "\n",
        "    return transpose\n",
        "\n",
        "# Test case\n",
        "matrix = [[1, 2, 3], [4, 5, 6], [7, 8, 9]]\n",
        "\n",
        "print(transpose_matrix(matrix))\n",
        "# Output: [[1, 4, 7], [2, 5, 8], [3, 6, 9]]\n"
      ],
      "metadata": {
        "colab": {
          "base_uri": "https://localhost:8080/"
        },
        "id": "tnWNMovUQpHn",
        "outputId": "8d081deb-f300-48e1-f0e8-0eaa3f615e51"
      },
      "execution_count": 3,
      "outputs": [
        {
          "output_type": "stream",
          "name": "stdout",
          "text": [
            "[[1, 4, 7], [2, 5, 8], [3, 6, 9]]\n"
          ]
        }
      ]
    },
    {
      "cell_type": "markdown",
      "source": [
        "In the given example, the output is [[1, 4, 7], [2, 5, 8], [3, 6, 9]], which represents the transpose of the original matrix."
      ],
      "metadata": {
        "id": "k3q2Y3X0TQf2"
      }
    },
    {
      "cell_type": "markdown",
      "source": [
        "<aside>\n",
        "💡 **Question 4 Given an integer array nums of 2n integers, group these integers into n pairs (a1, b1), (a2, b2), ..., (an, bn) such that the sum of min(ai, bi) for all i is maximized . Return *the maximized sum**.\n",
        "\n",
        "**Example 1:**\n",
        "\n",
        "Input: nums = [1,4,3,2]\n",
        "\n",
        "Output: 4\n",
        "\n",
        "**Explanation:** All possible pairings (ignoring the ordering of elements) are:\n",
        "\n",
        "1. (1, 4), (2, 3) -> min(1, 4) + min(2, 3) = 1 + 2 = 3\n",
        "\n",
        "2. (1, 3), (2, 4) -> min(1, 3) + min(2, 4) = 1 + 2 = 3\n",
        "\n",
        "3. (1, 2), (3, 4) -> min(1, 2) + min(3, 4) = 1 + 3 = 4\n",
        "\n",
        "So the maximum possible sum is 4.\n",
        "\n",
        "</aside>\n",
        "\n",
        "________________________________________________________________________________________________________________________________________________________________"
      ],
      "metadata": {
        "id": "I8vH4z3mTwrG"
      }
    },
    {
      "cell_type": "markdown",
      "source": [
        "To maximize the sum of the minimum values in pairs, we need to pair the smallest values together and the largest values together. This way, we ensure that the smaller numbers are not wasted in pairs with larger numbers.\n",
        "\n",
        "Here's an explanation of the approach:\n",
        "\n",
        "- Sort the nums array in ascending order.\n",
        "- Initialize a variable max_sum to store the maximum sum.\n",
        "- Iterate over the nums array with a step size of 2.\n",
        "- For each iteration, add the minimum value between the current element and the next element to max_sum.\n",
        "\n",
        "- Return max_sum.\n",
        "\n",
        "The time complexity of this approach is O(n log n) due to the sorting operation. Since we only iterate once over the sorted array, the solution is optimized.\n",
        "\n",
        "Here's the optimized code in Python:"
      ],
      "metadata": {
        "id": "Ztkt3CvHUAmu"
      }
    },
    {
      "cell_type": "code",
      "source": [
        "def array_pair_sum(nums):\n",
        "    nums.sort()  # Sort the array in ascending order\n",
        "\n",
        "    max_sum = 0\n",
        "    for i in range(0, len(nums), 2):\n",
        "        max_sum += nums[i]\n",
        "\n",
        "    return max_sum\n",
        "\n",
        "# Test case\n",
        "nums = [1, 4, 3, 2]\n",
        "\n",
        "print(array_pair_sum(nums))\n",
        "# Output: 4\n"
      ],
      "metadata": {
        "colab": {
          "base_uri": "https://localhost:8080/"
        },
        "id": "7BAA_c7mTHFP",
        "outputId": "fa89f12e-fe05-449b-8e2e-43aadf7390a5"
      },
      "execution_count": 4,
      "outputs": [
        {
          "output_type": "stream",
          "name": "stdout",
          "text": [
            "4\n"
          ]
        }
      ]
    },
    {
      "cell_type": "markdown",
      "source": [
        "In the given example, the output is 4, which represents the maximum sum of the minimum values in pairs. The pairs that maximize the sum are (1, 2) and (3, 4), resulting in a sum of 1 + 3 = 4."
      ],
      "metadata": {
        "id": "rpe-fWl5UfPK"
      }
    },
    {
      "cell_type": "markdown",
      "source": [
        "💡 **Question 5**\n",
        "You have n coins and you want to build a staircase with these coins. The staircase consists of k rows where the ith row has exactly i coins. The last row of the staircase **may be** incomplete.\n",
        "\n",
        "Given the integer n, return *the number of **complete rows** of the staircase you will build*.\n",
        "**Input:** n = 5\n",
        "\n",
        "**Output:** 2\n",
        "\n",
        "**Explanation:** Because the 3rd row is incomplete, we return 2."
      ],
      "metadata": {
        "id": "7K_htiGkZFph"
      }
    },
    {
      "cell_type": "markdown",
      "source": [
        "To determine the number of complete rows of a staircase that can be built using n coins, we can utilize a binary search approach. We want to find the maximum number of complete rows that can be formed such that their total number of coins is less than or equal to n.\n",
        "\n",
        "Here's an explanation of the approach:\n",
        "\n",
        "- Initialize two variables, left and right, to represent the range of possible row counts. left is set to 0, and right is set to n.\n",
        "- Perform a binary search on the range [left, right] to find the maximum number of complete rows.\n",
        "- While left is less than or equal to right:\n",
        "- Calculate the middle value as mid = left + (right - left) // 2.\n",
        "- Calculate the total number of coins that can be formed using mid rows as total = (mid * (mid + 1)) // 2.\n",
        "- If total is less than or equal to n, update left = mid + 1 since we can potentially form more complete rows.\n",
        "- Otherwise, update right = mid - 1 since we cannot form enough complete rows.\n",
        "\n",
        "- Return right as the maximum number of complete rows.\n",
        "\n",
        "The time complexity of this approach is O(log n) since we perform a binary search. Thus, the solution is optimized."
      ],
      "metadata": {
        "id": "EedmVPSlZLju"
      }
    },
    {
      "cell_type": "code",
      "source": [
        "def arrange_coins(n):\n",
        "    left, right = 0, n\n",
        "\n",
        "    while left <= right:\n",
        "        mid = left + (right - left) // 2\n",
        "        total = (mid * (mid + 1)) // 2\n",
        "\n",
        "        if total <= n:\n",
        "            left = mid + 1\n",
        "        else:\n",
        "            right = mid - 1\n",
        "\n",
        "    return right\n",
        "\n",
        "# Test case\n",
        "n = 5\n",
        "\n",
        "print(arrange_coins(n))\n",
        "# Output: 2\n"
      ],
      "metadata": {
        "colab": {
          "base_uri": "https://localhost:8080/"
        },
        "id": "qQAZ_yZdUVBj",
        "outputId": "057e4a69-41dd-49ce-ce4b-d53ced737339"
      },
      "execution_count": 5,
      "outputs": [
        {
          "output_type": "stream",
          "name": "stdout",
          "text": [
            "2\n"
          ]
        }
      ]
    },
    {
      "cell_type": "markdown",
      "source": [
        "In the given example, the output is 2, which represents the number of complete rows that can be built using 5 coins. Since the third row is incomplete, we return 2 as the answer."
      ],
      "metadata": {
        "id": "d8L-a2jkZgD1"
      }
    },
    {
      "cell_type": "markdown",
      "source": [
        "<aside>\n",
        "💡 **Question 6**\n",
        "Given an integer array nums sorted in **non-decreasing** order, return *an array of **the squares of each number** sorted in non-decreasing order*.\n",
        "\n",
        "**Example 1:**\n",
        "\n",
        "Input: nums = [-4,-1,0,3,10]\n",
        "\n",
        "Output: [0,1,9,16,100]\n",
        "\n",
        "**Explanation:** After squaring, the array becomes [16,1,0,9,100].\n",
        "After sorting, it becomes [0,1,9,16,100]\n",
        "\n",
        "</aside>"
      ],
      "metadata": {
        "id": "lfXUqEVWZn4-"
      }
    },
    {
      "cell_type": "markdown",
      "source": [
        "To square each number in a sorted array nums and obtain the resulting array in non-decreasing order, we can use a two-pointer approach. We can iterate over the array from both ends, comparing the absolute values of the elements, and fill a new array with the squares in the appropriate order.\n",
        "\n",
        "Here's an explanation of the approach:\n",
        "\n",
        "- Initialize two pointers, left and right, pointing to the start and end of the nums array respectively.\n",
        "- Initialize an empty result array, squares, to store the squares in non-decreasing order.\n",
        "- While left is less than or equal to right:\n",
        "- Compare the absolute values of nums[left] and nums[right].\n",
        "- If the absolute value of nums[left] is greater than or equal to the absolute value of nums[right]:\n",
        "- Square nums[left] and append the result to the beginning of squares.\n",
        "- Move the left pointer one step to the right.\n",
        "\n",
        "Otherwise:\n",
        " \n",
        " - Square nums[right] and append the result to the beginning of squares.\n",
        " - Move the right pointer one step to the left.\n",
        "\n",
        "\n",
        "- Return squares in non-decreasing order.\n",
        "\n",
        "The time complexity of this approach is O(n), where n is the length of the nums array. Since we iterate over the array once, the solution is optimized.\n",
        "\n",
        "Here's the optimized code in Python:"
      ],
      "metadata": {
        "id": "0ZHBkFfZZxRs"
      }
    },
    {
      "cell_type": "code",
      "source": [
        "def sorted_squares(nums):\n",
        "    n = len(nums)\n",
        "    left = 0\n",
        "    right = n - 1\n",
        "    squares = [0] * n\n",
        "\n",
        "    while left <= right:\n",
        "        if abs(nums[left]) >= abs(nums[right]):\n",
        "            squares[right - left] = nums[left] ** 2\n",
        "            left += 1\n",
        "        else:\n",
        "            squares[right - left] = nums[right] ** 2\n",
        "            right -= 1\n",
        "\n",
        "    return squares\n",
        "\n",
        "# Test case\n",
        "nums = [-4, -1, 0, 3, 10]\n",
        "\n",
        "print(sorted_squares(nums))\n",
        "# Output: [0, 1, 9, 16, 100]\n"
      ],
      "metadata": {
        "colab": {
          "base_uri": "https://localhost:8080/"
        },
        "id": "mwfD8Q6aZcFc",
        "outputId": "099c305b-fd08-49ca-c4f9-7dc5c3c3e1c5"
      },
      "execution_count": 6,
      "outputs": [
        {
          "output_type": "stream",
          "name": "stdout",
          "text": [
            "[0, 1, 9, 16, 100]\n"
          ]
        }
      ]
    },
    {
      "cell_type": "markdown",
      "source": [
        "In the given example, the output is [0, 1, 9, 16, 100], which represents the squares of each number in the nums array, sorted in non-decreasing order. After squaring the numbers, the array becomes [16, 1, 0, 9, 100]. After sorting, it becomes [0, 1, 9, 16, 100]."
      ],
      "metadata": {
        "id": "tdtUZb3QbBUZ"
      }
    },
    {
      "cell_type": "markdown",
      "source": [
        "<aside>\n",
        "💡 **Question 7**\n",
        "You are given an m x n matrix M initialized with all 0's and an array of operations ops, where ops[i] = [ai, bi] means M[x][y] should be incremented by one for all 0 <= x < ai and 0 <= y < bi.\n",
        "\n",
        "Count and return *the number of maximum integers in the matrix after performing all the operations*\n",
        "\n",
        "**Example 1:**\n",
        "\n",
        "\n",
        "**Input:** m = 3, n = 3, ops = [[2,2],[3,3]]\n",
        "\n",
        "**Output:** 4\n",
        "\n",
        "**Explanation:** The maximum integer in M is 2, and there are four of it in M. So return 4.\n",
        "\n",
        "</aside>"
      ],
      "metadata": {
        "id": "DkOqbQFZbQp3"
      }
    },
    {
      "cell_type": "markdown",
      "source": [
        "To count the number of maximum integers in the matrix M after performing all the operations specified by the array ops, we can observe that the maximum integers will be located in the top-left corner of the matrix. The number of maximum integers is determined by the minimum values in the ops array.\n",
        "\n",
        "Here's an explanation of the approach:\n",
        "\n",
        "- Initialize variables min_row and min_col to track the minimum values for the row and column dimensions respectively.\n",
        "- Iterate over each operation in the ops array.\n",
        "- Update min_row with the minimum of min_row and ops[i][0].\n",
        "- Update min_col with the minimum of min_col and ops[i][1].\n",
        "\n",
        "- Return the product of min_row and min_col.\n",
        "\n",
        "The time complexity of this approach is O(n), where n is the length of the ops array. Since we iterate over the array once, the solution is optimized.\n",
        "\n",
        "Here's the optimized code in Python:"
      ],
      "metadata": {
        "id": "NGZGArZabdSZ"
      }
    },
    {
      "cell_type": "code",
      "source": [
        "def max_count(m, n, ops):\n",
        "    min_row = m\n",
        "    min_col = n\n",
        "\n",
        "    for op in ops:\n",
        "        min_row = min(min_row, op[0])\n",
        "        min_col = min(min_col, op[1])\n",
        "\n",
        "    return min_row * min_col\n",
        "\n",
        "# Test case\n",
        "m = 3\n",
        "n = 3\n",
        "ops = [[2, 2], [3, 3]]\n",
        "\n",
        "print(max_count(m, n, ops))\n",
        "# Output: 4\n"
      ],
      "metadata": {
        "colab": {
          "base_uri": "https://localhost:8080/"
        },
        "id": "euc792XUanta",
        "outputId": "5c71f40a-56e5-4e84-c42d-9e9c5468e65f"
      },
      "execution_count": 7,
      "outputs": [
        {
          "output_type": "stream",
          "name": "stdout",
          "text": [
            "4\n"
          ]
        }
      ]
    },
    {
      "cell_type": "markdown",
      "source": [
        "In the given example, the output is 4, which represents the number of maximum integers in the matrix M after performing the operations specified by ops. The minimum value for the row dimension is 2, and the minimum value for the column dimension is 2. Thus, the product is 2 * 2 = 4, indicating that there are four maximum integers in the matrix."
      ],
      "metadata": {
        "id": "Gs53E6y_btF5"
      }
    },
    {
      "cell_type": "markdown",
      "source": [
        "<aside>\n",
        "💡 **Question 8**\n",
        "\n",
        "Given the array nums consisting of 2n elements in the form [x1,x2,...,xn,y1,y2,...,yn].\n",
        "\n",
        "*Return the array in the form* [x1,y1,x2,y2,...,xn,yn].\n",
        "\n",
        "**Example 1:**\n",
        "\n",
        "**Input:** nums = [2,5,1,3,4,7], n = 3\n",
        "\n",
        "**Output:** [2,3,5,4,1,7]\n",
        "\n",
        "**Explanation:** Since x1=2, x2=5, x3=1, y1=3, y2=4, y3=7 then the answer is [2,3,5,4,1,7].\n",
        "\n",
        "</aside>\n",
        "\n",
        "________________________________________________________________________________________________________________________________________________________________"
      ],
      "metadata": {
        "id": "V0Yyvwp1b3PP"
      }
    },
    {
      "cell_type": "markdown",
      "source": [
        "To rearrange the array nums in the specified form [x1, y1, x2, y2, ..., xn, yn], we can use a simple approach. We'll split the array into two halves, the first half containing the elements from index 0 to n-1, and the second half containing the elements from index n to 2n-1. Then, we'll interleave the elements from both halves to form the resulting array.\n",
        "\n",
        "Here's an explanation of the approach:\n",
        "\n",
        "- Initialize an empty array result to store the rearranged elements.\n",
        "- Iterate from i = 0 to n-1:\n",
        "- Append nums[i] to result.\n",
        "- Append nums[i + n] to result.\n",
        "\n",
        "- Return result.\n",
        "\n",
        "The time complexity of this approach is O(n), where n is the length of the nums array. Since we iterate over the array once, the solution is optimized.\n",
        "\n",
        "Here's the optimized code in Python:"
      ],
      "metadata": {
        "id": "-G1r1vyycHD9"
      }
    },
    {
      "cell_type": "code",
      "source": [
        "def shuffle(nums, n):\n",
        "    result = []\n",
        "\n",
        "    for i in range(n):\n",
        "        result.append(nums[i])\n",
        "        result.append(nums[i + n])\n",
        "\n",
        "    return result\n",
        "\n",
        "# Test case\n",
        "nums = [2, 5, 1, 3, 4, 7]\n",
        "n = 3\n",
        "\n",
        "print(shuffle(nums, n))\n",
        "# Output: [2, 3, 5, 4, 1, 7]\n"
      ],
      "metadata": {
        "colab": {
          "base_uri": "https://localhost:8080/"
        },
        "id": "8NMThxVObplX",
        "outputId": "8199a2e8-75de-4668-d180-ce1a44ba90be"
      },
      "execution_count": 8,
      "outputs": [
        {
          "output_type": "stream",
          "name": "stdout",
          "text": [
            "[2, 3, 5, 4, 1, 7]\n"
          ]
        }
      ]
    },
    {
      "cell_type": "code",
      "source": [],
      "metadata": {
        "id": "EhZlZX_xcUJ5"
      },
      "execution_count": null,
      "outputs": []
    }
  ]
}