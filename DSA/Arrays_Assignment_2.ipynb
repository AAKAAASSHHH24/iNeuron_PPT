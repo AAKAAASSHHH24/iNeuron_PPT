{
  "nbformat": 4,
  "nbformat_minor": 0,
  "metadata": {
    "colab": {
      "provenance": []
    },
    "kernelspec": {
      "name": "python3",
      "display_name": "Python 3"
    },
    "language_info": {
      "name": "python"
    }
  },
  "cells": [
    {
      "cell_type": "markdown",
      "source": [
        "<aside>\n",
        "💡 **Question 1**\n",
        "Given an integer array nums of 2n integers, group these integers into n pairs (a1, b1), (a2, b2),..., (an, bn) such that the sum of min(ai, bi) for all i is maximized. Return the maximized sum.\n",
        "\n",
        "**Example 1:**\n",
        "Input: nums = [1,4,3,2]\n",
        "Output: 4\n",
        "\n",
        "**Explanation:** All possible pairings (ignoring the ordering of elements) are:\n",
        "\n",
        "1. (1, 4), (2, 3) -> min(1, 4) + min(2, 3) = 1 + 2 = 3\n",
        "2. (1, 3), (2, 4) -> min(1, 3) + min(2, 4) = 1 + 2 = 3\n",
        "3. (1, 2), (3, 4) -> min(1, 2) + min(3, 4) = 1 + 3 = 4\n",
        "So the maximum possible sum is 4\n",
        "</aside>"
      ],
      "metadata": {
        "id": "pj2FwVBCGZTg"
      }
    },
    {
      "cell_type": "code",
      "execution_count": 1,
      "metadata": {
        "id": "w2q_rBkRGRnA"
      },
      "outputs": [],
      "source": [
        "def arrayPairSum(nums):\n",
        "    nums.sort()  # Sort the array in ascending order\n",
        "    max_sum = 0\n",
        "    for i in range(0, len(nums), 2):\n",
        "        max_sum += nums[i]\n",
        "    return max_sum\n"
      ]
    },
    {
      "cell_type": "markdown",
      "source": [
        "Let's walk through the code:\n",
        "\n",
        "- We start by sorting the input array nums in ascending order using the sort() method. This ensures that the smaller numbers are grouped together.\n",
        "\n",
        "- We initialize a variable max_sum to keep track of the maximum sum.\n",
        "- We iterate over the sorted array using a step size of 2 (by using range(0, len(nums), 2)), which allows us to consider adjacent elements.\n",
        "- In each iteration, we add the current element (nums[i]) to max_sum.\n",
        "- Finally, we return max_sum, which represents the maximum sum of the minimum values in each pair.\n",
        "\n",
        "Now, if we test this code with the example you provided:"
      ],
      "metadata": {
        "id": "FoMej78BGyFM"
      }
    },
    {
      "cell_type": "code",
      "source": [
        "nums = [1, 4, 3, 2]\n",
        "print(arrayPairSum(nums))\n"
      ],
      "metadata": {
        "colab": {
          "base_uri": "https://localhost:8080/"
        },
        "id": "8ZvO1N5eGt_c",
        "outputId": "c9ec0cab-6892-4296-e4a3-e7ee19ccb2b6"
      },
      "execution_count": 2,
      "outputs": [
        {
          "output_type": "stream",
          "name": "stdout",
          "text": [
            "4\n"
          ]
        }
      ]
    },
    {
      "cell_type": "markdown",
      "source": [
        "Question 2\n",
        "Alice has n candies, where the ith candy is of type candyType[i]. Alice noticed that she started to gain weight, so she visited a doctor. \n",
        "\n",
        "The doctor advised Alice to only eat n / 2 of the candies she has (n is always even). Alice likes her candies very much, and she wants to eat the maximum number of different types of candies while still following the doctor's advice. \n",
        "\n",
        "Given the integer array candyType of length n, return the maximum number of different types of candies she can eat if she only eats n / 2 of them.\n",
        "\n",
        "Example 1:\n",
        "Input: candyType = [1,1,2,2,3,3]\n",
        "Output: 3\n",
        "\n",
        "Explanation: Alice can only eat 6 / 2 = 3 candies. Since there are only 3 types, she can eat one of each type."
      ],
      "metadata": {
        "id": "NOEJG3WTHzdr"
      }
    },
    {
      "cell_type": "markdown",
      "source": [
        "To solve this problem, we can use a set to keep track of the unique types of candies. Since Alice can only eat n/2 candies, we can stop adding candies to the set once its size reaches n/2 or the total number of unique candies available, whichever is smaller.\n",
        "\n",
        "Here's the optimized code to solve this problem:"
      ],
      "metadata": {
        "id": "KlzNUYn0H7Ui"
      }
    },
    {
      "cell_type": "code",
      "source": [
        "def distributeCandies(candyType):\n",
        "    max_candies = len(candyType) // 2\n",
        "    unique_candies = set()\n",
        "\n",
        "    for candy in candyType:\n",
        "        unique_candies.add(candy)\n",
        "        if len(unique_candies) == max_candies:\n",
        "            break\n",
        "\n",
        "    return len(unique_candies)\n"
      ],
      "metadata": {
        "id": "uLLNDADHHEFn"
      },
      "execution_count": 3,
      "outputs": []
    },
    {
      "cell_type": "markdown",
      "source": [
        "Let's go through the code:\n",
        "\n",
        "- We calculate max_candies by dividing the length of candyType by 2. This represents the maximum number of candies Alice can eat.\n",
        "- We initialize an empty set called unique_candies to store the unique types of candies.\n",
        "- We iterate over candyType, and for each candy, we add it to the unique_candies set using the add() method.\n",
        "- After adding a candy, we check if the size of unique_candies is equal to max_candies. If it is, it means Alice has reached the maximum number of unique candies she can eat, so we break out of the loop.\n",
        "- Finally, we return the length of unique_candies, which represents the maximum number of different types of candies Alice can eat.\n",
        "Now, let's test the code with the example you provided:"
      ],
      "metadata": {
        "id": "ZdsLOLrTIDUp"
      }
    },
    {
      "cell_type": "code",
      "source": [
        "candyType = [1, 1, 2, 2, 3, 3]\n",
        "print(distributeCandies(candyType))\n"
      ],
      "metadata": {
        "colab": {
          "base_uri": "https://localhost:8080/"
        },
        "id": "9FBa1mTBH-ji",
        "outputId": "803d866f-3aac-4446-ec75-efe0ff16032a"
      },
      "execution_count": 4,
      "outputs": [
        {
          "output_type": "stream",
          "name": "stdout",
          "text": [
            "3\n"
          ]
        }
      ]
    },
    {
      "cell_type": "markdown",
      "source": [
        "**Question 3\n",
        "We define a harmonious array as an array where the difference between its maximum value\n",
        "and its minimum value is exactly 1.**\n",
        "\n",
        "Given an integer array nums, return the length of its longest harmonious subsequence\n",
        "among all its possible subsequences.\n",
        "\n",
        "A subsequence of an array is a sequence that can be derived from the array by deleting some or no elements without changing the order of the remaining elements.**\n",
        "\n",
        "Example 1:\n",
        "Input: nums = [1,3,2,2,5,2,3,7]\n",
        "Output: 5\n",
        "\n",
        "Explanation: The longest harmonious subsequence is [3,2,2,2,3]."
      ],
      "metadata": {
        "id": "cw_eNrIhIltT"
      }
    },
    {
      "cell_type": "markdown",
      "source": [
        "To find the length of the longest harmonious subsequence, we can iterate over the array nums and keep track of the frequency of each number using a dictionary. Then, for each number in the dictionary, we check if its complement (number + 1 or number - 1) also exists in the dictionary and calculate the length of the harmonious subsequence.\n",
        "\n",
        "Here's the optimized code to solve this problem:"
      ],
      "metadata": {
        "id": "JmeNuTkoI2Bq"
      }
    },
    {
      "cell_type": "code",
      "source": [
        "from collections import defaultdict\n",
        "\n",
        "def findLHS(nums):\n",
        "    freq = defaultdict(int)\n",
        "    max_length = 0\n",
        "\n",
        "    for num in nums:\n",
        "        freq[num] += 1\n",
        "\n",
        "    for num in freq:\n",
        "        if num + 1 in freq:\n",
        "            max_length = max(max_length, freq[num] + freq[num + 1])\n",
        "\n",
        "    return max_length\n"
      ],
      "metadata": {
        "id": "362F_TGVIRXM"
      },
      "execution_count": 5,
      "outputs": []
    },
    {
      "cell_type": "markdown",
      "source": [
        "Let's walk through the code:\n",
        "\n",
        "- We import the defaultdict from the collections module. This dictionary subclass provides a default value for keys that are not present in the dictionary.\n",
        "- We initialize a dictionary called freq using defaultdict(int), which ensures that the default value for any key is 0.\n",
        "- We iterate over nums and increment the frequency of each number in the freq dictionary.\n",
        "- After counting the frequencies, we iterate over the keys in the freq dictionary.\n",
        "- For each key num, we check if its complement (num + 1) exists in the freq dictionary.\n",
        "- If the complement exists, we update max_length to be the maximum of its current value and the sum of the frequencies of num and its complement (freq[num] + freq[num + 1]).\n",
        "- Finally, we return max_length, which represents the length of the longest harmonious subsequence.\n",
        "\n",
        "Now, let's test the code with the example you provided:"
      ],
      "metadata": {
        "id": "jPCHTh8RJBSO"
      }
    },
    {
      "cell_type": "code",
      "source": [
        "nums = [1, 3, 2, 2, 5, 2, 3, 7]\n",
        "print(findLHS(nums))\n"
      ],
      "metadata": {
        "colab": {
          "base_uri": "https://localhost:8080/"
        },
        "id": "E41eHDwzI50E",
        "outputId": "66cfefc0-ad3b-4436-847a-6e059bea4bae"
      },
      "execution_count": 6,
      "outputs": [
        {
          "output_type": "stream",
          "name": "stdout",
          "text": [
            "5\n"
          ]
        }
      ]
    },
    {
      "cell_type": "markdown",
      "source": [
        "Question 4\n",
        "You have a long flowerbed in which some of the plots are planted, and some are not.\n",
        "However, flowers cannot be planted in adjacent plots.\n",
        "Given an integer array flowerbed containing 0's and 1's, where 0 means empty and 1 means not empty, and an integer n, return true if n new flowers can be planted in the flowerbed without violating the no-adjacent-flowers rule and false otherwise.\n",
        "\n",
        "Example 1:\n",
        "Input: flowerbed = [1,0,0,0,1], n = 1\n",
        "Output: true"
      ],
      "metadata": {
        "id": "Jo_VMJocJXO4"
      }
    },
    {
      "cell_type": "markdown",
      "source": [
        "To determine whether n new flowers can be planted in the flowerbed without violating the no-adjacent-flowers rule, we can iterate over the flowerbed and check each plot's availability for planting. We'll keep track of the number of available adjacent empty plots and update the flowerbed accordingly.\n",
        "\n",
        "Here's the optimized code to solve this problem:"
      ],
      "metadata": {
        "id": "ia4J1SaPJdSW"
      }
    },
    {
      "cell_type": "code",
      "source": [
        "def canPlaceFlowers(flowerbed, n):\n",
        "    length = len(flowerbed)\n",
        "    count = 0\n",
        "    i = 0\n",
        "\n",
        "    while i < length:\n",
        "        if flowerbed[i] == 0 and (i == 0 or flowerbed[i - 1] == 0) and (i == length - 1 or flowerbed[i + 1] == 0):\n",
        "            flowerbed[i] = 1\n",
        "            count += 1\n",
        "        i += 1\n",
        "\n",
        "    return count >= n\n"
      ],
      "metadata": {
        "id": "wBJhICVnJQqH"
      },
      "execution_count": 7,
      "outputs": []
    },
    {
      "cell_type": "markdown",
      "source": [
        "Let's go through the code:\n",
        "\n",
        "- We initialize variables length and count. length stores the length of the flowerbed array, and count keeps track of the number of flowers planted.\n",
        "- We initialize i to 0 to iterate over the flowerbed.\n",
        "- We iterate over the flowerbed array using a while loop until we reach the end.\n",
        "- Inside the loop, we check if the current plot is empty (flowerbed[i] == 0) and the adjacent plots (previous and next) are also empty.\n",
        "- If the conditions are satisfied, we update the current plot to 1 (flowerbed[i] = 1) and increment the count by 1.\n",
        "- We increment i to move to the next plot.\n",
        "- After the loop, we return whether the count of planted flowers is greater than or equal to n.\n",
        "\n",
        "Now, let's test the code with the example you provided:"
      ],
      "metadata": {
        "id": "xq-5qSj-JkY0"
      }
    },
    {
      "cell_type": "code",
      "source": [
        "flowerbed = [1, 0, 0, 0, 1]\n",
        "n = 1\n",
        "print(canPlaceFlowers(flowerbed, n))\n"
      ],
      "metadata": {
        "colab": {
          "base_uri": "https://localhost:8080/"
        },
        "id": "xq8JDerGJgH5",
        "outputId": "7ac676df-27ce-4feb-a22c-a26d883c37e4"
      },
      "execution_count": 8,
      "outputs": [
        {
          "output_type": "stream",
          "name": "stdout",
          "text": [
            "True\n"
          ]
        }
      ]
    },
    {
      "cell_type": "markdown",
      "source": [
        "Question 5\n",
        "Given an integer array nums, find three numbers whose product is maximum and return the maximum product.\n",
        "\n",
        "Example 1:\n",
        "Input: nums = [1,2,3]\n",
        "Output: 6"
      ],
      "metadata": {
        "id": "3p70JqyzKFxV"
      }
    },
    {
      "cell_type": "markdown",
      "source": [
        "To find the maximum product of three numbers in the given array nums, we need to consider both positive and negative numbers. The maximum product can be achieved by either multiplying the three largest positive numbers or multiplying the two smallest negative numbers with the largest positive number.\n",
        "\n",
        "Here's the optimized code to solve this problem:"
      ],
      "metadata": {
        "id": "_dvNIkP9KJ_Q"
      }
    },
    {
      "cell_type": "code",
      "source": [
        "def maximumProduct(nums):\n",
        "    nums.sort()\n",
        "    n = len(nums)\n",
        "    return max(nums[0] * nums[1] * nums[n - 1], nums[n - 1] * nums[n - 2] * nums[n - 3])\n"
      ],
      "metadata": {
        "id": "Qxqo37p5J0qG"
      },
      "execution_count": 9,
      "outputs": []
    },
    {
      "cell_type": "markdown",
      "source": [
        "Let's walk through the code:\n",
        "\n",
        "- We start by sorting the nums array in ascending order using the sort() method. Sorting allows us to identify the smallest and largest numbers easily.\n",
        "- We store the length of nums in the variable n.\n",
        "- We calculate the maximum product by comparing two possibilities:\n",
        "  - nums[0] * nums[1] * nums[n - 1]: This considers the case where the first two elements of the sorted array are negative numbers (smaller in magnitude) and the last element is the largest positive number.\n",
        "  - nums[n - 1] * nums[n - 2] * nums[n - 3]: This considers the case where the last three elements of the sorted array are the three largest positive numbers.\n",
        "\n",
        "We return the maximum product calculated using the max() function.\n",
        "Now, let's test the code with the example you provided:"
      ],
      "metadata": {
        "id": "U1c8qJUAKQNb"
      }
    },
    {
      "cell_type": "code",
      "source": [
        "nums = [1, 2, 3]\n",
        "print(maximumProduct(nums))\n"
      ],
      "metadata": {
        "colab": {
          "base_uri": "https://localhost:8080/"
        },
        "id": "QKneohptKMyb",
        "outputId": "b77a6067-4067-4784-c6a2-0424b2d57b76"
      },
      "execution_count": 10,
      "outputs": [
        {
          "output_type": "stream",
          "name": "stdout",
          "text": [
            "6\n"
          ]
        }
      ]
    },
    {
      "cell_type": "markdown",
      "source": [
        "Question 6\n",
        "Given an array of integers nums which is sorted in ascending order, and an integer target,\n",
        "write a function to search target in nums. If target exists, then return its index. Otherwise,\n",
        "return -1.\n",
        "\n",
        "You must write an algorithm with O(log n) runtime complexity.\n",
        "\n",
        "Input: nums = [-1,0,3,5,9,12], target = 9\n",
        "Output: 4\n",
        "\n",
        "Explanation: 9 exists in nums and its index is 4"
      ],
      "metadata": {
        "id": "N9D5VYNKK5zB"
      }
    },
    {
      "cell_type": "markdown",
      "source": [
        "To search for a target element in a sorted array nums with a runtime complexity of O(log n), we can use the binary search algorithm."
      ],
      "metadata": {
        "id": "RvGWmb_YL7bs"
      }
    },
    {
      "cell_type": "code",
      "source": [
        "def search(nums, target):\n",
        "    left = 0\n",
        "    right = len(nums) - 1\n",
        "\n",
        "    while left <= right:\n",
        "        mid = left + (right - left) // 2\n",
        "\n",
        "        if nums[mid] == target:\n",
        "            return mid\n",
        "        elif nums[mid] < target:\n",
        "            left = mid + 1\n",
        "        else:\n",
        "            right = mid - 1\n",
        "\n",
        "    return -1\n"
      ],
      "metadata": {
        "id": "wyhnztttKpR-"
      },
      "execution_count": 11,
      "outputs": []
    },
    {
      "cell_type": "markdown",
      "source": [
        "Let's go through the code:\n",
        "\n",
        "- We initialize two pointers, left and right, representing the left and right boundaries of the search space.\n",
        "- We enter a while loop that continues until left becomes greater than right. This means the search space is empty, and the target element does not exist in the array.\n",
        "- Inside the loop, we calculate the middle index mid as the average of left and right.\n",
        "- We compare the element at mid with the target:\n",
        "  - If they are equal, we have found the target, so we return mid.\n",
        "  -  If the element at mid is less than the target, it means the target must be in the right half of the remaining search space. We update left to mid + 1 to search in the right half.\n",
        "  - If the element at mid is greater than the target, it means the target must be in the left half of the remaining search space. We update right to mid - 1 to search in the left half.\n",
        "\n",
        "If the while loop ends without finding the target, we return -1 to indicate that the target does not exist in the array."
      ],
      "metadata": {
        "id": "153QM9_OMJlS"
      }
    },
    {
      "cell_type": "markdown",
      "source": [
        "Question 7\n",
        "An array is monotonic if it is either monotone increasing or monotone decreasing.\n",
        "\n",
        "An array nums is monotone increasing if for all i <= j, nums[i] <= nums[j]. An array nums is\n",
        "monotone decreasing if for all i <= j, nums[i] >= nums[j].\n",
        "\n",
        "Given an integer array nums, return true if the given array is monotonic, or false otherwise.\n",
        "\n",
        "Example 1:\n",
        "Input: nums = [1,2,2,3]\n",
        "Output: true"
      ],
      "metadata": {
        "id": "3lVcObPkNCVv"
      }
    },
    {
      "cell_type": "markdown",
      "source": [
        "To determine if an array nums is monotonic, we can iterate through the array and check if the elements are either non-decreasing or non-increasing. If we find a violation of either condition, we can conclude that the array is not monotonic."
      ],
      "metadata": {
        "id": "FVyXhkwFcREU"
      }
    },
    {
      "cell_type": "code",
      "source": [
        "def isMonotonic(nums):\n",
        "    increasing = decreasing = True\n",
        "\n",
        "    for i in range(1, len(nums)):\n",
        "        if nums[i] < nums[i - 1]:\n",
        "            increasing = False\n",
        "        if nums[i] > nums[i - 1]:\n",
        "            decreasing = False\n",
        "\n",
        "    return increasing or decreasing\n"
      ],
      "metadata": {
        "id": "ICvLjJ-HMDHz"
      },
      "execution_count": 12,
      "outputs": []
    },
    {
      "cell_type": "markdown",
      "source": [
        "Let's walk through the code:\n",
        "\n",
        "- We initialize two boolean variables, increasing and decreasing, as True. \n",
        "- These variables will be used to track if the array is monotonic increasing and monotonic decreasing, respectively.\n",
        "- We iterate through the nums array starting from the second element (index 1) using a for loop.\n",
        "- Inside the loop, we compare the current element nums[i] with the previous element nums[i - 1].\n",
        "- If nums[i] is less than nums[i - 1], it violates the non-decreasing condition, so we set increasing to False.\n",
        "- If nums[i] is greater than nums[i - 1], it violates the non-increasing condition, so we set decreasing to False.\n",
        "\n",
        "After iterating through the array, we return the logical OR (increasing or decreasing) of the increasing and decreasing variables. If either of them is True, it means the array is monotonic."
      ],
      "metadata": {
        "id": "jUbOFp0zcYtJ"
      }
    },
    {
      "cell_type": "code",
      "source": [
        "nums = [1, 2, 2, 3]\n",
        "print(isMonotonic(nums))\n"
      ],
      "metadata": {
        "colab": {
          "base_uri": "https://localhost:8080/"
        },
        "id": "D4UnXHm8cUEZ",
        "outputId": "56365282-d8fc-4b39-8aca-a8fd82980552"
      },
      "execution_count": 13,
      "outputs": [
        {
          "output_type": "stream",
          "name": "stdout",
          "text": [
            "True\n"
          ]
        }
      ]
    },
    {
      "cell_type": "markdown",
      "source": [
        "Question 8\n",
        "You are given an integer array nums and an integer k.\n",
        "\n",
        "In one operation, you can choose any index i where 0 <= i < nums.length and change nums[i] to nums[i] + x where x is an integer from the range [-k, k]. You can apply this operation at most once for each index i.\n",
        "\n",
        "The score of nums is the difference between the maximum and minimum elements in nums.\n",
        "\n",
        "Return the minimum score of nums after applying the mentioned operation at most once for each index in it.\n",
        "\n",
        "Example 1:\n",
        "Input: nums = [1], k = 0\n",
        "Output: 0\n",
        "\n",
        "Explanation: The score is max(nums) - min(nums) = 1 - 1 = 0."
      ],
      "metadata": {
        "id": "zcpN2X7Vegu7"
      }
    },
    {
      "cell_type": "markdown",
      "source": [
        "To minimize the score of an array nums after applying the mentioned operation at most once for each index, we can make adjustments to the maximum and minimum elements in the array."
      ],
      "metadata": {
        "id": "SHo-GsSRhCb8"
      }
    },
    {
      "cell_type": "code",
      "source": [
        "def minimumScore(nums, k):\n",
        "    nums.sort()\n",
        "    n = len(nums)\n",
        "    min_score = nums[n - 1] - nums[0]\n",
        "\n",
        "    for i in range(n - 1):\n",
        "        max_val = max(nums[i] + k, nums[n - 1] - k)\n",
        "        min_val = min(nums[0] + k, nums[i + 1] - k)\n",
        "        min_score = min(min_score, max_val - min_val)\n",
        "\n",
        "    return min_score\n"
      ],
      "metadata": {
        "id": "fvUQmL7FeYah"
      },
      "execution_count": 14,
      "outputs": []
    },
    {
      "cell_type": "markdown",
      "source": [
        "Let's walk through the code:\n",
        "\n",
        "- We start by sorting the nums array in ascending order using the sort() method. Sorting allows us to identify the maximum and minimum elements easily.\n",
        "- We store the length of nums in the variable n.\n",
        "- We calculate the initial minimum score as the difference between the maximum and minimum elements in the sorted array: min_score = nums[n - 1] - nums[0].\n",
        "- We iterate through the array using a for loop, excluding the last element (range(n - 1)).\n",
        "- Inside the loop, we calculate the maximum and minimum values that can be achieved by adjusting the current element and the neighboring elements.\n",
        "- max_val is obtained by adding k to the current element or subtracting k from the maximum element.\n",
        "- min_val is obtained by adding k to the minimum element or subtracting k from the next element.\n",
        "\n",
        "We update min_score to the minimum of its current value and the difference between max_val and min_val.\n",
        "After the loop, we return the final min_score."
      ],
      "metadata": {
        "id": "FiBOyfD1hLWg"
      }
    },
    {
      "cell_type": "code",
      "source": [
        "nums = [1]\n",
        "k = 0\n",
        "print(minimumScore(nums, k))\n"
      ],
      "metadata": {
        "colab": {
          "base_uri": "https://localhost:8080/"
        },
        "id": "2ip4dHg3hFi8",
        "outputId": "ec6ba54f-e618-4a85-bcee-a0726e0b9946"
      },
      "execution_count": 15,
      "outputs": [
        {
          "output_type": "stream",
          "name": "stdout",
          "text": [
            "0\n"
          ]
        }
      ]
    },
    {
      "cell_type": "code",
      "source": [],
      "metadata": {
        "id": "122c_9S_hZ8Q"
      },
      "execution_count": null,
      "outputs": []
    }
  ]
}