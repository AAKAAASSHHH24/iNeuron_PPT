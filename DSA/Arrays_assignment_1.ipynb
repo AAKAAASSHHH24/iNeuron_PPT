{
  "nbformat": 4,
  "nbformat_minor": 0,
  "metadata": {
    "colab": {
      "provenance": []
    },
    "kernelspec": {
      "name": "python3",
      "display_name": "Python 3"
    },
    "language_info": {
      "name": "python"
    }
  },
  "cells": [
    {
      "cell_type": "markdown",
      "source": [
        "<aside>\n",
        "💡 **Q1.** Given an array of integers nums and an integer target, return indices of the two numbers such that they add up to target.\n",
        "\n",
        "You may assume that each input would have exactly one solution, and you may not use the same element twice.\n",
        "\n",
        "You can return the answer in any order.\n",
        "\n",
        "**Example:**\n",
        "Input: nums = [2,7,11,15], target = 9\n",
        "Output0 [0,1]\n",
        "\n",
        "**Explanation:** Because nums[0] + nums[1] == 9, we return [0, 1][\n",
        "\n",
        "</aside>"
      ],
      "metadata": {
        "id": "FbIiXU7igPw-"
      }
    },
    {
      "cell_type": "code",
      "execution_count": 1,
      "metadata": {
        "colab": {
          "base_uri": "https://localhost:8080/"
        },
        "id": "aYV4CvGGgKEe",
        "outputId": "5e567f14-ce43-4c22-8b68-aa6832685bc0"
      },
      "outputs": [
        {
          "output_type": "stream",
          "name": "stdout",
          "text": [
            "[0, 1]\n"
          ]
        }
      ],
      "source": [
        "def two_sum(nums, target):\n",
        "    num_dict = {}\n",
        "    for i, num in enumerate(nums):\n",
        "        complement = target - num\n",
        "        if complement in num_dict:\n",
        "            return [num_dict[complement], i]\n",
        "        num_dict[num] = i\n",
        "    return []\n",
        "\n",
        "nums = [2, 7, 11, 15]\n",
        "target = 9\n",
        "result = two_sum(nums, target)\n",
        "print(result)\n"
      ]
    },
    {
      "cell_type": "markdown",
      "source": [
        "This code uses a dictionary num_dict to store the numbers and their indices. However, instead of first checking if the complement exists in the dictionary and then adding the number to the dictionary, we perform both operations in a single loop.\n",
        "\n",
        "By doing so, we eliminate the need for an additional iteration through the dictionary and reduce the overall time complexity of the solution to O(n), where n is the length of the input array nums. This approach is more efficient than the initial solution, which had a time complexity of O(n^2)."
      ],
      "metadata": {
        "id": "SrcRkzhysJIL"
      }
    },
    {
      "cell_type": "markdown",
      "source": [
        "<aside>\n",
        "💡 **Q2.** Given an integer array nums and an integer val, remove all occurrences of val in nums in-place. The order of the elements may be changed. Then return the number of elements in nums which are not equal to val.\n",
        "\n",
        "Consider the number of elements in nums which are not equal to val be k, to get accepted, you need to do the following things:\n",
        "\n",
        "- Change the array nums such that the first k elements of nums contain the elements which are not equal to val. The remaining elements of nums are not important as well as the size of nums.\n",
        "- Return k.\n",
        "\n",
        "**Example :**\n",
        "Input: nums = [3,2,2,3], val = 3\n",
        "Output: 2, nums = [2,2,_*,_*]\n",
        "\n",
        "**Explanation:** Your function should return k = 2, with the first two elements of nums being 2. It does not matter what you leave beyond the returned k\n",
        "\n",
        "</aside>"
      ],
      "metadata": {
        "id": "2iMO-bxIjwDf"
      }
    },
    {
      "cell_type": "code",
      "source": [
        "def removeElement(nums, val):\n",
        "    i = 0\n",
        "    for j in range(len(nums)):\n",
        "        if nums[j] != val:\n",
        "            nums[i] = nums[j]\n",
        "            i += 1\n",
        "    return i\n",
        "\n",
        "nums = [3, 2, 2, 3]\n",
        "val = 3\n",
        "k = removeElement(nums, val)\n",
        "print(\"Output:\", k, \", nums:\", nums[:k])\n"
      ],
      "metadata": {
        "colab": {
          "base_uri": "https://localhost:8080/"
        },
        "id": "GpnrDnYehmvT",
        "outputId": "4d5b3d7e-14f9-48fc-b39c-82c7a419e0f7"
      },
      "execution_count": 2,
      "outputs": [
        {
          "output_type": "stream",
          "name": "stdout",
          "text": [
            "Output: 2 , nums: [2, 2]\n"
          ]
        }
      ]
    },
    {
      "cell_type": "markdown",
      "source": [
        "<aside>\n",
        "💡 **Q3.** Given a sorted array of distinct integers and a target value, return the index if the target is found. If not, return the index where it would be if it were inserted in order.\n",
        "\n",
        "You must write an algorithm with O(log n) runtime complexity.\n",
        "\n",
        "**Example 1:**\n",
        "Input: nums = [1,3,5,6], target = 5\n",
        "\n",
        "Output: 2\n",
        "\n",
        "</aside>\n",
        "\n",
        "______________________________________________________________________________"
      ],
      "metadata": {
        "id": "qg3mzfX4qiBF"
      }
    },
    {
      "cell_type": "markdown",
      "source": [
        "To find the index where a target value should be inserted in a sorted array of distinct integers, we can use a binary search algorithm. This approach allows us to achieve a runtime complexity of O(log n), where n is the length of the array. Here's the explanation and optimized code in Python:\n",
        "\n",
        "We'll initialize two pointers, left and right, pointing to the start and end of the array, respectively.\n",
        "While left is less than or equal to right:\n",
        "We calculate the middle index mid as (left + right) // 2.\n",
        "If the value at nums[mid] is equal to the target value, we return mid.\n",
        "If the value at nums[mid] is less than the target value, we update left to mid + 1.\n",
        "If the value at nums[mid] is greater than the target value, we update right to mid - 1.\n",
        "\n",
        "If the target value is not found in the array, left will represent the index where it should be inserted.\n",
        "We'll return left as the index where the target value should be inserted."
      ],
      "metadata": {
        "id": "mANwkiXSrrGa"
      }
    },
    {
      "cell_type": "code",
      "source": [
        "def searchInsert(nums, target):\n",
        "    left = 0\n",
        "    right = len(nums) - 1\n",
        "    \n",
        "    while left <= right:\n",
        "        mid = (left + right) // 2\n",
        "        if nums[mid] == target:\n",
        "            return mid\n",
        "        elif nums[mid] < target:\n",
        "            left = mid + 1\n",
        "        else:\n",
        "            right = mid - 1\n",
        "    \n",
        "    return left\n",
        "\n",
        "nums = [1, 3, 5, 6]\n",
        "target = 5\n",
        "index = searchInsert(nums, target)\n",
        "print(\"Output:\", index)\n"
      ],
      "metadata": {
        "colab": {
          "base_uri": "https://localhost:8080/"
        },
        "id": "VmKUh-0lj3Td",
        "outputId": "3112f640-06f0-4a3a-de24-504ee7fbb58e"
      },
      "execution_count": 3,
      "outputs": [
        {
          "output_type": "stream",
          "name": "stdout",
          "text": [
            "Output: 2\n"
          ]
        }
      ]
    },
    {
      "cell_type": "markdown",
      "source": [
        "In the given example, the output will be 2, indicating that the target value of 5 is found at index 2 in the array.\n",
        "\n",
        "This solution utilizes the binary search algorithm, which effectively narrows down the search space in each iteration, resulting in a faster search time than a linear search. The time complexity of this approach is O(log n), making it efficient for large sorted arrays."
      ],
      "metadata": {
        "id": "gUF5MaYOrkxM"
      }
    },
    {
      "cell_type": "markdown",
      "source": [
        "<aside>\n",
        "💡 **Q4.** You are given a large integer represented as an integer array digits, where each digits[i] is the ith digit of the integer. The digits are ordered from most significant to least significant in left-to-right order. The large integer does not contain any leading 0's.\n",
        "\n",
        "Increment the large integer by one and return the resulting array of digits.\n",
        "\n",
        "**Example 1:**\n",
        "Input: digits = [1,2,3]\n",
        "Output: [1,2,4]\n",
        "\n",
        "**Explanation:** The array represents the integer 123.\n",
        "\n",
        "Incrementing by one gives 123 + 1 = 124.\n",
        "Thus, the result should be [1,2,4].\n",
        "\n",
        "</aside>\n",
        "\n",
        "-------------------------------------------------------------------"
      ],
      "metadata": {
        "id": "3Y8fmNVkrC3q"
      }
    },
    {
      "cell_type": "markdown",
      "source": [
        "To increment a large integer represented as an array of digits, we need to simulate the addition operation digit by digit. We start from the least significant digit and move towards the most significant digit. Here's the explanation and optimized code in Python:\n",
        "\n",
        "We initialize a carry variable to 1, as we want to increment the number by one.\n",
        "We iterate through the digits array from right to left.\n",
        "At each position, we add the current digit with the carry value.\n",
        "If the sum is less than 10, we update the digit and set the carry to 0 since there is no carry-over.\n",
        "If the sum is 10 or greater, we update the digit to the remainder of the sum divided by 10 and set the carry to 1, indicating a carry-over to the next digit.\n",
        "\n",
        "After the iteration, if the carry is still 1, we insert it as the most significant digit in the result.\n",
        "We return the result array.\n",
        "Here's the optimized code:"
      ],
      "metadata": {
        "id": "Su_fl2PtrQY1"
      }
    },
    {
      "cell_type": "code",
      "source": [
        "def plusOne(digits):\n",
        "    carry = 1\n",
        "    for i in range(len(digits) - 1, -1, -1):\n",
        "        digits[i] += carry\n",
        "        if digits[i] < 10:\n",
        "            carry = 0\n",
        "            break\n",
        "        else:\n",
        "            digits[i] = 0\n",
        "    if carry == 1:\n",
        "        digits.insert(0, carry)\n",
        "    return digits\n",
        "\n",
        "digits = [1, 2, 3]\n",
        "result = plusOne(digits)\n",
        "print(\"Output:\", result)\n"
      ],
      "metadata": {
        "colab": {
          "base_uri": "https://localhost:8080/"
        },
        "id": "MLRa0dx7qrm9",
        "outputId": "2bc1454e-736a-43bc-ffb7-d341fd9b78c0"
      },
      "execution_count": 4,
      "outputs": [
        {
          "output_type": "stream",
          "name": "stdout",
          "text": [
            "Output: [1, 2, 4]\n"
          ]
        }
      ]
    },
    {
      "cell_type": "markdown",
      "source": [
        "In the given example, the output will be [1, 2, 4], indicating that incrementing the array [1, 2, 3] by one results in the array [1, 2, 4].\n",
        "\n",
        "This solution has a time complexity of O(n), where n is the length of the digits array. We perform a constant amount of work for each digit in the array, resulting in an efficient and optimal solution."
      ],
      "metadata": {
        "id": "mB17ozGXrKSy"
      }
    },
    {
      "cell_type": "markdown",
      "source": [
        "<aside>\n",
        "💡 **Q5.** You are given two integer arrays nums1 and nums2, sorted in non-decreasing order, and two integers m and n, representing the number of elements in nums1 and nums2 respectively.\n",
        "\n",
        "Merge nums1 and nums2 into a single array sorted in non-decreasing order.\n",
        "\n",
        "The final sorted array should not be returned by the function, but instead be stored inside the array nums1. To accommodate this, nums1 has a length of m + n, where the first m elements denote the elements that should be merged, and the last n elements are set to 0 and should be ignored. nums2 has a length of n.\n",
        "\n",
        "**Example 1:**\n",
        "Input: nums1 = [1,2,3,0,0,0], m = 3, nums2 = [2,5,6], n = 3\n",
        "Output: [1,2,2,3,5,6]\n",
        "\n",
        "**Explanation:** The arrays we are merging are [1,2,3] and [2,5,6].\n",
        "The result of the merge is [1,2,2,3,5,6] with the underlined elements coming from nums1.\n",
        "\n",
        "</aside>\n",
        "___________________________________________________________________________________________________________"
      ],
      "metadata": {
        "id": "vMvJehNktp9o"
      }
    },
    {
      "cell_type": "markdown",
      "source": [
        "To merge two sorted arrays, nums1 and nums2, into a single sorted array in non-decreasing order, we can use the two-pointer approach. Here's the explanation and optimized code in Python:\n",
        "\n",
        "We'll initialize three pointers:\n",
        "\n",
        "- p1, which starts at index m - 1 in nums1 and represents the last element in the non-zero elements of nums1.\n",
        "- p2, which starts at index n - 1 in nums2 and represents the last element in nums2.\n",
        "- p, which starts at index m + n - 1 and represents the last element in the resulting merged array.\n",
        "\n",
        "While p1 and p2 are both greater than or equal to 0:\n",
        "\n",
        "If the value at nums1[p1] is greater than the value at nums2[p2], we assign nums1[p1] to nums1[p] and decrement p1.\n",
        "\n",
        "Otherwise, we assign nums2[p2] to nums1[p] and decrement p2.\n",
        "In either case, we also decrement p.\n",
        "\n",
        "After the above loop, if there are remaining elements in nums2 but not in nums1, we copy those elements to nums1.\n",
        "Finally, we return nums1."
      ],
      "metadata": {
        "id": "4c7eYUkpt3Mt"
      }
    },
    {
      "cell_type": "code",
      "source": [
        "def merge(nums1, m, nums2, n):\n",
        "    p1 = m - 1\n",
        "    p2 = n - 1\n",
        "    p = m + n - 1\n",
        "\n",
        "    while p1 >= 0 and p2 >= 0:\n",
        "        if nums1[p1] > nums2[p2]:\n",
        "            nums1[p] = nums1[p1]\n",
        "            p1 -= 1\n",
        "        else:\n",
        "            nums1[p] = nums2[p2]\n",
        "            p2 -= 1\n",
        "        p -= 1\n",
        "\n",
        "    # Copy remaining elements from nums2 to nums1\n",
        "    nums1[:p2 + 1] = nums2[:p2 + 1]\n",
        "\n",
        "    return nums1\n",
        "\n",
        "nums1 = [1, 2, 3, 0, 0, 0]\n",
        "m = 3\n",
        "nums2 = [2, 5, 6]\n",
        "n = 3\n",
        "result = merge(nums1, m, nums2, n)\n",
        "print(\"Output:\", result)\n"
      ],
      "metadata": {
        "colab": {
          "base_uri": "https://localhost:8080/"
        },
        "id": "Hclf3RMvq_nL",
        "outputId": "808c46b0-7b9f-42a7-fb5d-4b254745a99c"
      },
      "execution_count": 5,
      "outputs": [
        {
          "output_type": "stream",
          "name": "stdout",
          "text": [
            "Output: [1, 2, 2, 3, 5, 6]\n"
          ]
        }
      ]
    },
    {
      "cell_type": "markdown",
      "source": [
        "In the given example, the output will be [1, 2, 2, 3, 5, 6], which represents the merged array of [1, 2, 3] and [2, 5, 6].\n",
        "\n",
        "This solution utilizes the two-pointer approach, where we start from the end of both arrays and compare the elements, gradually filling in the merged array from right to left. The time complexity of this approach is O(m + n), as we iterate through both arrays once."
      ],
      "metadata": {
        "id": "PQ6T8sEMuZi2"
      }
    },
    {
      "cell_type": "markdown",
      "source": [
        "<aside>\n",
        "💡 **Q6.** Given an integer array nums, return true if any value appears at least twice in the array, and return false if every element is distinct.\n",
        "\n",
        "**Example 1:**\n",
        "Input: nums = [1,2,3,1]\n",
        "\n",
        "Output: true\n",
        "\n",
        "</aside>\n",
        "_______________________________________________________________________________________________________________________________\n"
      ],
      "metadata": {
        "id": "vZAfDs1RujUV"
      }
    },
    {
      "cell_type": "markdown",
      "source": [
        "To determine if there are any duplicate values in an integer array, we can use a set data structure. Here's the explanation and optimized code in Python:\n",
        "\n",
        "We'll initialize an empty set called seen.\n",
        "We iterate through each element in the nums array.\n",
        "If the current element is already in the seen set, we return True as we have found a duplicate.\n",
        "Otherwise, we add the current element to the seen set.\n",
        "\n",
        "If we reach the end of the loop without finding any duplicates, we return False."
      ],
      "metadata": {
        "id": "5j4XFOrXuv5c"
      }
    },
    {
      "cell_type": "code",
      "source": [
        "def containsDuplicate(nums):\n",
        "    seen = set()\n",
        "    for num in nums:\n",
        "        if num in seen:\n",
        "            return True\n",
        "        seen.add(num)\n",
        "    return False\n",
        "\n",
        "nums = [1, 2, 3, 1]\n",
        "result = containsDuplicate(nums)\n",
        "print(\"Output:\", result)\n"
      ],
      "metadata": {
        "colab": {
          "base_uri": "https://localhost:8080/"
        },
        "id": "_dsAkWdtuP0L",
        "outputId": "dbd32c77-07a8-43ec-b00f-c37295182ad4"
      },
      "execution_count": 6,
      "outputs": [
        {
          "output_type": "stream",
          "name": "stdout",
          "text": [
            "Output: True\n"
          ]
        }
      ]
    },
    {
      "cell_type": "markdown",
      "source": [
        "In the given example, the output will be True because the array [1, 2, 3, 1] contains the duplicate value 1.\n",
        "\n",
        "Using a set allows us to efficiently check for duplicates by taking advantage of its constant-time lookup. The time complexity of this solution is O(n), where n is the length of the nums array, as we iterate through each element once.\n",
        "\n"
      ],
      "metadata": {
        "id": "uzo2jP0Iu3aW"
      }
    },
    {
      "cell_type": "markdown",
      "source": [
        "<aside>\n",
        "💡 **Q7.** Given an integer array nums, move all 0's to the end of it while maintaining the relative order of the nonzero elements.\n",
        "\n",
        "Note that you must do this in-place without making a copy of the array.\n",
        "\n",
        "**Example 1:**\n",
        "Input: nums = [0,1,0,3,12]\n",
        "Output: [1,3,12,0,0]\n",
        "\n",
        "</aside>\n",
        "\n",
        "______________________________________________________________________________________________________________________________________________________________"
      ],
      "metadata": {
        "id": "YxslCeIcvBbC"
      }
    },
    {
      "cell_type": "markdown",
      "source": [
        "To move all zeros to the end of an integer array while maintaining the relative order of the non-zero elements, we can use the two-pointer approach. Here's the explanation and optimized code in Python:\n",
        "\n",
        "- We'll initialize two pointers, i and j, both starting at 0.\n",
        "\n",
        "- While the pointer j is less than the length of the array:\n",
        "If the value at nums[j] is not equal to 0, we swap the values at nums[i] and nums[j] and increment i.\n",
        "We increment j in each iteration to explore the next element.\n",
        "\n",
        "- After the loop, all non-zero elements have been moved to the front of the array, and the remaining elements towards the end are all zeros.\n",
        "- We can then fill the remaining elements from index i to the end of the array with zeros.\n",
        "- The resulting array will have all the zeros moved to the end while maintaining the order of non-zero elements.\n",
        "\n",
        "Here's the optimized code:"
      ],
      "metadata": {
        "id": "Y3fHXRKmvOMe"
      }
    },
    {
      "cell_type": "code",
      "source": [
        "def moveZeroes(nums):\n",
        "    i = 0\n",
        "    for j in range(len(nums)):\n",
        "        if nums[j] != 0:\n",
        "            nums[i], nums[j] = nums[j], nums[i]\n",
        "            i += 1\n",
        "    nums[i:] = [0] * (len(nums) - i)\n",
        "    return nums\n",
        "\n",
        "nums = [0, 1, 0, 3, 12]\n",
        "result = moveZeroes(nums)\n",
        "print(\"Output:\", result)\n"
      ],
      "metadata": {
        "colab": {
          "base_uri": "https://localhost:8080/"
        },
        "id": "HCsCa_GMuzMG",
        "outputId": "b7e6acd5-3c01-4c85-f7f9-40b6507cd9d0"
      },
      "execution_count": 7,
      "outputs": [
        {
          "output_type": "stream",
          "name": "stdout",
          "text": [
            "Output: [1, 3, 12, 0, 0]\n"
          ]
        }
      ]
    },
    {
      "cell_type": "markdown",
      "source": [
        "This solution has a time complexity of O(n), where n is the length of the nums array. It only requires a single pass through the array, and the elements are rearranged in-place without using any additional data structures."
      ],
      "metadata": {
        "id": "xarzltZHv7vi"
      }
    },
    {
      "cell_type": "markdown",
      "source": [
        "<aside>\n",
        "💡 **Q8.** You have a set of integers s, which originally contains all the numbers from 1 to n. Unfortunately, due to some error, one of the numbers in s got duplicated to another number in the set, which results in repetition of one number and loss of another number.\n",
        "\n",
        "You are given an integer array nums representing the data status of this set after the error.\n",
        "\n",
        "Find the number that occurs twice and the number that is missing and return them in the form of an array.\n",
        "\n",
        "**Example 1:**\n",
        "Input: nums = [1,2,2,4]\n",
        "Output: [2,3]\n",
        "\n",
        "</aside>\n",
        "\n",
        "________________________________________________________________________________________________________________________________________________________________"
      ],
      "metadata": {
        "id": "UcqP_GeawKIq"
      }
    },
    {
      "cell_type": "markdown",
      "source": [
        "To find the number that occurs twice and the number that is missing in an integer array, we can utilize the properties of sets. Here's the explanation and optimized code in Python:\n",
        "\n",
        "- We'll initialize a set called numSet to store the unique elements in the nums array.\n",
        "- We'll iterate through each element num in the nums array.If num is already in the numSet, it means num is the number that occurs twice.\n",
        "- We store it in a variable called duplicate.\n",
        "- We add num to the numSet.\n",
        "\n",
        "We'll iterate from 1 to the length of nums + 1, checking if each number is present in the numSet.\n",
        "\n",
        "If a number is not present in the numSet, it means that number is missing. We store it in a variable called missing.\n",
        "\n",
        "Finally, we return a list containing duplicate and missing.\n",
        "Here's the optimized code:"
      ],
      "metadata": {
        "id": "7f4Kv9ugwU3A"
      }
    },
    {
      "cell_type": "code",
      "source": [
        "def findErrorNums(nums):\n",
        "    numSet = set()\n",
        "    duplicate = -1\n",
        "\n",
        "    for num in nums:\n",
        "        if num in numSet:\n",
        "            duplicate = num\n",
        "        numSet.add(num)\n",
        "\n",
        "    missing = -1\n",
        "    for i in range(1, len(nums) + 1):\n",
        "        if i not in numSet:\n",
        "            missing = i\n",
        "            break\n",
        "\n",
        "    return [duplicate, missing]\n",
        "\n",
        "nums = [1, 2, 2, 4]\n",
        "result = findErrorNums(nums)\n",
        "print(\"Output:\", result)\n"
      ],
      "metadata": {
        "colab": {
          "base_uri": "https://localhost:8080/"
        },
        "id": "i3kG0O-dv10B",
        "outputId": "da8b2f66-ad8a-467e-d49a-ba0da11be612"
      },
      "execution_count": 8,
      "outputs": [
        {
          "output_type": "stream",
          "name": "stdout",
          "text": [
            "Output: [2, 3]\n"
          ]
        }
      ]
    },
    {
      "cell_type": "markdown",
      "source": [
        "In the given example, the output will be [2, 3], which indicates that the number 2 occurs twice, and the number 3 is missing in the nums array.\n",
        "\n",
        "This solution has a time complexity of O(n), where n is the length of the nums array. We iterate through the array twice, once to find the duplicate and once to find the missing number, each operation taking linear time."
      ],
      "metadata": {
        "id": "AMX9PXEow6d2"
      }
    },
    {
      "cell_type": "code",
      "source": [],
      "metadata": {
        "id": "B-uyDYJdw1Kt"
      },
      "execution_count": null,
      "outputs": []
    }
  ]
}