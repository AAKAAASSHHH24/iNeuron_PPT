{
  "nbformat": 4,
  "nbformat_minor": 0,
  "metadata": {
    "colab": {
      "provenance": []
    },
    "kernelspec": {
      "name": "python3",
      "display_name": "Python 3"
    },
    "language_info": {
      "name": "python"
    }
  },
  "cells": [
    {
      "cell_type": "markdown",
      "source": [
        "Question 1\n",
        "\n",
        "**Given an integer array nums of length n and an integer target, find three integers\n",
        "in nums such that the sum is closest to the target.\n",
        "Return the sum of the three integers.**\n",
        "\n",
        "You may assume that each input would have exactly one solution.\n",
        "\n",
        "Example 1:\n",
        "Input: nums = [-1,2,1,-4], target = 1\n",
        "Output: 2\n",
        "\n",
        "Explanation: The sum that is closest to the target is 2. (-1 + 2 + 1 = 2).\n",
        "\n",
        "_____________________________________________________________________________________________________________________________________________________________"
      ],
      "metadata": {
        "id": "C21YKB5cjy8i"
      }
    },
    {
      "cell_type": "markdown",
      "source": [
        "To find three integers in an array nums whose sum is closest to the target, we can use a two-pointer approach along with sorting the array."
      ],
      "metadata": {
        "id": "T6P3iOfFkH5e"
      }
    },
    {
      "cell_type": "code",
      "execution_count": 1,
      "metadata": {
        "id": "PjkMZtawjr8Y"
      },
      "outputs": [],
      "source": [
        "def threeSumClosest(nums, target):\n",
        "    nums.sort()\n",
        "    n = len(nums)\n",
        "    closest_sum = float('inf')\n",
        "\n",
        "    for i in range(n - 2):\n",
        "        left = i + 1\n",
        "        right = n - 1\n",
        "\n",
        "        while left < right:\n",
        "            curr_sum = nums[i] + nums[left] + nums[right]\n",
        "\n",
        "            if curr_sum == target:\n",
        "                return curr_sum\n",
        "\n",
        "            if abs(curr_sum - target) < abs(closest_sum - target):\n",
        "                closest_sum = curr_sum\n",
        "\n",
        "            if curr_sum < target:\n",
        "                left += 1\n",
        "            else:\n",
        "                right -= 1\n",
        "\n",
        "    return closest_sum\n"
      ]
    },
    {
      "cell_type": "markdown",
      "source": [
        "\n",
        "\n",
        "Let's walk through the code:\n",
        "\n",
        "- We start by sorting the nums array in ascending order using the sort() method. Sorting allows us to use the two-pointer approach efficiently.\n",
        "- We store the length of nums in the variable n.\n",
        "- We initialize closest_sum with a large value, float('inf'), to track the closest sum to the target.\n",
        "- We iterate through the array using a for loop until the third-to-last element (range(n - 2)), considering it as the first element of the potential triplet.\n",
        "- Inside the loop, we initialize two pointers, left and right, pointing to the next element and the last element, respectively.\n",
        "- We enter a while loop that continues until left becomes greater than right. \n",
        "- This allows us to explore all possible combinations of the remaining two elements.\n",
        "- Inside the while loop, we calculate the current sum by adding the elements at indices i, left, and right.\n",
        "- We check if the current sum is equal to the target. If it is, we found an exact match and return the sum.\n",
        "- We update closest_sum if the absolute difference between the current sum and the target is smaller than the absolute difference between closest_sum and the target.\n",
        "- Based on the comparison of the current sum with the target, we adjust the pointers:\n",
        "- If the current sum is less than the target, we increment left to consider a larger element.\n",
        "- If the current sum is greater than the target, we decrement right to consider a smaller element.\n",
        "\n",
        "- After the loop, we return closest_sum, which represents the sum closest to the target."
      ],
      "metadata": {
        "id": "S0V76EUUkcnA"
      }
    },
    {
      "cell_type": "code",
      "source": [
        "nums = [-1, 2, 1, -4]\n",
        "target = 1\n",
        "print(threeSumClosest(nums, target))\n"
      ],
      "metadata": {
        "colab": {
          "base_uri": "https://localhost:8080/"
        },
        "id": "N-NR03kWkUBY",
        "outputId": "1f7c97fc-c8a5-4fa9-a1b4-634c92207ff7"
      },
      "execution_count": 2,
      "outputs": [
        {
          "output_type": "stream",
          "name": "stdout",
          "text": [
            "2\n"
          ]
        }
      ]
    },
    {
      "cell_type": "markdown",
      "source": [
        "Question 2\n",
        "Given an array nums of n integers, return an array of all the unique quadruplets\n",
        "[nums[a], nums[b], nums[c], nums[d]] such that:\n",
        "           ● 0 <= a, b, c, d < n\n",
        "           ● a, b, c, and d are distinct.\n",
        "           ● nums[a] + nums[b] + nums[c] + nums[d] == target\n",
        "\n",
        "You may return the answer in any order.\n",
        "\n",
        "Example 1:\n",
        "\n",
        "Input: nums = [1,0,-1,0,-2,2], target = 0\n",
        "\n",
        "Output: [[-2,-1,1,2],[-2,0,0,2],[-1,0,0,1]]\n",
        "\n",
        "________________________________________________________________________________________________________________________________________________________________"
      ],
      "metadata": {
        "id": "iY3GkPz8ldqk"
      }
    },
    {
      "cell_type": "markdown",
      "source": [
        "To find unique quadruplets in an array nums that sum up to a target value, we can use a combination of sorting the array and applying a two-pointer approach."
      ],
      "metadata": {
        "id": "x6VwiqdllnHS"
      }
    },
    {
      "cell_type": "code",
      "source": [
        "def fourSum(nums, target):\n",
        "    nums.sort()\n",
        "    n = len(nums)\n",
        "    quadruplets = []\n",
        "\n",
        "    for i in range(n - 3):\n",
        "        # Skip duplicates for the first element\n",
        "        if i > 0 and nums[i] == nums[i - 1]:\n",
        "            continue\n",
        "\n",
        "        for j in range(i + 1, n - 2):\n",
        "            # Skip duplicates for the second element\n",
        "            if j > i + 1 and nums[j] == nums[j - 1]:\n",
        "                continue\n",
        "\n",
        "            left = j + 1\n",
        "            right = n - 1\n",
        "\n",
        "            while left < right:\n",
        "                curr_sum = nums[i] + nums[j] + nums[left] + nums[right]\n",
        "\n",
        "                if curr_sum == target:\n",
        "                    quadruplets.append([nums[i], nums[j], nums[left], nums[right]])\n",
        "\n",
        "                    # Skip duplicates for the third and fourth elements\n",
        "                    while left < right and nums[left] == nums[left + 1]:\n",
        "                        left += 1\n",
        "                    while left < right and nums[right] == nums[right - 1]:\n",
        "                        right -= 1\n",
        "\n",
        "                    left += 1\n",
        "                    right -= 1\n",
        "                elif curr_sum < target:\n",
        "                    left += 1\n",
        "                else:\n",
        "                    right -= 1\n",
        "\n",
        "    return quadruplets\n"
      ],
      "metadata": {
        "id": "HRCpohQAk9Lk"
      },
      "execution_count": 3,
      "outputs": []
    },
    {
      "cell_type": "markdown",
      "source": [
        "Let's walk through the code:\n",
        "\n",
        "- We start by sorting the nums array in ascending order using the sort() method. Sorting allows us to use the two-pointer approach efficiently.\n",
        "- We store the length of nums in the variable n.\n",
        "- We initialize an empty list quadruplets to store the unique quadruplets.\n",
        "- We iterate through the array using a for loop until the fourth-to-last element (range(n - 3)), considering it as the first element of the potential quadruplet.\n",
        "- Inside the outer loop, we check if the current element is a duplicate of the previous element. If it is, we skip to the next iteration to avoid duplicate quadruplets.\n",
        "- We iterate through the remaining elements using a nested for loop starting from i + 1, considering it as the second element of the potential quadruplet.\n",
        "- Inside the inner loop, we check if the current element is a duplicate of the previous element. If it is, we skip to the next iteration to avoid duplicate quadruplets.\n",
        "- We initialize two pointers, left and right, pointing to the next element and the last element, respectively.\n",
        "- We enter a while loop that continues until left becomes greater than right. \n",
        "- This allows us to explore all possible combinations of the remaining two elements.\n",
        "- Inside the while loop, we calculate the current sum by adding the elements at indices i, j, left, and right.\n",
        "- We check if the current sum is equal to the target. If it is, we found a quadruplet that satisfies the condition. We append the quadruplet to the quadruplets list.\n",
        "- We skip duplicates for the third and fourth elements by incrementing left until it points to a different element and decrementing right until it points to a different element.\n",
        "- Based on the comparison of the current sum with the target, we adjust the pointers:\n"
      ],
      "metadata": {
        "id": "Ja7x4H1Bl2Mz"
      }
    },
    {
      "cell_type": "markdown",
      "source": [
        "<aside>\n",
        "💡 **Question 3**\n",
        "A permutation of an array of integers is an arrangement of its members into a\n",
        "sequence or linear order.\n",
        "\n",
        "For example, for arr = [1,2,3], the following are all the permutations of arr:\n",
        "[1,2,3], [1,3,2], [2, 1, 3], [2, 3, 1], [3,1,2], [3,2,1].\n",
        "\n",
        "The next permutation of an array of integers is the next lexicographically greater\n",
        "permutation of its integer. More formally, if all the permutations of the array are\n",
        "sorted in one container according to their lexicographical order, then the next\n",
        "permutation of that array is the permutation that follows it in the sorted container.\n",
        "\n",
        "If such an arrangement is not possible, the array must be rearranged as the\n",
        "lowest possible order (i.e., sorted in ascending order).\n",
        "\n",
        "● For example, the next permutation of arr = [1,2,3] is [1,3,2].\n",
        "● Similarly, the next permutation of arr = [2,3,1] is [3,1,2].\n",
        "● While the next permutation of arr = [3,2,1] is [1,2,3] because [3,2,1] does not\n",
        "have a lexicographical larger rearrangement.\n",
        "\n",
        "Given an array of integers nums, find the next permutation of nums.\n",
        "The replacement must be in place and use only constant extra memory.\n",
        "\n",
        "**Example 1:**\n",
        "Input: nums = [1,2,3]\n",
        "Output: [1,3,2]\n",
        "\n",
        "</aside>\n",
        "\n",
        "________________________________________________________________________________________________________________________________________________________________"
      ],
      "metadata": {
        "id": "--ZtBJV4zhHf"
      }
    },
    {
      "cell_type": "markdown",
      "source": [
        "To find the next permutation of an array nums, we can follow these steps:\n",
        "\n",
        "- Start from the rightmost element of nums and find the first pair of adjacent elements nums[i] and nums[i-1] such that nums[i-1] < nums[i]. This is because, in order to generate the next lexicographically greater permutation, we need to find the first element that can be increased.\n",
        "- If no such pair is found, it means that the given permutation is the last possible arrangement. In this case, we need to rearrange nums in ascending order, which is the lowest possible order. We can do this by reversing the entire array.\n",
        "- If a pair is found, we need to find the smallest element in the subarray nums[i:] that is greater than nums[i-1]. This element will replace nums[i-1] to form the next permutation. To find this element, we can start from the right side of the subarray and find the first element greater than nums[i-1].\n",
        "- Once we find the smallest element greater than nums[i-1], we swap it with nums[i-1].\n",
        "- Finally, we reverse the subarray nums[i:] to ensure that the remaining elements are in the lowest possible order."
      ],
      "metadata": {
        "id": "UlmbMeFIzzlO"
      }
    },
    {
      "cell_type": "code",
      "source": [
        "def nextPermutation(nums):\n",
        "    n = len(nums)\n",
        "    i = n - 2\n",
        "\n",
        "    # Find the first pair of adjacent elements in descending order\n",
        "    while i >= 0 and nums[i] >= nums[i+1]:\n",
        "        i -= 1\n",
        "\n",
        "    if i >= 0:\n",
        "        j = n - 1\n",
        "        # Find the smallest element in the subarray nums[i+1:] that is greater than nums[i]\n",
        "        while j > i and nums[j] <= nums[i]:\n",
        "            j -= 1\n",
        "        # Swap nums[i] and nums[j]\n",
        "        nums[i], nums[j] = nums[j], nums[i]\n",
        "\n",
        "    # Reverse the subarray nums[i+1:]\n",
        "    left = i + 1\n",
        "    right = n - 1\n",
        "    while left < right:\n",
        "        nums[left], nums[right] = nums[right], nums[left]\n",
        "        left += 1\n",
        "        right -= 1\n"
      ],
      "metadata": {
        "id": "-afIEs1Ulvkr"
      },
      "execution_count": 4,
      "outputs": []
    },
    {
      "cell_type": "code",
      "source": [
        "nums = [1, 2, 3]\n",
        "nextPermutation(nums)\n",
        "print(nums)\n"
      ],
      "metadata": {
        "colab": {
          "base_uri": "https://localhost:8080/"
        },
        "id": "5fHeXiKCz_j1",
        "outputId": "cb3560a9-41fc-4fd8-ba6f-1ff6e93fa018"
      },
      "execution_count": 5,
      "outputs": [
        {
          "output_type": "stream",
          "name": "stdout",
          "text": [
            "[1, 3, 2]\n"
          ]
        }
      ]
    },
    {
      "cell_type": "markdown",
      "source": [
        "Question 4\n",
        "Given a sorted array of distinct integers and a target value, return the index if the\n",
        "target is found. If not, return the index where it would be if it were inserted in\n",
        "order.\n",
        "\n",
        "You must write an algorithm with O(log n) runtime complexity.\n",
        "\n",
        "Example 1:\n",
        "Input: nums = [1,3,5,6], target = 5\n",
        "Output: 2\n",
        "\n",
        "________________________________________________________________________________________________________________________________________________________________"
      ],
      "metadata": {
        "id": "NM0fkcq00Kx2"
      }
    },
    {
      "cell_type": "markdown",
      "source": [
        "To find the index where a target value should be inserted in a sorted array of distinct integers, we can use a binary search algorithm with a slight modification. This approach ensures an O(log n) runtime complexity.\n",
        "\n",
        "Here's the optimized code to solve this problem:"
      ],
      "metadata": {
        "id": "NH9HPil70aEl"
      }
    },
    {
      "cell_type": "code",
      "source": [
        "def searchInsert(nums, target):\n",
        "    left = 0\n",
        "    right = len(nums)\n",
        "\n",
        "    while left < right:\n",
        "        mid = (left + right) // 2\n",
        "\n",
        "        if nums[mid] == target:\n",
        "            return mid\n",
        "        elif nums[mid] < target:\n",
        "            left = mid + 1\n",
        "        else:\n",
        "            right = mid\n",
        "\n",
        "    return left\n"
      ],
      "metadata": {
        "id": "QGq2NhsW0C7y"
      },
      "execution_count": 6,
      "outputs": []
    },
    {
      "cell_type": "markdown",
      "source": [
        "Let's walk through the code:\n",
        "\n",
        "- We initialize the variables left and right to represent the range of indices we're considering for the target value.\n",
        "- We enter a while loop that continues until left becomes greater than or equal to right. This indicates that the search range is empty, and we have found the correct index to insert the target.\n",
        "- Inside the while loop, we calculate the middle index mid as the average of left and right.\n",
        "- We compare the value at the middle index nums[mid] with the target value.\n",
        "- If they are equal, it means we have found the target in the array, so we return the middle index mid.\n",
        "- If nums[mid] is less than the target, it means the target should be placed to the right of the middle index. We update left to mid + 1 to search in the right half of the array.\n",
        "- If nums[mid] is greater than the target, it means the target should be placed to the left of the middle index. We update right to mid to search in the left half of the array.\n",
        "\n",
        "After the while loop, we return the value of left, which represents the correct index to insert the target value in the array."
      ],
      "metadata": {
        "id": "6AIpDHEE0qWj"
      }
    },
    {
      "cell_type": "code",
      "source": [
        "nums = [1, 3, 5, 6]\n",
        "target = 5\n",
        "index = searchInsert(nums, target)\n",
        "print(index)\n"
      ],
      "metadata": {
        "colab": {
          "base_uri": "https://localhost:8080/"
        },
        "id": "eQ8eylPK0lhQ",
        "outputId": "a08a8c49-5838-452b-dc98-3b7999d8bfbe"
      },
      "execution_count": 7,
      "outputs": [
        {
          "output_type": "stream",
          "name": "stdout",
          "text": [
            "2\n"
          ]
        }
      ]
    },
    {
      "cell_type": "markdown",
      "source": [
        "<aside>\n",
        "💡 **Question 5**\n",
        "You are given a large integer represented as an integer array digits, where each\n",
        "digits[i] is the ith digit of the integer. The digits are ordered from most significant\n",
        "to least significant in left-to-right order. The large integer does not contain any\n",
        "leading 0's.\n",
        "\n",
        "Increment the large integer by one and return the resulting array of digits.\n",
        "\n",
        "**Example 1:**\n",
        "Input: digits = [1,2,3]\n",
        "Output: [1,2,4]\n",
        "\n",
        "**Explanation:** The array represents the integer 123.\n",
        "Incrementing by one gives 123 + 1 = 124.\n",
        "Thus, the result should be [1,2,4].\n",
        "\n",
        "</aside>\n",
        "\n",
        "____________________________________________________________________________________________________________________________________________________________________"
      ],
      "metadata": {
        "id": "EUAQlYO-1GcK"
      }
    },
    {
      "cell_type": "markdown",
      "source": [
        "To increment a large integer represented as an array of digits by one, we need to consider the carry-over operation that may occur when incrementing the least significant digit. If there is a carry-over, it propagates to the more significant digits until no carry-over is needed."
      ],
      "metadata": {
        "id": "ShxchiWD1OJQ"
      }
    },
    {
      "cell_type": "code",
      "source": [
        "def plusOne(digits):\n",
        "    n = len(digits)\n",
        "    carry = 1\n",
        "\n",
        "    for i in range(n - 1, -1, -1):\n",
        "        digits[i] += carry\n",
        "        carry = digits[i] // 10\n",
        "        digits[i] %= 10\n",
        "\n",
        "        if carry == 0:\n",
        "            break\n",
        "\n",
        "    if carry == 1:\n",
        "        digits.insert(0, 1)\n",
        "\n",
        "    return digits\n"
      ],
      "metadata": {
        "id": "nGB6JQ3809vy"
      },
      "execution_count": 8,
      "outputs": []
    },
    {
      "cell_type": "markdown",
      "source": [
        "Let's walk through the code:\n",
        "\n",
        "- We start by initializing the carry variable to 1, as we want to increment the large integer by one.\n",
        "- We iterate over the digits array from right to left using a reverse range.\n",
        "For each digit, we add the carry value to it. The initial carry is 1.\n",
        "- We update the carry value by performing an integer division by 10 on the digit.\n",
        "- We update the digit by taking the remainder of the division by 10, which gives us the correct value for the current digit.\n",
        "- If the carry becomes zero, it means there is no need for further propagation, so we break out of the loop.\n",
        "- After the loop, if the carry is still equal to 1, it means we need to add an additional digit of 1 to the most significant position.\n",
        "- Finally, we return the updated digits array."
      ],
      "metadata": {
        "id": "1dlT5YsG1VlB"
      }
    },
    {
      "cell_type": "code",
      "source": [
        "digits = [1, 2, 3]\n",
        "result = plusOne(digits)\n",
        "print(result)\n"
      ],
      "metadata": {
        "colab": {
          "base_uri": "https://localhost:8080/"
        },
        "id": "G0NUJX-N1Rme",
        "outputId": "c94b1c2b-618a-4c70-8dc1-3c31c165c5c8"
      },
      "execution_count": 9,
      "outputs": [
        {
          "output_type": "stream",
          "name": "stdout",
          "text": [
            "[1, 2, 4]\n"
          ]
        }
      ]
    },
    {
      "cell_type": "markdown",
      "source": [
        "Question 6\n",
        "Given a non-empty array of integers nums, every element appears twice except\n",
        "for one. Find that single one.\n",
        "\n",
        "You must implement a solution with a linear runtime complexity and use only\n",
        "constant extra space.\n",
        "\n",
        "Example 1:\n",
        "Input: nums = [2,2,1]\n",
        "Output: 1"
      ],
      "metadata": {
        "id": "MrycnHMc1k5F"
      }
    },
    {
      "cell_type": "markdown",
      "source": [
        "To find the element that appears only once in a non-empty array of integers where every other element appears twice, we can utilize the XOR operation. XORing an element with itself results in 0, so if we XOR all the elements in the array, the duplicate elements will cancel each other out, leaving us with the element that appears only once.\n",
        "\n",
        "Here's the optimized code to solve this problem:"
      ],
      "metadata": {
        "id": "UdS7tCGD2eFW"
      }
    },
    {
      "cell_type": "code",
      "source": [
        "def singleNumber(nums):\n",
        "    result = 0\n",
        "    for num in nums:\n",
        "        result ^= num\n",
        "    return result\n"
      ],
      "metadata": {
        "id": "1eyin-DU1gMQ"
      },
      "execution_count": 10,
      "outputs": []
    },
    {
      "cell_type": "markdown",
      "source": [
        "Let's walk through the code:\n",
        "\n",
        "- We initialize the variable result to 0, which will store the XOR of all the elements in the array.\n",
        "- We iterate through each element num in the array nums.\n",
        "- For each num, we XOR it with the current value of result. This operation cancels out the duplicate elements.\n",
        "- After iterating through all the elements, result will contain the XOR of all the elements in the array, leaving only the element that appears once.\n",
        "We return the value of result."
      ],
      "metadata": {
        "id": "LVofI60d2nmL"
      }
    },
    {
      "cell_type": "code",
      "source": [
        "nums = [2, 2, 1]\n",
        "result = singleNumber(nums)\n",
        "print(result)\n"
      ],
      "metadata": {
        "colab": {
          "base_uri": "https://localhost:8080/"
        },
        "id": "n9wX_SPJ2jXT",
        "outputId": "e701d2fe-8f07-496d-a4c8-e5f6aac49b62"
      },
      "execution_count": 11,
      "outputs": [
        {
          "output_type": "stream",
          "name": "stdout",
          "text": [
            "1\n"
          ]
        }
      ]
    },
    {
      "cell_type": "markdown",
      "source": [
        "Question 7\n",
        "You are given an inclusive range [lower, upper] and a sorted unique integer array\n",
        "nums, where all elements are within the inclusive range.\n",
        "\n",
        "A number x is considered missing if x is in the range [lower, upper] and x is not in\n",
        "nums.\n",
        "\n",
        "Return the shortest sorted list of ranges that exactly covers all the missing\n",
        "numbers. That is, no element of nums is included in any of the ranges, and each\n",
        "missing number is covered by one of the ranges.\n",
        "\n",
        "Example 1:\n",
        "Input: nums = [0,1,3,50,75], lower = 0, upper = 99\n",
        "Output: [[2,2],[4,49],[51,74],[76,99]]\n",
        "\n",
        "Explanation: The ranges are:\n",
        "[2,2]\n",
        "[4,49]\n",
        "[51,74]\n",
        "[76,99]\n",
        "\n",
        "__________________________________________________________________________________________________________________________________________________________________________"
      ],
      "metadata": {
        "id": "6q4USee6249R"
      }
    },
    {
      "cell_type": "markdown",
      "source": [
        "To find the shortest sorted list of ranges that covers all the missing numbers in a given range [lower, upper] with respect to a sorted unique integer array nums, we can iterate through the numbers from lower to upper and identify the missing numbers. As we encounter missing numbers, we form ranges by tracking the start and end of each range."
      ],
      "metadata": {
        "id": "VNRX-85X3O-h"
      }
    },
    {
      "cell_type": "code",
      "source": [
        "def findMissingRanges(nums, lower, upper):\n",
        "    missingRanges = []\n",
        "\n",
        "    def addRange(start, end):\n",
        "        if start == end:\n",
        "            missingRanges.append(str(start))\n",
        "        else:\n",
        "            missingRanges.append(str(start) + '->' + str(end))\n",
        "\n",
        "    # Handle the first missing range\n",
        "    if lower < nums[0]:\n",
        "        addRange(lower, nums[0] - 1)\n",
        "\n",
        "    # Handle the missing ranges between numbers in the array\n",
        "    for i in range(len(nums) - 1):\n",
        "        if nums[i] + 1 < nums[i+1]:\n",
        "            addRange(nums[i] + 1, nums[i+1] - 1)\n",
        "\n",
        "    # Handle the last missing range\n",
        "    if nums[-1] < upper:\n",
        "        addRange(nums[-1] + 1, upper)\n",
        "\n",
        "    return missingRanges\n"
      ],
      "metadata": {
        "id": "psoA0TJi2yf8"
      },
      "execution_count": 12,
      "outputs": []
    },
    {
      "cell_type": "markdown",
      "source": [
        "Let's walk through the code:\n",
        "\n",
        "- We start by defining an empty list missingRanges to store the missing ranges as strings.\n",
        "- We define a helper function addRange to add a range to the missingRanges list. If the start and end of the range are equal, we append just the start value as a string. Otherwise, we append the start and end values separated by '->' as a string.\n",
        "- We handle the first missing range if the lowest number in the array is greater than lower. In this case, we call the addRange function with lower as the start and nums[0] - 1 as the end.\n",
        "- We iterate through the array nums from the first element to the second-to-last element. If there is a gap between nums[i] and nums[i+1], we call the addRange function with nums[i] + 1 as the start and nums[i+1] - 1 as the end to add the missing range.\n",
        "- We handle the last missing range if the highest number in the array is less than upper. In this case, we call the addRange function with nums[-1] + 1 as the start and upper as the end.\n",
        "- Finally, we return the missingRanges list."
      ],
      "metadata": {
        "id": "52MSo32n3d3U"
      }
    },
    {
      "cell_type": "code",
      "source": [
        "nums = [0, 1, 3, 50, 75]\n",
        "lower = 0\n",
        "upper = 99\n",
        "result = findMissingRanges(nums, lower, upper)\n",
        "print(result)\n"
      ],
      "metadata": {
        "colab": {
          "base_uri": "https://localhost:8080/"
        },
        "id": "8hp19EqX3Xb9",
        "outputId": "2cacb967-07ed-43ed-db12-cfa3d1d435bd"
      },
      "execution_count": 13,
      "outputs": [
        {
          "output_type": "stream",
          "name": "stdout",
          "text": [
            "['2', '4->49', '51->74', '76->99']\n"
          ]
        }
      ]
    },
    {
      "cell_type": "markdown",
      "source": [
        "This indicates that the shortest sorted list of ranges that covers all the missing numbers in the range [0, 99] with respect to the array [0, 1, 3, 50, 75] is [['2'], ['4', '49'], ['51', '74'], ['76', '99']]."
      ],
      "metadata": {
        "id": "Re6r8bfD3_fc"
      }
    },
    {
      "cell_type": "markdown",
      "source": [
        "**Question 8\n",
        "Given an array of meeting time intervals where intervals[i] = [starti, endi],\n",
        "determine if a person could attend all meetings.**\n",
        "\n",
        "Example 1:\n",
        "Input: intervals = [[0,30],[5,10],[15,20]]\n",
        "Output: false"
      ],
      "metadata": {
        "id": "eW01-Ze34FJL"
      }
    },
    {
      "cell_type": "markdown",
      "source": [
        "To determine if a person could attend all the meetings, we need to check if any of the meetings overlap with each other. If there are no overlapping meetings, it means that the person can attend all the meetings.\n",
        "\n",
        "Here's a possible approach to solve this problem:\n",
        "\n",
        "- Sort the intervals based on the start time of each meeting. This will ensure that we can easily compare adjacent meetings.\n",
        "- Iterate through the sorted intervals starting from the second interval.\n",
        "- For each interval, compare its start time with the end time of the previous interval.\n",
        "- If the start time of the current interval is less than or equal to the end time of the previous interval, there is an overlap, and the person cannot attend all the meetings. Return false.\n",
        "- Otherwise, move to the next interval.\n",
        "\n",
        "- If we have iterated through all the intervals without any overlaps, return true, indicating that the person can attend all the meetings."
      ],
      "metadata": {
        "id": "sf-B6j5S4e16"
      }
    },
    {
      "cell_type": "code",
      "source": [
        "def can_attend_meetings(intervals):\n",
        "    intervals.sort(key=lambda x: x[0])  # Sort intervals based on start time\n",
        "    \n",
        "    for i in range(1, len(intervals)):\n",
        "        if intervals[i][0] < intervals[i-1][1]:\n",
        "            return False  # Overlapping meetings\n",
        "        \n",
        "    return True  # No overlaps found, person can attend all meetings\n",
        "\n",
        "# Test case\n",
        "intervals = [[0, 30], [5, 10], [15, 20]]\n",
        "print(can_attend_meetings(intervals))  # Output: False\n"
      ],
      "metadata": {
        "colab": {
          "base_uri": "https://localhost:8080/"
        },
        "id": "d5cEhL703r-m",
        "outputId": "be567d18-6155-4655-b0a3-becda2991b7e"
      },
      "execution_count": 14,
      "outputs": [
        {
          "output_type": "stream",
          "name": "stdout",
          "text": [
            "False\n"
          ]
        }
      ]
    },
    {
      "cell_type": "markdown",
      "source": [
        "In the given example, the output is false because the meeting intervals [5, 10] and [15, 20] overlap with the interval [0, 30].\n"
      ],
      "metadata": {
        "id": "dVk4NF5x4xRk"
      }
    },
    {
      "cell_type": "code",
      "source": [],
      "metadata": {
        "id": "kHmvXrSH4rQV"
      },
      "execution_count": null,
      "outputs": []
    }
  ]
}