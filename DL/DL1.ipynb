{
  "nbformat": 4,
  "nbformat_minor": 0,
  "metadata": {
    "colab": {
      "provenance": []
    },
    "kernelspec": {
      "name": "python3",
      "display_name": "Python 3"
    },
    "language_info": {
      "name": "python"
    }
  },
  "cells": [
    {
      "cell_type": "markdown",
      "source": [
        "Question 1 -\n",
        "Implement 3 different CNN architectures with a comparison table for the MNSIT\n",
        "dataset using the Tensorflow library.\n",
        "Note -\n",
        "1. The model parameters for each architecture should not be more than 8000\n",
        "parameters\n",
        "2. Code comments should be given for proper code understanding.\n",
        "3. The minimum accuracy for each accuracy should be at least 96%"
      ],
      "metadata": {
        "id": "fS76niEsVKIr"
      }
    },
    {
      "cell_type": "code",
      "execution_count": 1,
      "metadata": {
        "colab": {
          "base_uri": "https://localhost:8080/"
        },
        "id": "TaSDKVB-TwGx",
        "outputId": "86c88097-c435-461d-a1a2-d5005cc8a286"
      },
      "outputs": [
        {
          "output_type": "stream",
          "name": "stdout",
          "text": [
            "Downloading data from https://storage.googleapis.com/tensorflow/tf-keras-datasets/mnist.npz\n",
            "11490434/11490434 [==============================] - 0s 0us/step\n"
          ]
        }
      ],
      "source": [
        "import tensorflow as tf\n",
        "from tensorflow.keras import layers\n",
        "from tensorflow.keras.datasets import mnist\n",
        "\n",
        "# Load the MNIST dataset\n",
        "(x_train, y_train), (x_test, y_test) = mnist.load_data()\n",
        "\n",
        "# Preprocess the data\n",
        "x_train = x_train.reshape(-1, 28, 28, 1).astype(\"float32\") / 255.0\n",
        "x_test = x_test.reshape(-1, 28, 28, 1).astype(\"float32\") / 255.0\n",
        "\n",
        "# Define the first CNN architecture\n",
        "model1 = tf.keras.Sequential([\n",
        "    layers.Conv2D(32, (3, 3), activation='relu', input_shape=(28, 28, 1)),\n",
        "    layers.MaxPooling2D((2, 2)),\n",
        "    layers.Flatten(),\n",
        "    layers.Dense(64, activation='relu'),\n",
        "    layers.Dense(10, activation='softmax')\n",
        "])\n",
        "\n",
        "# Define the second CNN architecture\n",
        "model2 = tf.keras.Sequential([\n",
        "    layers.Conv2D(16, (3, 3), activation='relu', input_shape=(28, 28, 1)),\n",
        "    layers.MaxPooling2D((2, 2)),\n",
        "    layers.Conv2D(32, (3, 3), activation='relu'),\n",
        "    layers.MaxPooling2D((2, 2)),\n",
        "    layers.Flatten(),\n",
        "    layers.Dense(128, activation='relu'),\n",
        "    layers.Dense(10, activation='softmax')\n",
        "])\n",
        "\n",
        "# Define the third CNN architecture\n",
        "model3 = tf.keras.Sequential([\n",
        "    layers.Conv2D(8, (3, 3), activation='relu', input_shape=(28, 28, 1)),\n",
        "    layers.Conv2D(16, (3, 3), activation='relu'),\n",
        "    layers.Flatten(),\n",
        "    layers.Dense(64, activation='relu'),\n",
        "    layers.Dense(10, activation='softmax')\n",
        "])\n",
        "\n"
      ]
    },
    {
      "cell_type": "code",
      "source": [
        "# Compile the models\n",
        "model1.compile(optimizer='adam', loss='sparse_categorical_crossentropy', metrics=['accuracy'])\n",
        "model2.compile(optimizer='adam', loss='sparse_categorical_crossentropy', metrics=['accuracy'])\n",
        "model3.compile(optimizer='adam', loss='sparse_categorical_crossentropy', metrics=['accuracy'])\n",
        "\n"
      ],
      "metadata": {
        "id": "IqC6xyLtVU9_"
      },
      "execution_count": 2,
      "outputs": []
    },
    {
      "cell_type": "code",
      "source": [
        "# Train the models\n",
        "history1 = model1.fit(x_train, y_train, batch_size=64, epochs=10, validation_data=(x_test, y_test))\n",
        "history2 = model2.fit(x_train, y_train, batch_size=64, epochs=10, validation_data=(x_test, y_test))\n",
        "history3 = model3.fit(x_train, y_train, batch_size=64, epochs=10, validation_data=(x_test, y_test))\n"
      ],
      "metadata": {
        "colab": {
          "base_uri": "https://localhost:8080/"
        },
        "id": "mIPXp9_nVamd",
        "outputId": "bdd89902-3185-4a29-be66-69af5cdc023b"
      },
      "execution_count": 3,
      "outputs": [
        {
          "output_type": "stream",
          "name": "stdout",
          "text": [
            "Epoch 1/10\n",
            "938/938 [==============================] - 38s 40ms/step - loss: 0.2111 - accuracy: 0.9385 - val_loss: 0.0771 - val_accuracy: 0.9757\n",
            "Epoch 2/10\n",
            "938/938 [==============================] - 35s 37ms/step - loss: 0.0674 - accuracy: 0.9796 - val_loss: 0.0620 - val_accuracy: 0.9792\n",
            "Epoch 3/10\n",
            "938/938 [==============================] - 34s 36ms/step - loss: 0.0448 - accuracy: 0.9869 - val_loss: 0.0489 - val_accuracy: 0.9837\n",
            "Epoch 4/10\n",
            "938/938 [==============================] - 34s 37ms/step - loss: 0.0339 - accuracy: 0.9894 - val_loss: 0.0450 - val_accuracy: 0.9861\n",
            "Epoch 5/10\n",
            "938/938 [==============================] - 34s 36ms/step - loss: 0.0254 - accuracy: 0.9923 - val_loss: 0.0509 - val_accuracy: 0.9839\n",
            "Epoch 6/10\n",
            "938/938 [==============================] - 35s 37ms/step - loss: 0.0198 - accuracy: 0.9940 - val_loss: 0.0440 - val_accuracy: 0.9863\n",
            "Epoch 7/10\n",
            "938/938 [==============================] - 36s 38ms/step - loss: 0.0136 - accuracy: 0.9958 - val_loss: 0.0529 - val_accuracy: 0.9840\n",
            "Epoch 8/10\n",
            "938/938 [==============================] - 38s 40ms/step - loss: 0.0121 - accuracy: 0.9959 - val_loss: 0.0490 - val_accuracy: 0.9859\n",
            "Epoch 9/10\n",
            "938/938 [==============================] - 33s 36ms/step - loss: 0.0087 - accuracy: 0.9973 - val_loss: 0.0508 - val_accuracy: 0.9860\n",
            "Epoch 10/10\n",
            "938/938 [==============================] - 36s 38ms/step - loss: 0.0069 - accuracy: 0.9978 - val_loss: 0.0500 - val_accuracy: 0.9867\n",
            "Epoch 1/10\n",
            "938/938 [==============================] - 36s 37ms/step - loss: 0.1866 - accuracy: 0.9453 - val_loss: 0.0635 - val_accuracy: 0.9797\n",
            "Epoch 2/10\n",
            "938/938 [==============================] - 36s 38ms/step - loss: 0.0595 - accuracy: 0.9818 - val_loss: 0.0456 - val_accuracy: 0.9861\n",
            "Epoch 3/10\n",
            "938/938 [==============================] - 36s 39ms/step - loss: 0.0420 - accuracy: 0.9872 - val_loss: 0.0373 - val_accuracy: 0.9872\n",
            "Epoch 4/10\n",
            "938/938 [==============================] - 35s 37ms/step - loss: 0.0310 - accuracy: 0.9901 - val_loss: 0.0302 - val_accuracy: 0.9905\n",
            "Epoch 5/10\n",
            "938/938 [==============================] - 34s 37ms/step - loss: 0.0242 - accuracy: 0.9923 - val_loss: 0.0290 - val_accuracy: 0.9905\n",
            "Epoch 6/10\n",
            "938/938 [==============================] - 35s 37ms/step - loss: 0.0200 - accuracy: 0.9938 - val_loss: 0.0287 - val_accuracy: 0.9903\n",
            "Epoch 7/10\n",
            "938/938 [==============================] - 36s 38ms/step - loss: 0.0166 - accuracy: 0.9947 - val_loss: 0.0378 - val_accuracy: 0.9880\n",
            "Epoch 8/10\n",
            "938/938 [==============================] - 36s 38ms/step - loss: 0.0120 - accuracy: 0.9964 - val_loss: 0.0284 - val_accuracy: 0.9909\n",
            "Epoch 9/10\n",
            "938/938 [==============================] - 36s 39ms/step - loss: 0.0120 - accuracy: 0.9963 - val_loss: 0.0320 - val_accuracy: 0.9902\n",
            "Epoch 10/10\n",
            "938/938 [==============================] - 35s 37ms/step - loss: 0.0090 - accuracy: 0.9971 - val_loss: 0.0404 - val_accuracy: 0.9892\n",
            "Epoch 1/10\n",
            "938/938 [==============================] - 46s 48ms/step - loss: 0.1744 - accuracy: 0.9493 - val_loss: 0.0595 - val_accuracy: 0.9801\n",
            "Epoch 2/10\n",
            "938/938 [==============================] - 50s 54ms/step - loss: 0.0541 - accuracy: 0.9835 - val_loss: 0.0447 - val_accuracy: 0.9856\n",
            "Epoch 3/10\n",
            "938/938 [==============================] - 46s 49ms/step - loss: 0.0352 - accuracy: 0.9887 - val_loss: 0.0396 - val_accuracy: 0.9864\n",
            "Epoch 4/10\n",
            "938/938 [==============================] - 48s 51ms/step - loss: 0.0258 - accuracy: 0.9915 - val_loss: 0.0430 - val_accuracy: 0.9862\n",
            "Epoch 5/10\n",
            "938/938 [==============================] - 46s 49ms/step - loss: 0.0164 - accuracy: 0.9949 - val_loss: 0.0429 - val_accuracy: 0.9878\n",
            "Epoch 6/10\n",
            "938/938 [==============================] - 47s 50ms/step - loss: 0.0134 - accuracy: 0.9955 - val_loss: 0.0539 - val_accuracy: 0.9851\n",
            "Epoch 7/10\n",
            "938/938 [==============================] - 46s 49ms/step - loss: 0.0099 - accuracy: 0.9968 - val_loss: 0.0441 - val_accuracy: 0.9889\n",
            "Epoch 8/10\n",
            "938/938 [==============================] - 46s 49ms/step - loss: 0.0084 - accuracy: 0.9972 - val_loss: 0.0574 - val_accuracy: 0.9860\n",
            "Epoch 9/10\n",
            "938/938 [==============================] - 46s 50ms/step - loss: 0.0078 - accuracy: 0.9973 - val_loss: 0.0575 - val_accuracy: 0.9865\n",
            "Epoch 10/10\n",
            "938/938 [==============================] - 47s 50ms/step - loss: 0.0049 - accuracy: 0.9983 - val_loss: 0.0806 - val_accuracy: 0.9824\n"
          ]
        }
      ]
    },
    {
      "cell_type": "code",
      "source": [
        "# Evaluate the models\n",
        "score1 = model1.evaluate(x_test, y_test, verbose=0)\n",
        "score2 = model2.evaluate(x_test, y_test, verbose=0)\n",
        "score3 = model3.evaluate(x_test, y_test, verbose=0)\n",
        "\n",
        "# Print the comparison table\n",
        "print(\"Model\\t\\t\\tAccuracy\")\n",
        "print(\"-------------------------------------------------\")\n",
        "print(f\"Model 1\\t\\t\\t{score1[1]*100:.2f}%\")\n",
        "print(f\"Model 2\\t\\t\\t{score2[1]*100:.2f}%\")\n",
        "print(f\"Model 3\\t\\t\\t{score3[1]*100:.2f}%\")"
      ],
      "metadata": {
        "colab": {
          "base_uri": "https://localhost:8080/"
        },
        "id": "mAPvpuP_VdtL",
        "outputId": "7c7f592a-b802-4312-c154-2360803af2fc"
      },
      "execution_count": 4,
      "outputs": [
        {
          "output_type": "stream",
          "name": "stdout",
          "text": [
            "Model\t\t\tAccuracy\n",
            "-------------------------------------------------\n",
            "Model 1\t\t\t98.67%\n",
            "Model 2\t\t\t98.92%\n",
            "Model 3\t\t\t98.24%\n"
          ]
        }
      ]
    },
    {
      "cell_type": "code",
      "source": [],
      "metadata": {
        "id": "1RcTZCl-aWyz"
      },
      "execution_count": null,
      "outputs": []
    }
  ]
}