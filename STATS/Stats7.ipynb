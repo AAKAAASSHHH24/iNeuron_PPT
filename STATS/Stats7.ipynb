{
  "nbformat": 4,
  "nbformat_minor": 0,
  "metadata": {
    "colab": {
      "provenance": []
    },
    "kernelspec": {
      "name": "python3",
      "display_name": "Python 3"
    },
    "language_info": {
      "name": "python"
    }
  },
  "cells": [
    {
      "cell_type": "markdown",
      "source": [
        "Q-7. The equations of two lines of regression, obtained in a correlation analysis\n",
        "between variables X and Y are as follows:\n",
        "\n",
        "and . 2X + 3 − 8 = 0 2Y + X − 5 = 0 The variance of X = 4 Find the\n",
        "\n",
        "a. Variance of Y\n",
        "\n",
        "b. Coefficient of determination of C and Y\n",
        "\n",
        "c. Standard error of estimate of X on Y and of Y on X."
      ],
      "metadata": {
        "id": "qhLRVdg0BI-f"
      }
    },
    {
      "cell_type": "markdown",
      "source": [
        "The equations of the regression lines are:\n",
        "\n",
        "2X + 3Y - 8 = 0\n",
        "2Y + X - 5 = 0\n",
        "Given:\n",
        "Variance of X = 4\n",
        "\n",
        "a. Variance of Y:\n",
        "To find the variance of Y, we need to calculate the coefficient of X^2 in the regression equation for Y.\n",
        "\n",
        "From the second equation, we can isolate Y:\n",
        "2Y = 5 - X\n",
        "Y = (5 - X) / 2\n",
        "\n",
        "Now, let's calculate the variance of Y. Since the variance of X is given as 4, we can use the regression equation for X to calculate the covariance between X and Y:\n",
        "\n",
        "Cov(X, Y) = Cov(2X + 3Y - 8, Y)\n",
        "= Cov(2X, Y) + Cov(3Y, Y) - Cov(8, Y)\n",
        "= 2 * Cov(X, Y) + 3 * Var(Y)\n",
        "\n",
        "Since the covariance between X and Y is 0 (as they are uncorrelated), the equation simplifies to:\n",
        "0 = 2 * Cov(X, Y) + 3 * Var(Y)\n",
        "\n",
        "Solving for Var(Y):\n",
        "3 * Var(Y) = 0\n",
        "Var(Y) = 0\n",
        "\n",
        "Therefore, the variance of Y is 0.\n",
        "\n",
        "b. Coefficient of determination (R^2) of X and Y:\n",
        "\n",
        "The coefficient of determination represents the proportion of the total variation in the dependent variable (Y) that can be explained by the independent variable (X). It is calculated as the square of the correlation coefficient (r).\n",
        "\n",
        "To find the coefficient of determination for X and Y, we need the correlation coefficient (r). We can calculate it using the given regression equations.\n",
        "\n",
        "From the first equation, we can solve for Y:\n",
        "\n",
        "2X + 3Y - 8 = 0\n",
        "\n",
        "3Y = 8 - 2X\n",
        "\n",
        "Y = (8 - 2X) / 3\n",
        "\n",
        "Now, we can calculate the correlation coefficient (r) using the formulas:\n",
        "\n",
        "r = Cov(X, Y) / (std(X) * std(Y))\n",
        "\n",
        "Cov(X, Y) = Cov(2X + 3Y - 8, Y)\n",
        "= Cov(2X, Y) + Cov(3Y, Y) - Cov(8, Y)\n",
        "= 2 * Cov(X, Y) + 3 * Var(Y)\n",
        "= 2 * Cov(X, Y) (since Var(Y) = 0)\n",
        "\n",
        "Given that the covariance between X and Y is 0 (as they are uncorrelated), Cov(X, Y) = 0.\n",
        "\n",
        "std(X) = sqrt(Var(X)) = sqrt(4) = 2\n",
        "\n",
        "std(Y) = sqrt(Var(Y)) = sqrt(0) = 0\n",
        "\n",
        "r = Cov(X, Y) / (std(X) * std(Y)) = 0 / (2 * 0) = undefined\n",
        "\n",
        "Since the denominator is 0, the correlation coefficient (r) is undefined, and therefore, the coefficient of determination (R^2) cannot be calculated.\n",
        "\n",
        "c. Standard error of estimate of X on Y and of Y on X:\n",
        "\n",
        "The standard error of estimate measures the average distance between the observed values and the predicted values from the regression line.\n",
        "\n",
        "For the standard error of estimate of X on Y (SE(X|Y)), we use the formula:\n",
        "SE(X|Y) = sqrt((1 - R^2) * Var(X))\n",
        "\n",
        "Since the coefficient of determination (R^2) is undefined, we cannot calculate the standard error of estimate of X"
      ],
      "metadata": {
        "id": "KyR1qb21CSBw"
      }
    },
    {
      "cell_type": "code",
      "execution_count": 1,
      "metadata": {
        "colab": {
          "base_uri": "https://localhost:8080/"
        },
        "id": "mIjHdLsRBHA4",
        "outputId": "4405de5c-807c-47f6-a845-9d7d2a658493"
      },
      "outputs": [
        {
          "output_type": "stream",
          "name": "stdout",
          "text": [
            "Variance of Y: 8.3125\n",
            "Coefficient of determination (R^2) of X and Y: 0.9999999999999993\n",
            "Standard error of estimate of X on Y: 5.1619136559035694e-08\n",
            "Standard error of estimate of Y on X: 7.441261543124235e-08\n"
          ]
        }
      ],
      "source": [
        "import numpy as np\n",
        "import pandas as pd\n",
        "\n",
        "# Given equations of regression lines\n",
        "eq1 = lambda X: (8 - 2*X) / 3\n",
        "eq2 = lambda X: (5 - X) / 2\n",
        "\n",
        "# Variance of X\n",
        "var_X = 4\n",
        "\n",
        "# a. Variance of Y\n",
        "var_Y = np.var(eq2(np.arange(1, 21)))  # Calculate variance of Y using equation 2\n",
        "\n",
        "# b. Coefficient of determination (R^2) of X and Y\n",
        "corr_coefficient = np.corrcoef(eq1(np.arange(1, 21)), eq2(np.arange(1, 21)))[0, 1]\n",
        "r_squared = corr_coefficient**2 if not np.isnan(corr_coefficient) else None\n",
        "\n",
        "# c. Standard error of estimate of X on Y and of Y on X\n",
        "SE_X_given_Y = np.sqrt((1 - r_squared) * var_X) if r_squared is not None else None\n",
        "SE_Y_given_X = np.sqrt((1 - r_squared) * var_Y) if r_squared is not None else None\n",
        "\n",
        "# Print the results\n",
        "print(\"Variance of Y:\", var_Y)\n",
        "print(\"Coefficient of determination (R^2) of X and Y:\", r_squared)\n",
        "print(\"Standard error of estimate of X on Y:\", SE_X_given_Y)\n",
        "print(\"Standard error of estimate of Y on X:\", SE_Y_given_X)\n"
      ]
    },
    {
      "cell_type": "markdown",
      "source": [
        "The code above calculates the variance of Y, the coefficient of determination (R^2) of X and Y, and the standard errors of estimate of X on Y and Y on X. It uses lambda functions to define the regression equations and NumPy functions for variance calculation and correlation coefficient calculation. The results are then printed for each metric.\n",
        "\n",
        "Note that in case the correlation coefficient (r) is undefined, the code handles it by assigning None to the coefficient of determination (R^2) and the standard errors of estimate."
      ],
      "metadata": {
        "id": "wVaxaHz3DfZV"
      }
    },
    {
      "cell_type": "code",
      "source": [],
      "metadata": {
        "id": "CIMZLG3-DZTH"
      },
      "execution_count": null,
      "outputs": []
    }
  ]
}