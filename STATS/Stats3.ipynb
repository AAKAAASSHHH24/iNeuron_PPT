{
  "nbformat": 4,
  "nbformat_minor": 0,
  "metadata": {
    "colab": {
      "provenance": []
    },
    "kernelspec": {
      "name": "python3",
      "display_name": "Python 3"
    },
    "language_info": {
      "name": "python"
    }
  },
  "cells": [
    {
      "cell_type": "markdown",
      "source": [
        "Q-3. Consider the ‘Blood Pressure Before’ and ‘Blood Pressure After’ columns from the\n",
        "data and calculate the following\n",
        "\n",
        "https://drive.google.com/file/d/1mCjtYHiX--mMUjicuaP2gH3k-SnFxt8Y/view?usp=share_\n",
        "\n",
        "a. Measure the dispersion in both and interpret the results.\n",
        "\n",
        "b. Calculate mean and 5% confidence interval and plot it in a graph\n",
        "\n",
        "c. Calculate the Mean absolute deviation and Standard deviation and interpret\n",
        "the results.\n",
        "\n",
        "d. Calculate the correlation coefficient and check the significance of it at 1% level\n",
        "of significance."
      ],
      "metadata": {
        "id": "7D1zUVwVqyi2"
      }
    },
    {
      "cell_type": "markdown",
      "source": [
        "----------------------------------------------------------------------------------------------------------------------------------------------------------------"
      ],
      "metadata": {
        "id": "BWHg0trysK-l"
      }
    },
    {
      "cell_type": "markdown",
      "source": [
        "\n",
        "a. Measure the dispersion in both and interpret the results:\n",
        "\n",
        "To measure the dispersion, we typically use the range, variance, and standard deviation.\n",
        "\n",
        "\n",
        "Range: Calculate the range by subtracting the minimum value from the maximum value. It provides an idea of the spread between the minimum and maximum values in the dataset.\n",
        "Range = Maximum value - Minimum value\n",
        "\n",
        "\n",
        "\n",
        "Variance: The variance measures how the data points vary from the mean. It quantifies the average squared difference between each data point and the mean. The formula for variance is:\n",
        "Variance = (Σ(x - μ)^2) / n\n",
        "\n",
        "\n",
        "where Σ represents the sum, x is an individual data point, μ is the mean, and n is the number of data points.\n",
        "\n",
        "\n",
        "\n",
        "Standard Deviation: The standard deviation is the square root of the variance. It measures the average amount of dispersion or spread of the data points from the mean. The formula for standard deviation is:\n",
        "Standard Deviation = sqrt(Variance)\n",
        "\n",
        "\n",
        "Interpretation: The range provides a simple measure of the spread between the minimum and maximum values. A larger range indicates a wider dispersion of values.\n",
        "\n",
        "The variance and standard deviation provide a more precise measure of dispersion. A larger variance or standard deviation indicates a greater spread of data points from the mean, implying more variability or dispersion in the dataset.\n",
        "\n",
        "b. Calculate the mean and 5% confidence interval and plot it in a graph:\n",
        "To calculate the mean and 5% confidence interval, we use the following steps:\n",
        "\n",
        "\n",
        "Calculate the Mean (Average): Add up all the data points and divide by the total number of data points.\n",
        "Mean = Σx / n\n",
        "\n",
        "\n",
        "where Σ represents the sum, x is an individual data point, and n is the number of data points.\n",
        "\n",
        "\n",
        "\n",
        "Calculate the Standard Error of the Mean (SEM): The standard error of the mean measures the variability in the sample mean. It is calculated as the standard deviation divided by the square root of the sample size.\n",
        "SEM = Standard Deviation / sqrt(n)\n",
        "\n",
        "\n",
        "\n",
        "Calculate the Margin of Error: The margin of error represents the range within which the population mean is likely to fall with a certain level of confidence. It is calculated by multiplying the standard error by the appropriate critical value from the t-distribution or Z-table, depending on the sample size and distribution assumption. For a 5% confidence interval, the critical value would be 1.96 (assuming a large sample size).\n",
        "\n",
        "\n",
        "Margin of Error = Critical Value * SEM\n",
        "\n",
        "\n",
        "\n",
        "Calculate the Confidence Interval: The confidence interval is calculated by subtracting and adding the margin of error to the mean.\n",
        "Confidence Interval = Mean ± Margin of Error\n",
        "\n",
        "\n",
        "Interpretation: The mean represents the average value of the dataset. The confidence interval provides a range within which we can be confident that the population mean lies. A 5% confidence interval implies that we are 95% confident that the population mean falls within the calculated interval.\n",
        "\n",
        "c. Calculate the Mean Absolute Deviation and Standard Deviation and interpret the results:\n",
        "The Mean Absolute Deviation (MAD) and Standard Deviation are measures of dispersion and quantify the average deviation of data points from the mean.\n",
        "\n",
        "\n",
        "Mean Absolute Deviation (MAD): The MAD is the average absolute difference between each data point and the mean. It is calculated as:\n",
        "MAD = Σ|xi - μ| / n\n",
        "\n",
        "\n",
        "where Σ represents the sum, xi is an individual data point, μ is the mean, and n is the number\n",
        "\n",
        "d. Calculate the correlation coefficient and check the significance of it at a 1% level of significance:\n",
        "\n",
        "To calculate the correlation coefficient between the 'Blood Pressure Before' and 'Blood Pressure After' columns, we'll use the Pearson correlation coefficient formula:\n",
        "\n",
        "Pearson correlation coefficient (r) = Covariance(X, Y) / (Standard Deviation(X) * Standard Deviation(Y))\n",
        "\n",
        "Once we have the correlation coefficient, we can check its significance at a 1% level of significance. This can be done by calculating the critical value of r for a given sample size (in this case, 100) and comparing it with the calculated correlation coefficient.\n",
        "\n",
        "The critical value of r at a 1% level of significance can be obtained from a correlation coefficient table or using statistical software. For a sample size of 100, the critical value would be approximately ±0.195.\n",
        "\n",
        "If the calculated correlation coefficient falls outside the range of ±0.195, it would be considered significant at a 1% level."
      ],
      "metadata": {
        "id": "YX7JyNt27num"
      }
    },
    {
      "cell_type": "code",
      "source": [
        "import pandas as pd\n",
        "import numpy as np\n"
      ],
      "metadata": {
        "id": "_gAUdIfCvD3O"
      },
      "execution_count": 1,
      "outputs": []
    },
    {
      "cell_type": "code",
      "source": [
        "df = pd.read_csv('/content/data.csv')\n",
        "df"
      ],
      "metadata": {
        "colab": {
          "base_uri": "https://localhost:8080/",
          "height": 423
        },
        "id": "E34Pzh8qxEDd",
        "outputId": "234d732d-65cd-44fa-a7cd-6bad32e62152"
      },
      "execution_count": 5,
      "outputs": [
        {
          "output_type": "execute_result",
          "data": {
            "text/plain": [
              "    Patient ID   Blood Pressure Before (mmHg)   Blood Pressure After (mmHg)\n",
              "0            1                            130                           120\n",
              "1            2                            142                           135\n",
              "2            3                            120                           118\n",
              "3            4                            135                           127\n",
              "4            5                            148                           140\n",
              "..         ...                            ...                           ...\n",
              "95          96                            136                           129\n",
              "96          97                            143                           137\n",
              "97          98                            127                           123\n",
              "98          99                            139                           135\n",
              "99         100                            135                           130\n",
              "\n",
              "[100 rows x 3 columns]"
            ],
            "text/html": [
              "\n",
              "  <div id=\"df-b0482c5e-9010-489c-9e2b-bb6dc75f451a\">\n",
              "    <div class=\"colab-df-container\">\n",
              "      <div>\n",
              "<style scoped>\n",
              "    .dataframe tbody tr th:only-of-type {\n",
              "        vertical-align: middle;\n",
              "    }\n",
              "\n",
              "    .dataframe tbody tr th {\n",
              "        vertical-align: top;\n",
              "    }\n",
              "\n",
              "    .dataframe thead th {\n",
              "        text-align: right;\n",
              "    }\n",
              "</style>\n",
              "<table border=\"1\" class=\"dataframe\">\n",
              "  <thead>\n",
              "    <tr style=\"text-align: right;\">\n",
              "      <th></th>\n",
              "      <th>Patient ID</th>\n",
              "      <th>Blood Pressure Before (mmHg)</th>\n",
              "      <th>Blood Pressure After (mmHg)</th>\n",
              "    </tr>\n",
              "  </thead>\n",
              "  <tbody>\n",
              "    <tr>\n",
              "      <th>0</th>\n",
              "      <td>1</td>\n",
              "      <td>130</td>\n",
              "      <td>120</td>\n",
              "    </tr>\n",
              "    <tr>\n",
              "      <th>1</th>\n",
              "      <td>2</td>\n",
              "      <td>142</td>\n",
              "      <td>135</td>\n",
              "    </tr>\n",
              "    <tr>\n",
              "      <th>2</th>\n",
              "      <td>3</td>\n",
              "      <td>120</td>\n",
              "      <td>118</td>\n",
              "    </tr>\n",
              "    <tr>\n",
              "      <th>3</th>\n",
              "      <td>4</td>\n",
              "      <td>135</td>\n",
              "      <td>127</td>\n",
              "    </tr>\n",
              "    <tr>\n",
              "      <th>4</th>\n",
              "      <td>5</td>\n",
              "      <td>148</td>\n",
              "      <td>140</td>\n",
              "    </tr>\n",
              "    <tr>\n",
              "      <th>...</th>\n",
              "      <td>...</td>\n",
              "      <td>...</td>\n",
              "      <td>...</td>\n",
              "    </tr>\n",
              "    <tr>\n",
              "      <th>95</th>\n",
              "      <td>96</td>\n",
              "      <td>136</td>\n",
              "      <td>129</td>\n",
              "    </tr>\n",
              "    <tr>\n",
              "      <th>96</th>\n",
              "      <td>97</td>\n",
              "      <td>143</td>\n",
              "      <td>137</td>\n",
              "    </tr>\n",
              "    <tr>\n",
              "      <th>97</th>\n",
              "      <td>98</td>\n",
              "      <td>127</td>\n",
              "      <td>123</td>\n",
              "    </tr>\n",
              "    <tr>\n",
              "      <th>98</th>\n",
              "      <td>99</td>\n",
              "      <td>139</td>\n",
              "      <td>135</td>\n",
              "    </tr>\n",
              "    <tr>\n",
              "      <th>99</th>\n",
              "      <td>100</td>\n",
              "      <td>135</td>\n",
              "      <td>130</td>\n",
              "    </tr>\n",
              "  </tbody>\n",
              "</table>\n",
              "<p>100 rows × 3 columns</p>\n",
              "</div>\n",
              "      <button class=\"colab-df-convert\" onclick=\"convertToInteractive('df-b0482c5e-9010-489c-9e2b-bb6dc75f451a')\"\n",
              "              title=\"Convert this dataframe to an interactive table.\"\n",
              "              style=\"display:none;\">\n",
              "        \n",
              "  <svg xmlns=\"http://www.w3.org/2000/svg\" height=\"24px\"viewBox=\"0 0 24 24\"\n",
              "       width=\"24px\">\n",
              "    <path d=\"M0 0h24v24H0V0z\" fill=\"none\"/>\n",
              "    <path d=\"M18.56 5.44l.94 2.06.94-2.06 2.06-.94-2.06-.94-.94-2.06-.94 2.06-2.06.94zm-11 1L8.5 8.5l.94-2.06 2.06-.94-2.06-.94L8.5 2.5l-.94 2.06-2.06.94zm10 10l.94 2.06.94-2.06 2.06-.94-2.06-.94-.94-2.06-.94 2.06-2.06.94z\"/><path d=\"M17.41 7.96l-1.37-1.37c-.4-.4-.92-.59-1.43-.59-.52 0-1.04.2-1.43.59L10.3 9.45l-7.72 7.72c-.78.78-.78 2.05 0 2.83L4 21.41c.39.39.9.59 1.41.59.51 0 1.02-.2 1.41-.59l7.78-7.78 2.81-2.81c.8-.78.8-2.07 0-2.86zM5.41 20L4 18.59l7.72-7.72 1.47 1.35L5.41 20z\"/>\n",
              "  </svg>\n",
              "      </button>\n",
              "      \n",
              "  <style>\n",
              "    .colab-df-container {\n",
              "      display:flex;\n",
              "      flex-wrap:wrap;\n",
              "      gap: 12px;\n",
              "    }\n",
              "\n",
              "    .colab-df-convert {\n",
              "      background-color: #E8F0FE;\n",
              "      border: none;\n",
              "      border-radius: 50%;\n",
              "      cursor: pointer;\n",
              "      display: none;\n",
              "      fill: #1967D2;\n",
              "      height: 32px;\n",
              "      padding: 0 0 0 0;\n",
              "      width: 32px;\n",
              "    }\n",
              "\n",
              "    .colab-df-convert:hover {\n",
              "      background-color: #E2EBFA;\n",
              "      box-shadow: 0px 1px 2px rgba(60, 64, 67, 0.3), 0px 1px 3px 1px rgba(60, 64, 67, 0.15);\n",
              "      fill: #174EA6;\n",
              "    }\n",
              "\n",
              "    [theme=dark] .colab-df-convert {\n",
              "      background-color: #3B4455;\n",
              "      fill: #D2E3FC;\n",
              "    }\n",
              "\n",
              "    [theme=dark] .colab-df-convert:hover {\n",
              "      background-color: #434B5C;\n",
              "      box-shadow: 0px 1px 3px 1px rgba(0, 0, 0, 0.15);\n",
              "      filter: drop-shadow(0px 1px 2px rgba(0, 0, 0, 0.3));\n",
              "      fill: #FFFFFF;\n",
              "    }\n",
              "  </style>\n",
              "\n",
              "      <script>\n",
              "        const buttonEl =\n",
              "          document.querySelector('#df-b0482c5e-9010-489c-9e2b-bb6dc75f451a button.colab-df-convert');\n",
              "        buttonEl.style.display =\n",
              "          google.colab.kernel.accessAllowed ? 'block' : 'none';\n",
              "\n",
              "        async function convertToInteractive(key) {\n",
              "          const element = document.querySelector('#df-b0482c5e-9010-489c-9e2b-bb6dc75f451a');\n",
              "          const dataTable =\n",
              "            await google.colab.kernel.invokeFunction('convertToInteractive',\n",
              "                                                     [key], {});\n",
              "          if (!dataTable) return;\n",
              "\n",
              "          const docLinkHtml = 'Like what you see? Visit the ' +\n",
              "            '<a target=\"_blank\" href=https://colab.research.google.com/notebooks/data_table.ipynb>data table notebook</a>'\n",
              "            + ' to learn more about interactive tables.';\n",
              "          element.innerHTML = '';\n",
              "          dataTable['output_type'] = 'display_data';\n",
              "          await google.colab.output.renderOutput(dataTable, element);\n",
              "          const docLink = document.createElement('div');\n",
              "          docLink.innerHTML = docLinkHtml;\n",
              "          element.appendChild(docLink);\n",
              "        }\n",
              "      </script>\n",
              "    </div>\n",
              "  </div>\n",
              "  "
            ]
          },
          "metadata": {},
          "execution_count": 5
        }
      ]
    },
    {
      "cell_type": "code",
      "source": [
        "df.columns"
      ],
      "metadata": {
        "colab": {
          "base_uri": "https://localhost:8080/"
        },
        "id": "JlJ69ib-4jbn",
        "outputId": "e3654526-568b-4e81-f077-1957698aef55"
      },
      "execution_count": 7,
      "outputs": [
        {
          "output_type": "execute_result",
          "data": {
            "text/plain": [
              "Index(['Patient ID', ' Blood Pressure Before (mmHg)',\n",
              "       ' Blood Pressure After (mmHg)'],\n",
              "      dtype='object')"
            ]
          },
          "metadata": {},
          "execution_count": 7
        }
      ]
    },
    {
      "cell_type": "code",
      "source": [
        "\n",
        "# a. Measure the dispersion\n",
        "dispersion_before = df[' Blood Pressure Before (mmHg)'].std()\n",
        "dispersion_after = df[' Blood Pressure After (mmHg)'].std()"
      ],
      "metadata": {
        "id": "l31XuIqr4bP9"
      },
      "execution_count": 8,
      "outputs": []
    },
    {
      "cell_type": "code",
      "source": [
        "dispersion_before"
      ],
      "metadata": {
        "colab": {
          "base_uri": "https://localhost:8080/"
        },
        "id": "2cz6OY_x44mk",
        "outputId": "342cff41-65db-4c25-f705-d008881081d6"
      },
      "execution_count": 9,
      "outputs": [
        {
          "output_type": "execute_result",
          "data": {
            "text/plain": [
              "6.598278012275076"
            ]
          },
          "metadata": {},
          "execution_count": 9
        }
      ]
    },
    {
      "cell_type": "code",
      "source": [
        "dispersion_after"
      ],
      "metadata": {
        "colab": {
          "base_uri": "https://localhost:8080/"
        },
        "id": "SWbSRpYd48hn",
        "outputId": "d0273073-a361-444b-a60f-d4af9fd0be7d"
      },
      "execution_count": 10,
      "outputs": [
        {
          "output_type": "execute_result",
          "data": {
            "text/plain": [
              "6.888022102523226"
            ]
          },
          "metadata": {},
          "execution_count": 10
        }
      ]
    },
    {
      "cell_type": "code",
      "source": [
        "# b. Calculate the mean and confidence interval\n",
        "mean_before = df[' Blood Pressure Before (mmHg)'].mean()\n",
        "mean_after = df[' Blood Pressure After (mmHg)'].mean()"
      ],
      "metadata": {
        "id": "-XLNgjTc5F3x"
      },
      "execution_count": 11,
      "outputs": []
    },
    {
      "cell_type": "code",
      "source": [
        "confidence_interval_before = df[' Blood Pressure Before (mmHg)'].sem() * 1.984  # Assuming large sample size\n",
        "confidence_interval_after = df[' Blood Pressure After (mmHg)'].sem() * 1.984\n"
      ],
      "metadata": {
        "id": "feTk-F0F5YBS"
      },
      "execution_count": 12,
      "outputs": []
    },
    {
      "cell_type": "code",
      "source": [
        "# c. Calculate the Mean Absolute Deviation\n",
        "mad_before = df[' Blood Pressure Before (mmHg)'].mad()\n",
        "mad_after = df[' Blood Pressure After (mmHg)'].mad()\n"
      ],
      "metadata": {
        "colab": {
          "base_uri": "https://localhost:8080/"
        },
        "id": "iCUBvD2n5wwX",
        "outputId": "fb17a39a-1339-43e9-b5f7-4a88b6d9d360"
      },
      "execution_count": 13,
      "outputs": [
        {
          "output_type": "stream",
          "name": "stderr",
          "text": [
            "<ipython-input-13-5dcec56ab8b2>:2: FutureWarning: The 'mad' method is deprecated and will be removed in a future version. To compute the same result, you may do `(df - df.mean()).abs().mean()`.\n",
            "  mad_before = df[' Blood Pressure Before (mmHg)'].mad()\n",
            "<ipython-input-13-5dcec56ab8b2>:3: FutureWarning: The 'mad' method is deprecated and will be removed in a future version. To compute the same result, you may do `(df - df.mean()).abs().mean()`.\n",
            "  mad_after = df[' Blood Pressure After (mmHg)'].mad()\n"
          ]
        }
      ]
    },
    {
      "cell_type": "code",
      "source": [
        "# d. Calculate the correlation coefficient\n",
        "correlation_coefficient = df[' Blood Pressure Before (mmHg)'].corr(df[' Blood Pressure After (mmHg)'])"
      ],
      "metadata": {
        "id": "cnnywOXW6uSJ"
      },
      "execution_count": 14,
      "outputs": []
    },
    {
      "cell_type": "code",
      "source": [
        "# Output the results\n",
        "print(\"Dispersion (Standard Deviation) for Blood Pressure Before:\", dispersion_before)\n",
        "print(\"Dispersion (Standard Deviation) for Blood Pressure After:\", dispersion_after)\n",
        "print(\"Mean and 95% Confidence Interval for Blood Pressure Before:\", mean_before, \"±\", confidence_interval_before)\n",
        "print(\"Mean and 95% Confidence Interval for Blood Pressure After:\", mean_after, \"±\", confidence_interval_after)\n",
        "print(\"Mean Absolute Deviation for Blood Pressure Before:\", mad_before)\n",
        "print(\"Mean Absolute Deviation for Blood Pressure After:\", mad_after)\n",
        "print(\"Correlation Coefficient:\", correlation_coefficient)"
      ],
      "metadata": {
        "colab": {
          "base_uri": "https://localhost:8080/"
        },
        "id": "mBmyKMWZ7Ptf",
        "outputId": "4e9a54a8-b981-41b6-cbb4-e16613e12879"
      },
      "execution_count": 15,
      "outputs": [
        {
          "output_type": "stream",
          "name": "stdout",
          "text": [
            "Dispersion (Standard Deviation) for Blood Pressure Before: 6.598278012275076\n",
            "Dispersion (Standard Deviation) for Blood Pressure After: 6.888022102523226\n",
            "Mean and 95% Confidence Interval for Blood Pressure Before: 133.91 ± 1.3090983576353752\n",
            "Mean and 95% Confidence Interval for Blood Pressure After: 128.36 ± 1.366583585140608\n",
            "Mean Absolute Deviation for Blood Pressure Before: 5.7118\n",
            "Mean Absolute Deviation for Blood Pressure After: 5.9\n",
            "Correlation Coefficient: 0.9779485966556016\n"
          ]
        }
      ]
    },
    {
      "cell_type": "markdown",
      "source": [],
      "metadata": {
        "id": "7jO7OPVgq4jB"
      }
    },
    {
      "cell_type": "markdown",
      "source": [],
      "metadata": {
        "id": "GfXLgpyusYkH"
      }
    },
    {
      "cell_type": "code",
      "execution_count": null,
      "metadata": {
        "id": "ZxwvPCFdqtrT"
      },
      "outputs": [],
      "source": []
    }
  ]
}