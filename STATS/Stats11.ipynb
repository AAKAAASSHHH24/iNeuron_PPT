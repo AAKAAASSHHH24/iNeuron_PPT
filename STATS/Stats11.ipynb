{
  "nbformat": 4,
  "nbformat_minor": 0,
  "metadata": {
    "colab": {
      "provenance": []
    },
    "kernelspec": {
      "name": "python3",
      "display_name": "Python 3"
    },
    "language_info": {
      "name": "python"
    }
  },
  "cells": [
    {
      "cell_type": "markdown",
      "source": [
        "Q-12. A pharmaceutical company develops a new drug and wants to compare its\n",
        "effectiveness against a standard drug for treating a particular condition. They conduct a\n",
        "study with two groups: Group A receives the new drug, and Group B receives the standard\n",
        "drug. The company measures the improvement in a specific symptom for both groups after\n",
        "a 4-week treatment period.\n",
        "a. The company collects data from 30 patients in each group and calculates the\n",
        "mean improvement score and the standard deviation of improvement for each\n",
        "group. The mean improvement score for Group A is 2.5 with a standard\n",
        "deviation of 0.8, while the mean improvement score for Group B is 2.2 with a\n",
        "standard deviation of 0.6. Conduct a t-test to determine if there is a significant\n",
        "difference in the mean improvement scores between the two groups. Use a\n",
        "significance level of 0.05.\n",
        "b. Based on the t-test results, state whether the null hypothesis should be\n",
        "rejected or not. Provide a conclusion in the context of the study."
      ],
      "metadata": {
        "id": "SFkLi3KjIz23"
      }
    },
    {
      "cell_type": "markdown",
      "source": [
        "To conduct a t-test and determine if there is a significant difference in the mean improvement scores between the two groups (Group A and Group B), we can follow these steps:\n",
        "\n",
        "a. Formulate the hypotheses:\n",
        "\n",
        "Null Hypothesis (H0): There is no significant difference in the mean improvement scores between Group A and Group B.\n",
        "Alternative Hypothesis (Ha): There is a significant difference in the mean improvement scores between Group A and Group B.\n",
        "\n",
        "b. Set the significance level:\n",
        "\n",
        "The significance level (α) is given as 0.05, which means we are willing to accept a 5% chance of making a Type I error (rejecting the null hypothesis when it is true).\n",
        "\n",
        "c. Conduct the t-test:\n",
        "\n",
        "We can use the independent samples t-test, assuming the data from Group A and Group B are independent and approximately normally distributed."
      ],
      "metadata": {
        "id": "FhSvB8CTLtQV"
      }
    },
    {
      "cell_type": "code",
      "execution_count": 5,
      "metadata": {
        "colab": {
          "base_uri": "https://localhost:8080/"
        },
        "id": "35IUMDL_D1Q9",
        "outputId": "b2e8ca18-768b-466b-f433-46dc1fa098bd"
      },
      "outputs": [
        {
          "output_type": "stream",
          "name": "stdout",
          "text": [
            "t-statistic: 1.6431676725154976\n",
            "p-value: 0.10575916705583671\n"
          ]
        }
      ],
      "source": [
        "import scipy.stats as stats\n",
        "\n",
        "# Given data\n",
        "mean_A = 2.5\n",
        "std_A = 0.8\n",
        "n_A = 30\n",
        "\n",
        "mean_B = 2.2\n",
        "std_B = 0.6\n",
        "n_B = 30\n",
        "\n",
        "# Calculate the t-statistic and p-value\n",
        "t_stat, p_value = stats.ttest_ind_from_stats(mean_A, std_A, n_A, mean_B, std_B, n_B)\n",
        "\n",
        "# Print the t-statistic and p-value\n",
        "print(\"t-statistic:\", t_stat)\n",
        "print(\"p-value:\", p_value)\n"
      ]
    },
    {
      "cell_type": "markdown",
      "source": [
        "d. Interpret the results:\n",
        "\n",
        "If the p-value is less than the significance level (p-value < α), we reject the null hypothesis and conclude that there is a significant difference in the mean improvement scores between the two groups.\n",
        "If the p-value is greater than or equal to the significance level (p-value ≥ α), we fail to reject the null hypothesis and conclude that there is not enough evidence to suggest a significant difference in the mean improvement scores between the two groups.\n",
        "In the context of the study, you would state whether the null hypothesis should be rejected based on the obtained p-value and draw a conclusion."
      ],
      "metadata": {
        "id": "LyDbQp3OL6pB"
      }
    },
    {
      "cell_type": "code",
      "source": [],
      "metadata": {
        "id": "JvlbqTs-Nbec"
      },
      "execution_count": null,
      "outputs": []
    }
  ]
}