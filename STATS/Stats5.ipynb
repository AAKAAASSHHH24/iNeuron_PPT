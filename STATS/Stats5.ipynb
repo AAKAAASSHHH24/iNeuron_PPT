{
  "nbformat": 4,
  "nbformat_minor": 0,
  "metadata": {
    "colab": {
      "provenance": []
    },
    "kernelspec": {
      "name": "python3",
      "display_name": "Python 3"
    },
    "language_info": {
      "name": "python"
    }
  },
  "cells": [
    {
      "cell_type": "markdown",
      "source": [
        "Q-5. A certain city has two taxi companies: Company A has 80% of the taxis and\n",
        "Company B has 20% of the taxis. Company A's taxis have a 95% success rate for picking\n",
        "up passengers on time, while Company B's taxis have a 90% success rate. If a randomly\n",
        "selected taxi is late, what is the probability that it belongs to Company A?"
      ],
      "metadata": {
        "id": "-LZtAF7o-Edz"
      }
    },
    {
      "cell_type": "markdown",
      "source": [
        "To calculate the probability that a randomly selected taxi, which is late, belongs to Company A, we can use Bayes' theorem.\n",
        "\n",
        "Let's define the events:\n",
        "\n",
        "A: The taxi belongs to Company A.\n",
        "B: The taxi is late..\n",
        "\n",
        "We are given the following probabilities:\n",
        "\n",
        "P(A) = 0.8 (Company A has 80% of the taxis)\n",
        "\n",
        "P(B|A) = 0.05 (Company A's taxis have a 95% success rate, so the probability of being late is 1 - 0.95 = 0.05)\n",
        "\n",
        "P(B|not A) = 0.10 (Company B's taxis have a 90% success rate, so the probability of being late is 1 - 0.90 = 0.10)\n",
        "\n",
        "We want to calculate P(A|B), the probability that the taxi belongs to Company A given that it is late.\n",
        "\n",
        "By Bayes' theorem, we have:\n",
        "\n",
        "P(A|B) = (P(B|A) * P(A)) / P(B)\n",
        "\n",
        "To calculate P(B), the probability of being late, we can use the law of total probability:\n",
        "\n",
        "P(B) = P(B|A) * P(A) + P(B|not A) * P(not A)\n",
        "\n",
        "P(not A) is the probability of not belonging to Company A, which is 1 - P(A) = 0.2 (Company B has 20% of the taxis).\n",
        "\n",
        "Now we can substitute the values into Bayes' theorem:\n",
        "\n",
        "P(A|B) = (P(B|A) * P(A)) / (P(B|A) * P(A) + P(B|not A) * P(not A))\n",
        "\n",
        "P(A|B) = (0.05 * 0.8) / (0.05 * 0.8 + 0.10 * 0.2)\n",
        "\n",
        "Simplifying the expression:\n",
        "\n",
        "P(A|B) = 0.04 / (0.04 + 0.02)\n",
        "\n",
        "P(A|B) = 0.04 / 0.06\n",
        "\n",
        "P(A|B) = 2/3\n",
        "\n",
        "Therefore, the probability that a randomly selected taxi, which is late, belongs to Company A is 2/3 or approximately 0.67 (67%).\n",
        "\n"
      ],
      "metadata": {
        "id": "N4B6fTN3-LOo"
      }
    },
    {
      "cell_type": "code",
      "execution_count": null,
      "metadata": {
        "id": "J0mMBalC96gA"
      },
      "outputs": [],
      "source": []
    }
  ]
}