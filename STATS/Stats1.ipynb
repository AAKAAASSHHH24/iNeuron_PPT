{
  "nbformat": 4,
  "nbformat_minor": 0,
  "metadata": {
    "colab": {
      "provenance": []
    },
    "kernelspec": {
      "name": "python3",
      "display_name": "Python 3"
    },
    "language_info": {
      "name": "python"
    }
  },
  "cells": [
    {
      "cell_type": "markdown",
      "source": [
        "Q-1. A university wants to understand the relationship between the SAT scores of its\n",
        "applicants and their college GPA. They collect data on 500 students, including their SAT\n",
        "scores (out of 1600) and their college GPA (on a 4.0 scale). They find that the correlation\n",
        "coefficient between SAT scores and college GPA is 0.7. What does this correlation\n",
        "coefficient indicate about the relationship between SAT scores and college GPA?"
      ],
      "metadata": {
        "id": "7D1zUVwVqyi2"
      }
    },
    {
      "cell_type": "markdown",
      "source": [
        "The correlation coefficient, in this case 0.7, indicates the strength and direction of the linear relationship between SAT scores and college GPA.\n",
        "\n",
        "A correlation coefficient ranges from -1 to 1, where:\n",
        "\n",
        "\n",
        "A value of 1 indicates a perfect positive linear relationship, meaning that as SAT scores increase, college GPA also increases proportionally. In other words, there is a strong positive correlation between SAT scores and college GPA.\n",
        "\n",
        "\n",
        "\n",
        "A value of -1 indicates a perfect negative linear relationship, implying that as SAT scores increase, college GPA decreases proportionally. This means there is a strong negative correlation between SAT scores and college GPA.\n",
        "\n",
        "\n",
        "\n",
        "A value close to 0 indicates a weak or no linear relationship. This means that changes in SAT scores do not have a significant impact on college GPA, or there may be other factors influencing college GPA that are not captured in the data.\n",
        "\n",
        "\n",
        "In the given scenario, a correlation coefficient of 0.7 suggests a strong positive linear relationship between SAT scores and college GPA. This indicates that as SAT scores increase, college GPA tends to increase as well, albeit not perfectly. However, it's important to note that correlation does not imply causation. While the correlation coefficient suggests a relationship between the two variables, it does not indicate a cause-and-effect relationship. Other factors not considered in the analysis could also be influencing college GPA."
      ],
      "metadata": {
        "id": "7jO7OPVgq4jB"
      }
    },
    {
      "cell_type": "code",
      "execution_count": null,
      "metadata": {
        "id": "ZxwvPCFdqtrT"
      },
      "outputs": [],
      "source": []
    }
  ]
}