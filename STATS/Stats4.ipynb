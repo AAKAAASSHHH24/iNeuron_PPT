{
  "nbformat": 4,
  "nbformat_minor": 0,
  "metadata": {
    "colab": {
      "provenance": []
    },
    "kernelspec": {
      "name": "python3",
      "display_name": "Python 3"
    },
    "language_info": {
      "name": "python"
    }
  },
  "cells": [
    {
      "cell_type": "markdown",
      "source": [
        "Q-4. A group of 20 friends decide to play a game in which they each write a number\n",
        "between 1 and 20 on a slip of paper and put it into a hat. They then draw one slip of paper\n",
        "at random. What is the probability that the number on the slip of paper is a perfect square\n",
        "(i.e., 1, 4, 9, or 16)?"
      ],
      "metadata": {
        "id": "eUTqhpyd9dLN"
      }
    },
    {
      "cell_type": "markdown",
      "source": [
        "To calculate the probability that the number on the slip of paper drawn from the hat is a perfect square (1, 4, 9, or 16), we need to determine the number of favorable outcomes (perfect squares) and the total number of possible outcomes.\n",
        "\n",
        "The total number of possible outcomes is 20 because there are 20 slips of paper in the hat, each with a unique number from 1 to 20.\n",
        "\n",
        "The number of favorable outcomes is the number of perfect squares between 1 and 20, which are 1, 4, 9, and 16. Therefore, there are 4 favorable outcomes.\n",
        "\n",
        "Now, we can calculate the probability using the formula:\n",
        "\n",
        "Probability = Number of Favorable Outcomes / Total Number of Possible Outcomes\n",
        "\n",
        "Probability = 4 / 20\n",
        "\n",
        "Simplifying, we get:\n",
        "\n",
        "Probability = 1 / 5\n",
        "\n",
        "So, the probability that the number on the slip of paper drawn from the hat is a perfect square is 1/5 or 0.2 (20%)."
      ],
      "metadata": {
        "id": "LT_tzicR9ouQ"
      }
    },
    {
      "cell_type": "code",
      "execution_count": null,
      "metadata": {
        "id": "lmLPZh3v9JSJ"
      },
      "outputs": [],
      "source": []
    }
  ]
}