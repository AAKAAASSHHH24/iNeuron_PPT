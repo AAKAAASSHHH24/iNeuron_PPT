{
  "nbformat": 4,
  "nbformat_minor": 0,
  "metadata": {
    "colab": {
      "provenance": []
    },
    "kernelspec": {
      "name": "python3",
      "display_name": "Python 3"
    },
    "language_info": {
      "name": "python"
    }
  },
  "cells": [
    {
      "cell_type": "markdown",
      "source": [
        "Q-2. Consider a dataset containing the heights (in centimeters) of 1000 individuals. The\n",
        "mean height is 170 cm with a standard deviation of 10 cm. The dataset is approximately\n",
        "normally distributed, and its skewness is approximately zero. \n",
        "\n",
        "Based on this information,\n",
        "answer the following questions:\n",
        "\n",
        "a. What percentage of individuals in the dataset have heights between 160 cm\n",
        "and 180 cm?\n",
        "\n",
        "b. If we randomly select 100 individuals from the dataset, what is the probability that their average height is greater than 175 cm?\n",
        "\n",
        "c. Assuming the dataset follows a normal distribution, what is the z-score\n",
        "corresponding to a height of 185 cm?\n",
        "\n",
        "d. We know that 5% of the dataset has heights below a certain value. What is\n",
        "the approximate height corresponding to this threshold?\n",
        "\n",
        "e. Calculate the coefficient of variation (CV) for the dataset.\n",
        "\n",
        "f. Calculate the skewness of the dataset and interpret the result."
      ],
      "metadata": {
        "id": "7D1zUVwVqyi2"
      }
    },
    {
      "cell_type": "markdown",
      "source": [
        "----------------------------------------------------------------------------------------------------------------------------------------------------------------"
      ],
      "metadata": {
        "id": "BWHg0trysK-l"
      }
    },
    {
      "cell_type": "markdown",
      "source": [
        "a. To find the percentage of individuals in the dataset with heights between 160 cm and 180 cm, we need to calculate the z-scores for these heights and use the standard normal distribution.\n",
        "\n",
        "The z-score formula is: z = (x - μ) / σ\n",
        "\n",
        "For a height of 160 cm:\n",
        "z1 = (160 - 170) / 10 = -1\n",
        "\n",
        "For a height of 180 cm:\n",
        "z2 = (180 - 170) / 10 = 1\n",
        "\n",
        "Using a standard normal distribution table or a calculator, we can find the area under the curve between z = -1 and z = 1, which corresponds to the percentage of individuals with heights between 160 cm and 180 cm.\n",
        "\n",
        "The area between -1 and 1 is approximately 0.6826, or 68.26%. Therefore, approximately 68.26% of individuals in the dataset have heights between 160 cm and 180 cm.\n",
        "\n",
        "b. To find the probability that the average height of 100 randomly selected individuals from the dataset is greater than 175 cm, we can use the Central Limit Theorem.\n",
        "\n",
        "The mean of the sampling distribution of the sample means is equal to the population mean, which is 170 cm. The standard deviation of the sampling distribution, also known as the standard error of the mean (SEM), can be calculated using the formula: SEM = σ / sqrt(n), where σ is the population standard deviation and n is the sample size.\n",
        "\n",
        "In this case, σ = 10 cm and n = 100. Therefore, SEM = 10 / sqrt(100) = 1 cm.\n",
        "\n",
        "To find the probability, we can convert the average height of 175 cm to a z-score using the formula: z = (x - μ) / SEM = (175 - 170) / 1 = 5\n",
        "\n",
        "Using a standard normal distribution table or a calculator, we can find the area under the curve to the right of z = 5, which represents the probability that the average height is greater than 175 cm.\n",
        "\n",
        "The area to the right of z = 5 is extremely small and can be considered negligible. Therefore, the probability is very close to 0 or approximately 0.\n",
        "\n",
        "c. To find the z-score corresponding to a height of 185 cm, we can use the formula: z = (x - μ) / σ\n",
        "\n",
        "Given μ = 170 cm and σ = 10 cm, we can calculate the z-score:\n",
        "\n",
        "z = (185 - 170) / 10 = 1.5\n",
        "\n",
        "Therefore, the z-score corresponding to a height of 185 cm is 1.5.\n",
        "\n",
        "d. To find the approximate height corresponding to the threshold below which 5% of the dataset falls, we need to find the z-score that corresponds to the cumulative probability of 0.05.\n",
        "\n",
        "Using a standard normal distribution table or a calculator, we can find the z-score that corresponds to a cumulative probability of 0.05. It is approximately -1.645.\n",
        "\n",
        "Using the z-score formula: z = (x - μ) / σ, we can solve for x:\n",
        "\n",
        "-1.645 = (x - 170) / 10\n",
        "\n",
        "Simplifying the equation:\n",
        "\n",
        "-16.45 = x - 170\n",
        "\n",
        "x = 170 - 16.45 = 153.55\n",
        "\n",
        "Therefore, the approximate height corresponding to the threshold below which 5% of the dataset falls is approximately 153.55 cm."
      ],
      "metadata": {
        "id": "7jO7OPVgq4jB"
      }
    },
    {
      "cell_type": "markdown",
      "source": [
        "\n",
        "e. The coefficient of variation (CV) is a measure of relative variability and is calculated as the ratio of the standard deviation to the mean, expressed as a percentage.\n",
        "\n",
        "CV = (σ / μ) * 100\n",
        "\n",
        "Given that the mean (μ) is 170 cm and the standard deviation (σ) is 10 cm, we can calculate the coefficient of variation as:\n",
        "\n",
        "CV = (10 / 170) * 100 ≈ 5.88%\n",
        "\n",
        "Therefore, the coefficient of variation for the dataset is approximately 5.88%.\n",
        "\n",
        "f. Skewness is a measure of the asymmetry of a distribution. A skewness value of approximately zero indicates that the dataset is approximately symmetric.\n",
        "\n",
        "Skewness can be calculated using the formula:\n",
        "\n",
        "Skewness = (3 * (mean - median)) / standard deviation\n",
        "\n",
        "Since the dataset is approximately normally distributed and its skewness is approximately zero, we can assume that the mean, median, and standard deviation are equal. Therefore, the skewness is:\n",
        "\n",
        "Skewness = (3 * (mean - mean)) / standard deviation = 0\n",
        "\n",
        "This means that the dataset is symmetric, with a balanced distribution of heights around the mean."
      ],
      "metadata": {
        "id": "GfXLgpyusYkH"
      }
    },
    {
      "cell_type": "code",
      "execution_count": null,
      "metadata": {
        "id": "ZxwvPCFdqtrT"
      },
      "outputs": [],
      "source": []
    }
  ]
}