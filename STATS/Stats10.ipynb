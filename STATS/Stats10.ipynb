{
  "nbformat": 4,
  "nbformat_minor": 0,
  "metadata": {
    "colab": {
      "provenance": []
    },
    "kernelspec": {
      "name": "python3",
      "display_name": "Python 3"
    },
    "language_info": {
      "name": "python"
    }
  },
  "cells": [
    {
      "cell_type": "markdown",
      "source": [
        "Q-10. A factory produces light bulbs, and the probability of a bulb being defective is 0.05.\n",
        "\n",
        "The factory produces a large batch of 500 light bulbs.\n",
        "\n",
        "a. What is the probability that exactly 20 bulbs are defective?\n",
        "\n",
        "b. What is the probability that at least 10 bulbs are defective?\n",
        "\n",
        "c. What is the probability that at max 15 bulbs are defective?\n",
        "\n",
        "d. On average, how many defective bulbs would you expect in a batch of 500?"
      ],
      "metadata": {
        "id": "SFkLi3KjIz23"
      }
    },
    {
      "cell_type": "markdown",
      "source": [
        "To solve the probability questions related to defective light bulbs, we can use the binomial distribution. The binomial distribution is appropriate when we have a fixed number of independent trials (in this case, the production of light bulbs) and each trial has two possible outcomes (defective or non-defective) with a constant probability of success (probability of a bulb being defective).\n",
        "\n",
        "Given:\n",
        "\n",
        "Probability of a bulb being defective (p) = 0.05\n",
        "Total number of bulbs produced (n) = 500\n",
        "\n",
        "a. Probability of exactly 20 bulbs being defective:\n",
        "\n",
        "We can use the probability mass function (PMF) of the binomial distribution to calculate the probability of exactly 20 defective bulbs:\n",
        "\n",
        "P(X = 20) = C(n, 20) * p^20 * (1 - p)^(n - 20)\n",
        "\n",
        "where C(n, 20) represents the number of ways to choose 20 defective bulbs out of 500.\n",
        "\n",
        "Using this formula, we can calculate the probability as follows:"
      ],
      "metadata": {
        "id": "FhSvB8CTLtQV"
      }
    },
    {
      "cell_type": "code",
      "execution_count": 1,
      "metadata": {
        "colab": {
          "base_uri": "https://localhost:8080/"
        },
        "id": "35IUMDL_D1Q9",
        "outputId": "efa75592-dedf-478e-e11e-99fdc246e9c0"
      },
      "outputs": [
        {
          "output_type": "stream",
          "name": "stdout",
          "text": [
            "Probability of exactly 20 bulbs being defective: 0.051616192536641056\n"
          ]
        }
      ],
      "source": [
        "import scipy.stats as stats\n",
        "\n",
        "n = 500\n",
        "p = 0.05\n",
        "x = 20\n",
        "\n",
        "probability_20_defective = stats.binom.pmf(x, n, p)\n",
        "print(\"Probability of exactly 20 bulbs being defective:\", probability_20_defective)\n"
      ]
    },
    {
      "cell_type": "markdown",
      "source": [
        "b. Probability of at least 10 bulbs being defective:\n",
        "To calculate the probability of at least 10 defective bulbs, we need to sum up the probabilities of having 10, 11, 12, ..., up to 500 defective bulbs. We can use the cumulative distribution function (CDF) of the binomial distribution:\n",
        "\n",
        "P(X >= 10) = 1 - P(X < 10)"
      ],
      "metadata": {
        "id": "LyDbQp3OL6pB"
      }
    },
    {
      "cell_type": "code",
      "source": [
        "probability_at_least_10_defective = 1 - stats.binom.cdf(9, n, p)\n",
        "print(\"Probability of at least 10 bulbs being defective:\", probability_at_least_10_defective)\n"
      ],
      "metadata": {
        "colab": {
          "base_uri": "https://localhost:8080/"
        },
        "id": "BBAjt5vmL15Q",
        "outputId": "ad666944-a939-4cd0-950d-917cacd1cc80"
      },
      "execution_count": 2,
      "outputs": [
        {
          "output_type": "stream",
          "name": "stdout",
          "text": [
            "Probability of at least 10 bulbs being defective: 0.9998316463654902\n"
          ]
        }
      ]
    },
    {
      "cell_type": "markdown",
      "source": [
        "\n",
        "c. Probability of at most 15 bulbs being defective:\n",
        "To calculate the probability of at most 15 defective bulbs, we need to sum up the probabilities of having 0, 1, 2, ..., up to 15 defective bulbs:\n",
        "\n",
        "P(X <= 15) = P(X = 0) + P(X = 1) + P(X = 2) + ... + P(X = 15)\n",
        "\n"
      ],
      "metadata": {
        "id": "B66QHSynNHXP"
      }
    },
    {
      "cell_type": "code",
      "source": [
        "probability_at_most_15_defective = stats.binom.cdf(15, n, p)\n",
        "print(\"Probability of at most 15 bulbs being defective:\", probability_at_most_15_defective)\n"
      ],
      "metadata": {
        "colab": {
          "base_uri": "https://localhost:8080/"
        },
        "id": "O5jKZZq9NBet",
        "outputId": "3b736ccd-8302-43be-ff36-166d83540b17"
      },
      "execution_count": 3,
      "outputs": [
        {
          "output_type": "stream",
          "name": "stdout",
          "text": [
            "Probability of at most 15 bulbs being defective: 0.01985837716300623\n"
          ]
        }
      ]
    },
    {
      "cell_type": "markdown",
      "source": [
        "d. Expected number of defective bulbs in a batch of 500:\n",
        "The expected value or mean of a binomial distribution is given by the formula:\n",
        "\n",
        "E(X) = n * p"
      ],
      "metadata": {
        "id": "boXhAfyjNYAp"
      }
    },
    {
      "cell_type": "code",
      "source": [
        "expected_defective_bulbs = n * p\n",
        "print(\"Expected number of defective bulbs:\", expected_defective_bulbs)\n"
      ],
      "metadata": {
        "colab": {
          "base_uri": "https://localhost:8080/"
        },
        "id": "aLzzkOL9NRvk",
        "outputId": "e7fa360f-2545-49be-9031-d1a1c9fcaa73"
      },
      "execution_count": 4,
      "outputs": [
        {
          "output_type": "stream",
          "name": "stdout",
          "text": [
            "Expected number of defective bulbs: 25.0\n"
          ]
        }
      ]
    },
    {
      "cell_type": "markdown",
      "source": [
        "The above code calculates the probabilities and expected number of defective bulbs using the binomial distribution functions provided by the SciPy library."
      ],
      "metadata": {
        "id": "_MqC6OxjNgG3"
      }
    },
    {
      "cell_type": "code",
      "source": [],
      "metadata": {
        "id": "JvlbqTs-Nbec"
      },
      "execution_count": null,
      "outputs": []
    }
  ]
}