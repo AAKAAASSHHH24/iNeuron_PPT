{
  "nbformat": 4,
  "nbformat_minor": 0,
  "metadata": {
    "colab": {
      "provenance": []
    },
    "kernelspec": {
      "name": "python3",
      "display_name": "Python 3"
    },
    "language_info": {
      "name": "python"
    }
  },
  "cells": [
    {
      "cell_type": "markdown",
      "source": [
        "Question 3: -\n",
        "Write a program, which would download the data from the provided link, and then read the data and convert\n",
        "that into properly structured data and return it in Excel format.\n",
        "Note - Write comments wherever necessary explaining the code written.\n",
        "\n",
        "\n",
        "Link - https://raw.githubusercontent.com/Biuni/PokemonGO-Pokedex/master/pokedex.json\n",
        "\n",
        "Data Attributes -\n",
        "\n",
        "id: Identification Number - int num: Number of the\n",
        "● Pokémon in the official Pokédex - int name: Pokémon name -\n",
        "● string img: URL to an image of this Pokémon - string type:\n",
        "● Pokémon type -string height: Pokémon height - float\n",
        "● weight: Pokémon weight - float candy: type of candy used to evolve Pokémon or\n",
        "given\n",
        "● when transferred - string candy_count: the amount of candies required to evolve\n",
        "- int\n",
        "● egg: Number of kilometers to travel to hatch the egg - float spawn_chance:\n",
        "● Percentage of spawn chance (NEW) - float avg_spawns: Number of this\n",
        "pokemon on 10.000 spawns (NEW) - int\n",
        "● spawn_time: Spawns most active at the time on this field. Spawn times are the same for all\n",
        "time zones and are expressed in local time. (NEW) - “minutes: seconds” multipliers:\n",
        "Multiplier of Combat Power (CP) for calculating the CP after evolution See below - list of int\n",
        "weakness: Types of\n",
        "● Pokémon this Pokémon is weak to - list of strings next_evolution: Number and Name of\n",
        "successive evolutions of Pokémon - list of dict prev_evolution: Number and Name of previous\n",
        "evolutions of Pokémon - - list of dict"
      ],
      "metadata": {
        "id": "oO-8PDuVK5Ef"
      }
    },
    {
      "cell_type": "code",
      "execution_count": 1,
      "metadata": {
        "colab": {
          "base_uri": "https://localhost:8080/"
        },
        "id": "epF2sbowK2ml",
        "outputId": "a0e26a04-8eb3-4a71-f445-406b8a490d4d"
      },
      "outputs": [
        {
          "output_type": "stream",
          "name": "stdout",
          "text": [
            "Data saved successfully as pokemon_data.xlsx\n"
          ]
        }
      ],
      "source": [
        "import requests\n",
        "import json\n",
        "import pandas as pd\n",
        "\n",
        "def download_data(url):\n",
        "    response = requests.get(url)  # Send a GET request to the URL\n",
        "    data = response.json()  # Get the JSON data from the response\n",
        "    return data\n",
        "\n",
        "def convert_to_excel(data):\n",
        "    # Create a DataFrame from the data\n",
        "    df = pd.DataFrame(data)\n",
        "\n",
        "    # Save the DataFrame to an Excel file\n",
        "    df.to_excel(\"pokemon_data.xlsx\", index=False)\n",
        "\n",
        "    print(\"Data saved successfully as pokemon_data.xlsx\")\n",
        "\n",
        "# Provide the URL of the data\n",
        "url = \"https://raw.githubusercontent.com/Biuni/PokemonGO-Pokedex/master/pokedex.json\"\n",
        "\n",
        "# Download the data\n",
        "pokemon_data = download_data(url)\n",
        "\n",
        "# Convert the data to Excel format\n",
        "convert_to_excel(pokemon_data)\n"
      ]
    },
    {
      "cell_type": "code",
      "source": [],
      "metadata": {
        "id": "d-Mu3vxVLkHC"
      },
      "execution_count": null,
      "outputs": []
    }
  ]
}