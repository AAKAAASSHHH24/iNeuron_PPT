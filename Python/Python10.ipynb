{
  "nbformat": 4,
  "nbformat_minor": 0,
  "metadata": {
    "colab": {
      "provenance": []
    },
    "kernelspec": {
      "name": "python3",
      "display_name": "Python 3"
    },
    "language_info": {
      "name": "python"
    }
  },
  "cells": [
    {
      "cell_type": "markdown",
      "source": [
        "Question 10 -\n",
        "\n",
        "Write a program to count the number of verbs, nouns, pronouns, and adjectives in a given particular phrase or\n",
        "paragraph, and return their respective count as a dictionary.\n",
        "Note -\n",
        "1. Write code comments wherever required for code\n",
        "2. You have to write at least 2 additional test cases in which your program will run successfully and provide\n",
        "an explanation for the same."
      ],
      "metadata": {
        "id": "sDkR2rIzSLDD"
      }
    },
    {
      "cell_type": "code",
      "execution_count": 3,
      "metadata": {
        "colab": {
          "base_uri": "https://localhost:8080/"
        },
        "id": "L4EQ8ux1SGQZ",
        "outputId": "39b08145-62ee-4e3d-9422-2999a4d14817"
      },
      "outputs": [
        {
          "output_type": "stream",
          "name": "stderr",
          "text": [
            "[nltk_data] Downloading package punkt to /root/nltk_data...\n",
            "[nltk_data]   Package punkt is already up-to-date!\n",
            "[nltk_data] Downloading package averaged_perceptron_tagger to\n",
            "[nltk_data]     /root/nltk_data...\n",
            "[nltk_data]   Unzipping taggers/averaged_perceptron_tagger.zip.\n"
          ]
        },
        {
          "output_type": "stream",
          "name": "stdout",
          "text": [
            "{'Noun': 3, 'Verb': 1, 'Pronoun': 0, 'Adjective': 2}\n"
          ]
        }
      ],
      "source": [
        "import nltk\n",
        "nltk.download('punkt')\n",
        "nltk.download('averaged_perceptron_tagger')\n",
        "from nltk import pos_tag\n",
        "from nltk.tokenize import word_tokenize\n",
        "\n",
        "def count_pos_tags(text):\n",
        "    # Tokenize the text into words\n",
        "    words = word_tokenize(text)\n",
        "\n",
        "    # Perform part-of-speech tagging\n",
        "    tagged_words = pos_tag(words)\n",
        "\n",
        "    # Initialize counts\n",
        "    counts = {\n",
        "        'Noun': 0,\n",
        "        'Verb': 0,\n",
        "        'Pronoun': 0,\n",
        "        'Adjective': 0\n",
        "    }\n",
        "\n",
        "    # Count the occurrences of each POS tag\n",
        "    for word, tag in tagged_words:\n",
        "        if tag.startswith('NN'):\n",
        "            counts['Noun'] += 1\n",
        "        elif tag.startswith('VB'):\n",
        "            counts['Verb'] += 1\n",
        "        elif tag.startswith('PRP'):\n",
        "            counts['Pronoun'] += 1\n",
        "        elif tag.startswith('JJ'):\n",
        "            counts['Adjective'] += 1\n",
        "\n",
        "    return counts\n",
        "\n",
        "# Example usage\n",
        "text = \"The quick brown fox jumps over the lazy dog.\"\n",
        "counts = count_pos_tags(text)\n",
        "print(counts)\n"
      ]
    },
    {
      "cell_type": "markdown",
      "source": [
        "Additional test cases:"
      ],
      "metadata": {
        "id": "K8h_ifchTCJZ"
      }
    },
    {
      "cell_type": "code",
      "source": [
        "text = \"She ran quickly to catch the last train.\"\n",
        "counts = count_pos_tags(text)\n",
        "print(counts)\n"
      ],
      "metadata": {
        "colab": {
          "base_uri": "https://localhost:8080/"
        },
        "id": "f-XgehbhSTsj",
        "outputId": "d4f24f6f-755e-4839-d434-26c98ad3d184"
      },
      "execution_count": 4,
      "outputs": [
        {
          "output_type": "stream",
          "name": "stdout",
          "text": [
            "{'Noun': 1, 'Verb': 2, 'Pronoun': 1, 'Adjective': 1}\n"
          ]
        }
      ]
    },
    {
      "cell_type": "code",
      "source": [
        "text = \"The cat chased the cat.\"\n",
        "counts = count_pos_tags(text)\n",
        "print(counts)\n"
      ],
      "metadata": {
        "colab": {
          "base_uri": "https://localhost:8080/"
        },
        "id": "Q1to2YCQS4pD",
        "outputId": "850c7060-d090-4bd1-cdb6-e59f6a4cd6f1"
      },
      "execution_count": 5,
      "outputs": [
        {
          "output_type": "stream",
          "name": "stdout",
          "text": [
            "{'Noun': 2, 'Verb': 1, 'Pronoun': 0, 'Adjective': 0}\n"
          ]
        }
      ]
    },
    {
      "cell_type": "code",
      "source": [],
      "metadata": {
        "id": "RPeEc8mQS9LX"
      },
      "execution_count": null,
      "outputs": []
    }
  ]
}