{
  "nbformat": 4,
  "nbformat_minor": 0,
  "metadata": {
    "colab": {
      "provenance": []
    },
    "kernelspec": {
      "name": "python3",
      "display_name": "Python 3"
    },
    "language_info": {
      "name": "python"
    }
  },
  "cells": [
    {
      "cell_type": "markdown",
      "source": [
        "Question 2: -\n",
        "\n",
        "Consider a string to be valid if all characters of the string appear the same number of times. It is also valid if\n",
        "he can remove just one character at the index in the string, and the remaining characters will occur the same\n",
        "number of times. Given a string, determine if it is valid. If so, return YES , otherwise return NO .\n",
        "\n",
        "Note - You have to write at least 2 additional test cases in which your program will run successfully and provide\n",
        "an explanation for the same.\n",
        "\n",
        "Example input 1 - s = “abc”. This is a valid string because frequencies are { “a”: 1, “b”: 1, “c”: 1 }\n",
        "\n",
        "Example output 1- YES\n",
        "\n",
        "Example input 2 - s “abcc”. This string is not valid as we can remove only 1 occurrence of “c”. That leaves\n",
        "character frequencies of { “a”: 1, “b”: 1 , “c”: 2 }\n",
        "\n",
        "Example output 2 - NO"
      ],
      "metadata": {
        "id": "GoObDJcwGn-X"
      }
    },
    {
      "cell_type": "code",
      "execution_count": 2,
      "metadata": {
        "colab": {
          "base_uri": "https://localhost:8080/"
        },
        "id": "66if7sPy8soZ",
        "outputId": "8a533728-d9d5-42d8-9ca9-f320589d0f2f"
      },
      "outputs": [
        {
          "output_type": "stream",
          "name": "stdout",
          "text": [
            "YES\n",
            "YES\n"
          ]
        }
      ],
      "source": [
        "def is_valid_string(s):\n",
        "    # Count the frequency of each character\n",
        "    char_freq = {}\n",
        "    for char in s:\n",
        "        char_freq[char] = char_freq.get(char, 0) + 1\n",
        "\n",
        "    # Check if all frequencies are the same\n",
        "    frequencies = list(char_freq.values())\n",
        "    if len(set(frequencies)) == 1:\n",
        "        return \"YES\"\n",
        "\n",
        "    # Check if removing one character makes all frequencies the same\n",
        "    for char in char_freq:\n",
        "        char_freq[char] -= 1\n",
        "        new_frequencies = list(char_freq.values())\n",
        "        if len(set(new_frequencies)) == 1:\n",
        "            return \"YES\"\n",
        "        char_freq[char] += 1\n",
        "\n",
        "    return \"NO\"\n",
        "\n",
        "\n",
        "# Test the function with the example inputs\n",
        "string1 = \"abc\"\n",
        "print(is_valid_string(string1))\n",
        "\n",
        "string2 = \"abcc\"\n",
        "print(is_valid_string(string2))  \n"
      ]
    },
    {
      "cell_type": "markdown",
      "source": [
        "Explanation:\n",
        "\n",
        "The function is_valid_string takes a string s as input.\n",
        "\n",
        "It counts the frequency of each character in the string using a dictionary char_freq.\n",
        "\n",
        "It checks if all frequencies in char_freq are the same by converting them to a set. If the set length is 1, it means all frequencies are the same.\n",
        "\n",
        "If all frequencies are the same, the function returns \"YES\" since the string is valid.\n",
        "\n",
        "If all frequencies are not the same, the function checks if removing one character from char_freq makes all frequencies the same.\n",
        "\n",
        "It iterates over each character in char_freq, decreases its frequency by 1, and checks if the resulting frequencies are all the same. If they are, it means removing that character makes the string valid.\n",
        "\n",
        "If removing any one character makes the frequencies the same, the function returns \"YES\". Otherwise, it returns \"NO\"."
      ],
      "metadata": {
        "id": "t0SlsjpWHfI7"
      }
    },
    {
      "cell_type": "markdown",
      "source": [
        "Additional Test Cases:"
      ],
      "metadata": {
        "id": "Akw1BEYzJ7W6"
      }
    },
    {
      "cell_type": "code",
      "source": [
        "string = \"abbccc\"\n",
        "print(is_valid_string(string)) \n"
      ],
      "metadata": {
        "colab": {
          "base_uri": "https://localhost:8080/"
        },
        "id": "0_TH8dFuGinx",
        "outputId": "324a2356-776e-4d16-841b-2628557fe009"
      },
      "execution_count": 4,
      "outputs": [
        {
          "output_type": "stream",
          "name": "stdout",
          "text": [
            "NO\n"
          ]
        }
      ]
    },
    {
      "cell_type": "code",
      "source": [
        "string = \"aabbcc\"\n",
        "print(is_valid_string(string))  # Output: YES\n"
      ],
      "metadata": {
        "colab": {
          "base_uri": "https://localhost:8080/"
        },
        "id": "IXNvPYLYJcdu",
        "outputId": "5764529f-d666-4bb2-da85-68ba20cf12c9"
      },
      "execution_count": 5,
      "outputs": [
        {
          "output_type": "stream",
          "name": "stdout",
          "text": [
            "YES\n"
          ]
        }
      ]
    },
    {
      "cell_type": "code",
      "source": [],
      "metadata": {
        "id": "PxHb3sT_Jztc"
      },
      "execution_count": null,
      "outputs": []
    }
  ]
}