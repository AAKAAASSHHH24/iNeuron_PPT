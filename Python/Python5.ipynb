{
  "nbformat": 4,
  "nbformat_minor": 0,
  "metadata": {
    "colab": {
      "provenance": []
    },
    "kernelspec": {
      "name": "python3",
      "display_name": "Python 3"
    },
    "language_info": {
      "name": "python"
    }
  },
  "cells": [
    {
      "cell_type": "markdown",
      "source": [
        "Question 5 -\n",
        "Write a program to download the data from the given API link and then extract the following data with\n",
        "proper formatting\n",
        "\n",
        "Link - http://api.tvmaze.com/singlesearch/shows?q=westworld&embed=episodes\n",
        "\n",
        "Note - Write proper code comments wherever needed for the code understanding\n",
        "\n",
        "Excepted Output Data Attributes -\n",
        "\n",
        "- ● id - int url - string\n",
        "- ● name - string season\n",
        "- ● - int number - int\n",
        "- ● type - string airdate -\n",
        "- ● date format airtime -\n",
        "- ● 12-hour time format\n",
        "- ● runtime - float\n",
        "- ● average rating - float\n",
        "- ● summary - string\n",
        "- ● without html tags\n",
        "- ● medium image link - string\n",
        "- ● Original image link - string"
      ],
      "metadata": {
        "id": "wkHRJZC1UsZv"
      }
    },
    {
      "cell_type": "code",
      "execution_count": 1,
      "metadata": {
        "colab": {
          "base_uri": "https://localhost:8080/"
        },
        "id": "Lj2XaAsRULI7",
        "outputId": "3f4d85d1-f223-4025-ea4a-fa3d4ef99675"
      },
      "outputs": [
        {
          "output_type": "stream",
          "name": "stdout",
          "text": [
            "{'id': 869671, 'url': 'https://www.tvmaze.com/shows/1371/westworld', 'name': 'Westworld', 'season': 1, 'number': 1, 'type': 'regular', 'airdate': '2016-10-02', 'airtime': '21:00', 'runtime': 68, 'average rating': 8, 'summary': \"A woman named Dolores is a free spirit in the Old West... and unaware that she's actually an android, programmed to entertain rich guests seeking to act out their fantasies in an idealized vision of the 1880s. However, the people in charge soon realize that their androids are acting in ways that they didn't anticipate.\", 'medium image link': 'https://static.tvmaze.com/uploads/images/medium_landscape/78/195475.jpg', 'original image link': 'https://static.tvmaze.com/uploads/images/original_untouched/78/195475.jpg'}\n",
            "{'id': 911201, 'url': 'https://www.tvmaze.com/shows/1371/westworld', 'name': 'Westworld', 'season': 1, 'number': 2, 'type': 'regular', 'airdate': '2016-10-09', 'airtime': '21:00', 'runtime': 60, 'average rating': 7.7, 'summary': 'Bernard suspects that someone is sabotaging the hosts. Meanwhile, the Man continues his search for the deeper game, and Maeve finds herself in a world of hurt... literally.', 'medium image link': 'https://static.tvmaze.com/uploads/images/medium_landscape/78/195436.jpg', 'original image link': 'https://static.tvmaze.com/uploads/images/original_untouched/78/195436.jpg'}\n",
            "{'id': 911204, 'url': 'https://www.tvmaze.com/shows/1371/westworld', 'name': 'Westworld', 'season': 1, 'number': 3, 'type': 'regular', 'airdate': '2016-10-16', 'airtime': '21:00', 'runtime': 60, 'average rating': 7.6, 'summary': \"Bernard continues to investigate Dolores' supposed malfunction, and realizes that he has something unexpected on his hands. Meanwhile, Robert talks about the early days of the park, and Teddy receives a new role and narrative.\", 'medium image link': 'https://static.tvmaze.com/uploads/images/medium_landscape/79/198183.jpg', 'original image link': 'https://static.tvmaze.com/uploads/images/original_untouched/79/198183.jpg'}\n",
            "{'id': 911205, 'url': 'https://www.tvmaze.com/shows/1371/westworld', 'name': 'Westworld', 'season': 1, 'number': 4, 'type': 'regular', 'airdate': '2016-10-23', 'airtime': '21:00', 'runtime': 60, 'average rating': 7.9, 'summary': 'While Dolores joins William and Logan on their adventure, the Man in Black continues his search for the entrance to the Maze and meets Armistice. Meanwhile, Robert reveals some of his true power to Theresa and advises her to stay out of his way.', 'medium image link': 'https://static.tvmaze.com/uploads/images/medium_landscape/80/201367.jpg', 'original image link': 'https://static.tvmaze.com/uploads/images/original_untouched/80/201367.jpg'}\n",
            "{'id': 927174, 'url': 'https://www.tvmaze.com/shows/1371/westworld', 'name': 'Westworld', 'season': 1, 'number': 5, 'type': 'regular', 'airdate': '2016-10-30', 'airtime': '21:00', 'runtime': 60, 'average rating': 8, 'summary': \"Dolores takes the first step on her path of discovery by deciding to write a new story for herself... where she isn't the damsel. Meanwhile, Elise discovers the Woodcutter's secret, and Robert pays the Man a visit.\", 'medium image link': 'https://static.tvmaze.com/uploads/images/medium_landscape/81/204265.jpg', 'original image link': 'https://static.tvmaze.com/uploads/images/original_untouched/81/204265.jpg'}\n",
            "{'id': 932057, 'url': 'https://www.tvmaze.com/shows/1371/westworld', 'name': 'Westworld', 'season': 1, 'number': 6, 'type': 'regular', 'airdate': '2016-11-06', 'airtime': '21:00', 'runtime': 60, 'average rating': 8, 'summary': 'While Maeve convinces Felix to show her \"upstairs,\" Teddy and the Man close in on the maze. Meanwhile, Bernard and Elsie close in on the identity of the person who is stealing secrets from the park, while Lee meets with a Delos executive director.', 'medium image link': 'https://static.tvmaze.com/uploads/images/medium_landscape/82/207324.jpg', 'original image link': 'https://static.tvmaze.com/uploads/images/original_untouched/82/207324.jpg'}\n",
            "{'id': 938404, 'url': 'https://www.tvmaze.com/shows/1371/westworld', 'name': 'Westworld', 'season': 1, 'number': 7, 'type': 'regular', 'airdate': '2016-11-13', 'airtime': '21:00', 'runtime': 60, 'average rating': 8.6, 'summary': 'While William and Dolores travel to the unclaimed territories, Charlotte and Theresa make plans to force Robert out of the park using Clementine. Meanwhile, Maeve continues her plans to escape Westworld.', 'medium image link': 'https://static.tvmaze.com/uploads/images/medium_landscape/83/209400.jpg', 'original image link': 'https://static.tvmaze.com/uploads/images/original_untouched/83/209400.jpg'}\n",
            "{'id': 943065, 'url': 'https://www.tvmaze.com/shows/1371/westworld', 'name': 'Westworld', 'season': 1, 'number': 8, 'type': 'regular', 'airdate': '2016-11-20', 'airtime': '21:00', 'runtime': 60, 'average rating': 7.9, 'summary': \"Bernard tries to cope with what he did under Robert's orders. Meanwhile, William and Dolores find a town, and Maeve remembers more of her past. Meanwhile, the Man reveals his past to Teddy.\", 'medium image link': 'https://static.tvmaze.com/uploads/images/medium_landscape/84/211554.jpg', 'original image link': 'https://static.tvmaze.com/uploads/images/original_untouched/84/211554.jpg'}\n",
            "{'id': 943066, 'url': 'https://www.tvmaze.com/shows/1371/westworld', 'name': 'Westworld', 'season': 1, 'number': 9, 'type': 'regular', 'airdate': '2016-11-27', 'airtime': '21:00', 'runtime': 60, 'average rating': 8.5, 'summary': 'Bernard forces Robert to take him back into his own memories, while the Man meets with Charlotte. Meanwhile, Dolores escapes the Confederado camp and William gives Logan new orders.', 'medium image link': 'https://static.tvmaze.com/uploads/images/medium_landscape/85/213932.jpg', 'original image link': 'https://static.tvmaze.com/uploads/images/original_untouched/85/213932.jpg'}\n",
            "{'id': 943067, 'url': 'https://www.tvmaze.com/shows/1371/westworld', 'name': 'Westworld', 'season': 1, 'number': 10, 'type': 'regular', 'airdate': '2016-12-04', 'airtime': '21:00', 'runtime': 90, 'average rating': 8.7, 'summary': \"Delores finds out the truth about William's fate. Meanwhile, Maeve organizes an escape plan, only to discover that someone else is pulling the strings. And Robert plays the final piece in his grand narrative.\", 'medium image link': 'https://static.tvmaze.com/uploads/images/medium_landscape/86/216453.jpg', 'original image link': 'https://static.tvmaze.com/uploads/images/original_untouched/86/216453.jpg'}\n",
            "{'id': 1214222, 'url': 'https://www.tvmaze.com/shows/1371/westworld', 'name': 'Westworld', 'season': 2, 'number': 1, 'type': 'regular', 'airdate': '2018-04-22', 'airtime': '21:00', 'runtime': 74, 'average rating': 7.8, 'summary': 'In the aftermath of the host rebellion, the rescue team finds Bernard and the new Head of Operations asks for his help. Meanwhile, Delores promises to show Teddy the truth, and Maeve convinces Lee and Hector to help her find her daughter.', 'medium image link': 'https://static.tvmaze.com/uploads/images/medium_landscape/152/381118.jpg', 'original image link': 'https://static.tvmaze.com/uploads/images/original_untouched/152/381118.jpg'}\n",
            "{'id': 1440915, 'url': 'https://www.tvmaze.com/shows/1371/westworld', 'name': 'Westworld', 'season': 2, 'number': 2, 'type': 'regular', 'airdate': '2018-04-29', 'airtime': '21:00', 'runtime': 60, 'average rating': 7.7, 'summary': 'Dolores looks for allies sympathetic to her cause and shows Teddy the truth of his existence. In the past, Dolores gets her first taste of the outside world and William shows her a weapon of mass destruction.', 'medium image link': 'https://static.tvmaze.com/uploads/images/medium_landscape/153/382957.jpg', 'original image link': 'https://static.tvmaze.com/uploads/images/original_untouched/153/382957.jpg'}\n",
            "{'id': 1440916, 'url': 'https://www.tvmaze.com/shows/1371/westworld', 'name': 'Westworld', 'season': 2, 'number': 3, 'type': 'regular', 'airdate': '2018-05-06', 'airtime': '21:00', 'runtime': 60, 'average rating': 7.7, 'summary': 'While Delores makes a deal with the Confederados, Maeve and her group find Felix and Sylvester. Meanwhile, a new Guest comes to Westworld, and Bernard has a meeting of minds with Peter.', 'medium image link': 'https://static.tvmaze.com/uploads/images/medium_landscape/154/386069.jpg', 'original image link': 'https://static.tvmaze.com/uploads/images/original_untouched/154/386069.jpg'}\n",
            "{'id': 1440917, 'url': 'https://www.tvmaze.com/shows/1371/westworld', 'name': 'Westworld', 'season': 2, 'number': 4, 'type': 'regular', 'airdate': '2018-05-13', 'airtime': '21:00', 'runtime': 71, 'average rating': 8, 'summary': \"William pays his recuperating father-in-law several visits. Meanwhile, the Man continues to play Robert's game, and Bernard remembers some of his missing time.\", 'medium image link': 'https://static.tvmaze.com/uploads/images/medium_landscape/155/387630.jpg', 'original image link': 'https://static.tvmaze.com/uploads/images/original_untouched/155/387630.jpg'}\n",
            "{'id': 1446362, 'url': 'https://www.tvmaze.com/shows/1371/westworld', 'name': 'Westworld', 'season': 2, 'number': 5, 'type': 'regular', 'airdate': '2018-05-20', 'airtime': '21:00', 'runtime': 60, 'average rating': 7.6, 'summary': \"While Maeve and her people explore Shogun World, Delores realizes that the Teddy she knows can't be a part of the new world coming.\", 'medium image link': 'https://static.tvmaze.com/uploads/images/medium_landscape/155/389365.jpg', 'original image link': 'https://static.tvmaze.com/uploads/images/original_untouched/155/389365.jpg'}\n",
            "{'id': 1453278, 'url': 'https://www.tvmaze.com/shows/1371/westworld', 'name': 'Westworld', 'season': 2, 'number': 6, 'type': 'regular', 'airdate': '2018-05-27', 'airtime': '21:00', 'runtime': 60, 'average rating': 7.7, 'summary': 'Maeve finds her daughter, Delores finds the \"real\" Teddy, Grace finds her father, and Charlotte and Stubbs find Peter.', 'medium image link': 'https://static.tvmaze.com/uploads/images/medium_landscape/156/390990.jpg', 'original image link': 'https://static.tvmaze.com/uploads/images/original_untouched/156/390990.jpg'}\n",
            "{'id': 1459961, 'url': 'https://www.tvmaze.com/shows/1371/westworld', 'name': 'Westworld', 'season': 2, 'number': 7, 'type': 'regular', 'airdate': '2018-06-03', 'airtime': '21:00', 'runtime': 60, 'average rating': 7.9, 'summary': \"Charlotte and Bernard review Bernard's memories to discover what happened to the missing control unit. Meanwhile, Robert has a chat with Bernard, and Maeve confronts her former tormentor.\", 'medium image link': 'https://static.tvmaze.com/uploads/images/medium_landscape/156/392143.jpg', 'original image link': 'https://static.tvmaze.com/uploads/images/original_untouched/156/392143.jpg'}\n",
            "{'id': 1459788, 'url': 'https://www.tvmaze.com/shows/1371/westworld', 'name': 'Westworld', 'season': 2, 'number': 8, 'type': 'regular', 'airdate': '2018-06-10', 'airtime': '21:00', 'runtime': 60, 'average rating': 8.7, 'summary': \"Another of Westworld's Host revolutionaries is revealed. Meanwhile, Emily finds the Man and convinces the Ghost Nation to hand him over to her to ensure his suffering.\", 'medium image link': 'https://static.tvmaze.com/uploads/images/medium_landscape/157/393811.jpg', 'original image link': 'https://static.tvmaze.com/uploads/images/original_untouched/157/393811.jpg'}\n",
            "{'id': 1459789, 'url': 'https://www.tvmaze.com/shows/1371/westworld', 'name': 'Westworld', 'season': 2, 'number': 9, 'type': 'regular', 'airdate': '2018-06-17', 'airtime': '21:00', 'runtime': 60, 'average rating': 8.4, 'summary': \"The Man learns that his grip on reality isn't what he thought, as he considers how his wife died. Meanwhile, Dolores continues her trek across the park to the Valley Beyond, and Bernard receives another visit from Robert.\", 'medium image link': 'https://static.tvmaze.com/uploads/images/medium_landscape/158/395754.jpg', 'original image link': 'https://static.tvmaze.com/uploads/images/original_untouched/158/395754.jpg'}\n",
            "{'id': 1459790, 'url': 'https://www.tvmaze.com/shows/1371/westworld', 'name': 'Westworld', 'season': 2, 'number': 10, 'type': 'regular', 'airdate': '2018-06-24', 'airtime': '21:00', 'runtime': 90, 'average rating': 8.5, 'summary': 'The Man faces a personal reckoning, while Akecheta and the others find the door. Meanwhile, Bernard meets with Robert one last time after choosing how to deal with Dolores.', 'medium image link': 'https://static.tvmaze.com/uploads/images/medium_landscape/158/397018.jpg', 'original image link': 'https://static.tvmaze.com/uploads/images/original_untouched/158/397018.jpg'}\n",
            "{'id': 1789333, 'url': 'https://www.tvmaze.com/shows/1371/westworld', 'name': 'Westworld', 'season': 3, 'number': 1, 'type': 'regular', 'airdate': '2020-03-15', 'airtime': '21:00', 'runtime': 70, 'average rating': 8, 'summary': \"If you're stuck in a loop, try walking in a straight line.\", 'medium image link': 'https://static.tvmaze.com/uploads/images/medium_landscape/246/615760.jpg', 'original image link': 'https://static.tvmaze.com/uploads/images/original_untouched/246/615760.jpg'}\n",
            "{'id': 1800146, 'url': 'https://www.tvmaze.com/shows/1371/westworld', 'name': 'Westworld', 'season': 3, 'number': 2, 'type': 'regular', 'airdate': '2020-03-22', 'airtime': '21:00', 'runtime': 60, 'average rating': 7.8, 'summary': 'People put up a lot of walls. Bring a sledgehammer to your life.', 'medium image link': 'https://static.tvmaze.com/uploads/images/medium_landscape/247/619379.jpg', 'original image link': 'https://static.tvmaze.com/uploads/images/original_untouched/247/619379.jpg'}\n",
            "{'id': 1800147, 'url': 'https://www.tvmaze.com/shows/1371/westworld', 'name': 'Westworld', 'season': 3, 'number': 3, 'type': 'regular', 'airdate': '2020-03-29', 'airtime': '21:00', 'runtime': 60, 'average rating': 7.8, 'summary': \"If you don't like what you see in the mirror, don't blame the mirror.\", 'medium image link': 'https://static.tvmaze.com/uploads/images/medium_landscape/247/619381.jpg', 'original image link': 'https://static.tvmaze.com/uploads/images/original_untouched/247/619381.jpg'}\n",
            "{'id': 1800148, 'url': 'https://www.tvmaze.com/shows/1371/westworld', 'name': 'Westworld', 'season': 3, 'number': 4, 'type': 'regular', 'airdate': '2020-04-05', 'airtime': '21:00', 'runtime': 70, 'average rating': 8, 'summary': \"The truth doesn't always set you free.\", 'medium image link': 'https://static.tvmaze.com/uploads/images/medium_landscape/249/623071.jpg', 'original image link': 'https://static.tvmaze.com/uploads/images/original_untouched/249/623071.jpg'}\n",
            "{'id': 1800149, 'url': 'https://www.tvmaze.com/shows/1371/westworld', 'name': 'Westworld', 'season': 3, 'number': 5, 'type': 'regular', 'airdate': '2020-04-12', 'airtime': '21:00', 'runtime': 60, 'average rating': 7.9, 'summary': 'Just say no.', 'medium image link': 'https://static.tvmaze.com/uploads/images/medium_landscape/251/629355.jpg', 'original image link': 'https://static.tvmaze.com/uploads/images/original_untouched/251/629355.jpg'}\n",
            "{'id': 1829375, 'url': 'https://www.tvmaze.com/shows/1371/westworld', 'name': 'Westworld', 'season': 3, 'number': 6, 'type': 'regular', 'airdate': '2020-04-19', 'airtime': '21:00', 'runtime': 60, 'average rating': 7.5, 'summary': 'Do a lot of people tell you that you need therapy?', 'medium image link': 'https://static.tvmaze.com/uploads/images/medium_landscape/252/632212.jpg', 'original image link': 'https://static.tvmaze.com/uploads/images/original_untouched/252/632212.jpg'}\n",
            "{'id': 1800151, 'url': 'https://www.tvmaze.com/shows/1371/westworld', 'name': 'Westworld', 'season': 3, 'number': 7, 'type': 'regular', 'airdate': '2020-04-26', 'airtime': '21:00', 'runtime': 60, 'average rating': 7.5, 'summary': \"A real friend is one who walks in when the rest of the world walks out. Caleb gets an insight on the true nature of his past; Dolores seeks out Rehoboam's predecessor, while Maeve tracks her down; Bernard, Stubbs, and William escape from all the chaos.\\xa0\", 'medium image link': 'https://static.tvmaze.com/uploads/images/medium_landscape/254/635599.jpg', 'original image link': 'https://static.tvmaze.com/uploads/images/original_untouched/254/635599.jpg'}\n",
            "{'id': 1800152, 'url': 'https://www.tvmaze.com/shows/1371/westworld', 'name': 'Westworld', 'season': 3, 'number': 8, 'type': 'regular', 'airdate': '2020-05-03', 'airtime': '21:00', 'runtime': 75, 'average rating': 7.7, 'summary': \"Time to face the music. Dolores' true intentions are revealed; Bernard confronts a ghost from his past; Maeve is conflicted; Serac's voice is dominant; Caleb's role is revealed; and William faces an unexpected villain.\\xa0\\xa0\", 'medium image link': 'https://static.tvmaze.com/uploads/images/medium_landscape/254/635189.jpg', 'original image link': 'https://static.tvmaze.com/uploads/images/original_untouched/254/635189.jpg'}\n",
            "{'id': 2326389, 'url': 'https://www.tvmaze.com/shows/1371/westworld', 'name': 'Westworld', 'season': 4, 'number': 1, 'type': 'regular', 'airdate': '2022-06-26', 'airtime': '21:00', 'runtime': 55, 'average rating': 7.1, 'summary': \"Hello again. Don't worry about a thing. It's all in your head.\", 'medium image link': 'https://static.tvmaze.com/uploads/images/medium_landscape/414/1035413.jpg', 'original image link': 'https://static.tvmaze.com/uploads/images/original_untouched/414/1035413.jpg'}\n",
            "{'id': 2326655, 'url': 'https://www.tvmaze.com/shows/1371/westworld', 'name': 'Westworld', 'season': 4, 'number': 2, 'type': 'regular', 'airdate': '2022-07-03', 'airtime': '21:00', 'runtime': 55, 'average rating': 7.4, 'summary': 'I heard a fly buzz when I died.', 'medium image link': 'https://static.tvmaze.com/uploads/images/medium_landscape/414/1036909.jpg', 'original image link': 'https://static.tvmaze.com/uploads/images/original_untouched/414/1036909.jpg'}\n",
            "{'id': 2326656, 'url': 'https://www.tvmaze.com/shows/1371/westworld', 'name': 'Westworld', 'season': 4, 'number': 3, 'type': 'regular', 'airdate': '2022-07-10', 'airtime': '21:00', 'runtime': 55, 'average rating': 7.6, 'summary': 'You can never go back again. But if you do, bring a shovel.', 'medium image link': 'https://static.tvmaze.com/uploads/images/medium_landscape/415/1038520.jpg', 'original image link': 'https://static.tvmaze.com/uploads/images/original_untouched/415/1038520.jpg'}\n",
            "{'id': 2326657, 'url': 'https://www.tvmaze.com/shows/1371/westworld', 'name': 'Westworld', 'season': 4, 'number': 4, 'type': 'regular', 'airdate': '2022-07-17', 'airtime': '21:00', 'runtime': 51, 'average rating': 7.7, 'summary': 'Should auld acquaintance be forgot and days of auld lang syne?', 'medium image link': 'https://static.tvmaze.com/uploads/images/medium_landscape/415/1039531.jpg', 'original image link': 'https://static.tvmaze.com/uploads/images/original_untouched/415/1039531.jpg'}\n",
            "{'id': 2326658, 'url': 'https://www.tvmaze.com/shows/1371/westworld', 'name': 'Westworld', 'season': 4, 'number': 5, 'type': 'regular', 'airdate': '2022-07-24', 'airtime': '21:00', 'runtime': 60, 'average rating': 7.8, 'summary': 'God is bored.', 'medium image link': 'https://static.tvmaze.com/uploads/images/medium_landscape/416/1042460.jpg', 'original image link': 'https://static.tvmaze.com/uploads/images/original_untouched/416/1042460.jpg'}\n",
            "{'id': 2326659, 'url': 'https://www.tvmaze.com/shows/1371/westworld', 'name': 'Westworld', 'season': 4, 'number': 6, 'type': 'regular', 'airdate': '2022-07-31', 'airtime': '21:00', 'runtime': 60, 'average rating': 7.5, 'summary': 'To thine own selves be true.', 'medium image link': 'https://static.tvmaze.com/uploads/images/medium_landscape/417/1044302.jpg', 'original image link': 'https://static.tvmaze.com/uploads/images/original_untouched/417/1044302.jpg'}\n",
            "{'id': 2326660, 'url': 'https://www.tvmaze.com/shows/1371/westworld', 'name': 'Westworld', 'season': 4, 'number': 7, 'type': 'regular', 'airdate': '2022-08-07', 'airtime': '21:00', 'runtime': 60, 'average rating': 7.7, 'summary': 'You want to have a drink at a time like this?', 'medium image link': 'https://static.tvmaze.com/uploads/images/medium_landscape/418/1045645.jpg', 'original image link': 'https://static.tvmaze.com/uploads/images/original_untouched/418/1045645.jpg'}\n",
            "{'id': 2326661, 'url': 'https://www.tvmaze.com/shows/1371/westworld', 'name': 'Westworld', 'season': 4, 'number': 8, 'type': 'regular', 'airdate': '2022-08-14', 'airtime': '21:00', 'runtime': 60, 'average rating': 7.5, 'summary': \"Like what I've done with the place? (I just cranked it to expert level.)\", 'medium image link': 'https://static.tvmaze.com/uploads/images/medium_landscape/418/1046925.jpg', 'original image link': 'https://static.tvmaze.com/uploads/images/original_untouched/418/1046925.jpg'}\n"
          ]
        }
      ],
      "source": [
        "import requests\n",
        "import json\n",
        "from bs4 import BeautifulSoup\n",
        "\n",
        "def download_data(url):\n",
        "    response = requests.get(url)  # Send a GET request to the URL\n",
        "    data = response.json()  # Get the JSON data from the response\n",
        "    return data\n",
        "\n",
        "def extract_data(data):\n",
        "    # Extract the desired data attributes\n",
        "    show_id = data[\"id\"]\n",
        "    show_url = data[\"url\"]\n",
        "    show_name = data[\"name\"]\n",
        "    episodes = data[\"_embedded\"][\"episodes\"]\n",
        "\n",
        "    extracted_data = []\n",
        "    for episode in episodes:\n",
        "        episode_id = episode[\"id\"]\n",
        "        episode_season = episode[\"season\"]\n",
        "        episode_number = episode[\"number\"]\n",
        "        episode_type = episode[\"type\"]\n",
        "        episode_airdate = episode[\"airdate\"]\n",
        "        episode_airtime = episode[\"airtime\"]\n",
        "        episode_runtime = episode[\"runtime\"]\n",
        "        episode_rating = episode[\"rating\"][\"average\"]\n",
        "        episode_summary = BeautifulSoup(episode[\"summary\"], \"html.parser\").get_text()\n",
        "        episode_image_medium = episode[\"image\"][\"medium\"]\n",
        "        episode_image_original = episode[\"image\"][\"original\"]\n",
        "\n",
        "        # Append the extracted data to the list\n",
        "        extracted_data.append({\n",
        "            \"id\": episode_id,\n",
        "            \"url\": show_url,\n",
        "            \"name\": show_name,\n",
        "            \"season\": episode_season,\n",
        "            \"number\": episode_number,\n",
        "            \"type\": episode_type,\n",
        "            \"airdate\": episode_airdate,\n",
        "            \"airtime\": episode_airtime,\n",
        "            \"runtime\": episode_runtime,\n",
        "            \"average rating\": episode_rating,\n",
        "            \"summary\": episode_summary,\n",
        "            \"medium image link\": episode_image_medium,\n",
        "            \"original image link\": episode_image_original\n",
        "        })\n",
        "\n",
        "    return extracted_data\n",
        "\n",
        "# Provide the URL of the API\n",
        "url = \"http://api.tvmaze.com/singlesearch/shows?q=westworld&embed=episodes\"\n",
        "\n",
        "# Download the data\n",
        "api_data = download_data(url)\n",
        "\n",
        "# Extract the desired data attributes\n",
        "extracted_data = extract_data(api_data)\n",
        "\n",
        "# Print the extracted data\n",
        "for episode_data in extracted_data:\n",
        "    print(episode_data)\n"
      ]
    },
    {
      "cell_type": "markdown",
      "source": [
        "Explanation:\n",
        "\n",
        "The download_data function takes a URL as input, sends a GET request to that URL using the requests library, and retrieves the JSON data from the response.\n",
        "\n",
        "The extract_data function takes the downloaded data as input.\n",
        "\n",
        "It extracts the desired data attributes from the JSON data, including the show ID, show URL, show name, and episode details.\n",
        "\n",
        "The function loops over each episode and extracts the necessary attributes such as episode ID, season, number, type, airdate, airtime, runtime, average rating, summary, medium image link, and original image link.\n",
        "\n",
        "The HTML tags are removed from the episode summary using the BeautifulSoup library, which is used to parse and process HTML content.\n",
        "\n",
        "The extracted data is stored in a list of dictionaries, where each dictionary represents the attributes of an episode.\n",
        "\n",
        "Finally, the program calls the download_data function with the provided URL and passes the downloaded data to the extract_data function to extract and format the desired data attributes."
      ],
      "metadata": {
        "id": "imXm3ZmgVSVD"
      }
    },
    {
      "cell_type": "code",
      "source": [],
      "metadata": {
        "id": "9UdAF2I_VKix"
      },
      "execution_count": null,
      "outputs": []
    }
  ]
}