{
  "nbformat": 4,
  "nbformat_minor": 0,
  "metadata": {
    "colab": {
      "provenance": []
    },
    "kernelspec": {
      "name": "python3",
      "display_name": "Python 3"
    },
    "language_info": {
      "name": "python"
    }
  },
  "cells": [
    {
      "cell_type": "markdown",
      "source": [
        "Question 1: -\n",
        "Write a program that takes a string as input, and counts the frequency of each word in the string, there might\n",
        "be repeated characters in the string. Your task is to find the highest frequency and returns the length of the\n",
        "highest-frequency word.\n",
        "\n",
        "Note - You have to write at least 2 additional test cases in which your program will run successfully and provide\n",
        "an explanation for the same.\n",
        "\n",
        "Example input - string = “write write write all the number from from from 1 to 100”\n",
        "\n",
        "Example output - 5\n",
        "\n",
        "Explanation - From the given string we can note that the most frequent words are “write” and “from” and\n",
        "the maximum value of both the values is “write” and its corresponding length is 5"
      ],
      "metadata": {
        "id": "6WGkI-GD471x"
      }
    },
    {
      "cell_type": "code",
      "execution_count": 2,
      "metadata": {
        "colab": {
          "base_uri": "https://localhost:8080/"
        },
        "id": "R5XFimCD3WYy",
        "outputId": "4fb86016-6a62-40ba-ff5d-8e562ac815c8"
      },
      "outputs": [
        {
          "output_type": "stream",
          "name": "stdout",
          "text": [
            "5\n"
          ]
        }
      ],
      "source": [
        "def find_highest_frequency_word_length(string):\n",
        "    # Split the string into words\n",
        "    words = string.split()\n",
        "\n",
        "    # Count the frequency of each word\n",
        "    word_freq = {}\n",
        "    for word in words:\n",
        "        word_freq[word] = word_freq.get(word, 0) + 1\n",
        "\n",
        "    # Find the highest frequency\n",
        "    max_freq = max(word_freq.values())\n",
        "\n",
        "    # Find the length of the highest-frequency word\n",
        "    max_freq_word = [word for word, freq in word_freq.items() if freq == max_freq]\n",
        "    max_freq_word_length = len(max_freq_word[0])\n",
        "\n",
        "    return max_freq_word_length\n",
        "\n",
        "\n",
        "# Test the function with the example input\n",
        "string = \"write write write all the number from from from 1 to 100\"\n",
        "print(find_highest_frequency_word_length(string))  # Output: 5\n"
      ]
    },
    {
      "cell_type": "markdown",
      "source": [
        "Explanation:\n",
        "\n",
        "The function find_highest_frequency_word_length takes a string as input.\n",
        "\n",
        "It splits the string into individual words using the split() method.\n",
        "\n",
        "It then counts the frequency of each word using a dictionary word_freq, where the key is the word and the value is its frequency.\n",
        "\n",
        "The max() function is used to find the highest frequency among all the words.\n",
        "\n",
        "The list comprehension [word for word, freq in word_freq.items() if freq == max_freq] is used to find the word(s) with the highest frequency.\n",
        "\n",
        "The length of the first highest-frequency word is returned as the output."
      ],
      "metadata": {
        "id": "9iLbr23c5VOf"
      }
    },
    {
      "cell_type": "markdown",
      "source": [
        "Additional Test Cases:\n",
        "\n",
        "Test case with multiple words having the same highest frequency:"
      ],
      "metadata": {
        "id": "lN12cMZQ5mCX"
      }
    },
    {
      "cell_type": "code",
      "source": [
        "string = \"apple banana apple orange banana apple\"\n",
        "print(find_highest_frequency_word_length(string)) \n"
      ],
      "metadata": {
        "colab": {
          "base_uri": "https://localhost:8080/"
        },
        "id": "dygfIGUd5WjV",
        "outputId": "b059d103-cfc4-493f-ea5b-76e8850a2ce9"
      },
      "execution_count": 4,
      "outputs": [
        {
          "output_type": "stream",
          "name": "stdout",
          "text": [
            "5\n"
          ]
        }
      ]
    },
    {
      "cell_type": "code",
      "source": [
        "string = \"python\"\n",
        "print(find_highest_frequency_word_length(string))  # Output: 6\n"
      ],
      "metadata": {
        "colab": {
          "base_uri": "https://localhost:8080/"
        },
        "id": "YkB2_Way5qVJ",
        "outputId": "d7862335-7310-4e83-d6bf-e3ae788661f8"
      },
      "execution_count": 5,
      "outputs": [
        {
          "output_type": "stream",
          "name": "stdout",
          "text": [
            "6\n"
          ]
        }
      ]
    },
    {
      "cell_type": "code",
      "source": [],
      "metadata": {
        "id": "KUzaRvct5-Ea"
      },
      "execution_count": null,
      "outputs": []
    }
  ]
}