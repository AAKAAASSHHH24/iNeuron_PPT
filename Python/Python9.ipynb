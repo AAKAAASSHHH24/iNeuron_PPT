{
  "nbformat": 4,
  "nbformat_minor": 0,
  "metadata": {
    "colab": {
      "provenance": []
    },
    "kernelspec": {
      "name": "python3",
      "display_name": "Python 3"
    },
    "language_info": {
      "name": "python"
    }
  },
  "cells": [
    {
      "cell_type": "markdown",
      "source": [
        "Question 9 -\n",
        "\n",
        "Write a program to read the data from the following link, perform data analysis and answer the following\n",
        "questions\n",
        "\n",
        "Note -\n",
        "\n",
        "1. Write code comments wherever required for code understanding\n",
        "\n",
        "Link - https://data.wa.gov/api/views/f6w7-q2d2/rows.csv?accessType=DOWNLOAD\n",
        "\n",
        "Insights to be drawn -\n",
        "● Get all the cars and their types that do not qualify for clean alternative fuel vehicle\n",
        "● Get all TESLA cars with the model year, and model type made in Kirkland.\n",
        "● Get all the cars that have an electric range of more than 100, and were made after\n",
        "2015\n",
        "● Draw plots to show the distribution between city and electric vehicle type"
      ],
      "metadata": {
        "id": "6HYQ8oUvDDGp"
      }
    },
    {
      "cell_type": "code",
      "execution_count": 15,
      "metadata": {
        "colab": {
          "base_uri": "https://localhost:8080/"
        },
        "id": "bk-c-1VoC4y5",
        "outputId": "21f2c88b-009d-492b-ea28-5ed89647404d"
      },
      "outputs": [
        {
          "output_type": "stream",
          "name": "stdout",
          "text": [
            "Cars that do not qualify for clean alternative fuel vehicle:\n",
            "          Make        Model\n",
            "6         FORD       FUSION\n",
            "7         AUDI         Q5 E\n",
            "8         FORD        C-MAX\n",
            "14        FORD        C-MAX\n",
            "15         KIA         NIRO\n",
            "...        ...          ...\n",
            "130377     BMW         530E\n",
            "130385    AUDI           A3\n",
            "130390    JEEP     WRANGLER\n",
            "130407  TOYOTA  PRIUS PRIME\n",
            "130437     BMW         530E\n",
            "\n",
            "[16446 rows x 2 columns]\n",
            "\n",
            "TESLA cars made in Bothell City:\n",
            "        Model Year    Model\n",
            "134           2020  MODEL 3\n",
            "141           2023  MODEL 3\n",
            "147           2022  MODEL Y\n",
            "226           2019  MODEL 3\n",
            "231           2018  MODEL 3\n",
            "...            ...      ...\n",
            "130117        2020  MODEL 3\n",
            "130192        2023  MODEL Y\n",
            "130299        2023  MODEL Y\n",
            "130312        2017  MODEL S\n",
            "130346        2019  MODEL 3\n",
            "\n",
            "[2351 rows x 2 columns]\n",
            "\n",
            "Cars with electric range > 100 and made after 2015:\n",
            "          Make    Model\n",
            "0        TESLA  MODEL X\n",
            "2        TESLA  MODEL 3\n",
            "4        TESLA  MODEL S\n",
            "12       TESLA  MODEL 3\n",
            "13       TESLA  MODEL 3\n",
            "...        ...      ...\n",
            "130417   TESLA  MODEL Y\n",
            "130428  NISSAN     LEAF\n",
            "130432   TESLA  MODEL Y\n",
            "130436   TESLA  MODEL 3\n",
            "130441   TESLA  MODEL X\n",
            "\n",
            "[34066 rows x 2 columns]\n"
          ]
        }
      ],
      "source": [
        "import pandas as pd\n",
        "import matplotlib.pyplot as plt\n",
        "\n",
        "# Read the data from the provided CSV link\n",
        "url = \"https://data.wa.gov/api/views/f6w7-q2d2/rows.csv?accessType=DOWNLOAD\"\n",
        "df = pd.read_csv(url)\n",
        "\n",
        "# Get all the cars and their types that do not qualify for clean alternative fuel vehicle\n",
        "not_qualify_cars = df[df['Clean Alternative Fuel Vehicle (CAFV) Eligibility'] == 'Not eligible due to low battery range'][['Make', 'Model']]\n",
        "print(\"Cars that do not qualify for clean alternative fuel vehicle:\")\n",
        "print(not_qualify_cars)\n",
        "\n",
        "# Get all TESLA cars with the model year, and model type made in Bothell City\n",
        "tesla_cars_bothell = df[(df['Make'] == 'TESLA') & (df['City'] == 'Kirkland')][['Model Year', 'Model']]\n",
        "print(\"\\nTESLA cars made in Bothell City:\")\n",
        "print(tesla_cars_bothell)\n",
        "\n",
        "# Get all the cars that have an electric range of more than 100, and were made after 2015\n",
        "electric_cars_range_100 = df[(df['Electric Range'] > 100) & (df['Model Year'] > 2015)][['Make', 'Model']]\n",
        "print(\"\\nCars with electric range > 100 and made after 2015:\")\n",
        "print(electric_cars_range_100)\n",
        "\n"
      ]
    },
    {
      "cell_type": "code",
      "source": [
        "# Draw plots to show the distribution between city and electric vehicle type\n",
        "plt.figure(figsize=(12, 6))\n",
        "top_10_cities = df['City'].value_counts().head(10).index\n",
        "df = df[df['City'].isin(top_10_cities)]\n",
        "df.groupby(['City', 'Electric Vehicle Type']).size().unstack().plot(kind='bar', stacked=True)\n",
        "plt.xlabel('City')\n",
        "plt.ylabel('Count')\n",
        "plt.title('Distribution of Electric Vehicle Type by City')\n",
        "plt.legend(title='Electric Vehicle Type')\n",
        "plt.xticks(rotation=45)\n",
        "plt.grid(True)\n",
        "plt.show()"
      ],
      "metadata": {
        "colab": {
          "base_uri": "https://localhost:8080/",
          "height": 546
        },
        "id": "Ci0bl7sWQjB7",
        "outputId": "eec62ebb-bb11-4d26-f7ba-7f577d53aa40"
      },
      "execution_count": 14,
      "outputs": [
        {
          "output_type": "display_data",
          "data": {
            "text/plain": [
              "<Figure size 1200x600 with 0 Axes>"
            ]
          },
          "metadata": {}
        },
        {
          "output_type": "display_data",
          "data": {
            "text/plain": [
              "<Figure size 640x480 with 1 Axes>"
            ],
            "image/png": "[encoded data removed]"
          },
          "metadata": {}
        }
      ]
    },
    {
      "cell_type": "code",
      "source": [
        "df.head()"
      ],
      "metadata": {
        "colab": {
          "base_uri": "https://localhost:8080/",
          "height": 669
        },
        "id": "nVcWSAcsDR7-",
        "outputId": "0919ed9a-7349-4eac-dbc2-d866a7fd7463"
      },
      "execution_count": 2,
      "outputs": [
        {
          "output_type": "execute_result",
          "data": {
            "text/plain": [
              "   VIN (1-10)    County     City State  Postal Code  Model Year    Make  \\\n",
              "0  5YJXCAE26J    Yakima   Yakima    WA      98908.0        2018   TESLA   \n",
              "1  JHMZC5F37M    Kitsap  Poulsbo    WA      98370.0        2021   HONDA   \n",
              "2  5YJ3E1EB0K      King  Seattle    WA      98199.0        2019   TESLA   \n",
              "3  1N4AZ0CP5D      King  Seattle    WA      98119.0        2013  NISSAN   \n",
              "4  5YJSA1E21H  Thurston    Lacey    WA      98516.0        2017   TESLA   \n",
              "\n",
              "     Model                   Electric Vehicle Type  \\\n",
              "0  MODEL X          Battery Electric Vehicle (BEV)   \n",
              "1  CLARITY  Plug-in Hybrid Electric Vehicle (PHEV)   \n",
              "2  MODEL 3          Battery Electric Vehicle (BEV)   \n",
              "3     LEAF          Battery Electric Vehicle (BEV)   \n",
              "4  MODEL S          Battery Electric Vehicle (BEV)   \n",
              "\n",
              "  Clean Alternative Fuel Vehicle (CAFV) Eligibility  Electric Range  \\\n",
              "0           Clean Alternative Fuel Vehicle Eligible             238   \n",
              "1           Clean Alternative Fuel Vehicle Eligible              47   \n",
              "2           Clean Alternative Fuel Vehicle Eligible             220   \n",
              "3           Clean Alternative Fuel Vehicle Eligible              75   \n",
              "4           Clean Alternative Fuel Vehicle Eligible             210   \n",
              "\n",
              "   Base MSRP  Legislative District  DOL Vehicle ID  \\\n",
              "0          0                  14.0       141151601   \n",
              "1          0                  23.0       171566447   \n",
              "2          0                  36.0         9426525   \n",
              "3          0                  36.0       211807760   \n",
              "4          0                  22.0       185810306   \n",
              "\n",
              "              Vehicle Location                              Electric Utility  \\\n",
              "0  POINT (-120.56916 46.58514)                                    PACIFICORP   \n",
              "1  POINT (-122.64681 47.73689)                        PUGET SOUND ENERGY INC   \n",
              "2  POINT (-122.40092 47.65908)  CITY OF SEATTLE - (WA)|CITY OF TACOMA - (WA)   \n",
              "3   POINT (-122.3684 47.64586)  CITY OF SEATTLE - (WA)|CITY OF TACOMA - (WA)   \n",
              "4  POINT (-122.75379 47.06316)                        PUGET SOUND ENERGY INC   \n",
              "\n",
              "   2020 Census Tract  \n",
              "0       5.307700e+10  \n",
              "1       5.303509e+10  \n",
              "2       5.303301e+10  \n",
              "3       5.303301e+10  \n",
              "4       5.306701e+10  "
            ],
            "text/html": [
              "\n",
              "  <div id=\"df-9e0bee3e-4758-4c71-ab45-67931ae08b67\">\n",
              "    <div class=\"colab-df-container\">\n",
              "      <div>\n",
              "<style scoped>\n",
              "    .dataframe tbody tr th:only-of-type {\n",
              "        vertical-align: middle;\n",
              "    }\n",
              "\n",
              "    .dataframe tbody tr th {\n",
              "        vertical-align: top;\n",
              "    }\n",
              "\n",
              "    .dataframe thead th {\n",
              "        text-align: right;\n",
              "    }\n",
              "</style>\n",
              "<table border=\"1\" class=\"dataframe\">\n",
              "  <thead>\n",
              "    <tr style=\"text-align: right;\">\n",
              "      <th></th>\n",
              "      <th>VIN (1-10)</th>\n",
              "      <th>County</th>\n",
              "      <th>City</th>\n",
              "      <th>State</th>\n",
              "      <th>Postal Code</th>\n",
              "      <th>Model Year</th>\n",
              "      <th>Make</th>\n",
              "      <th>Model</th>\n",
              "      <th>Electric Vehicle Type</th>\n",
              "      <th>Clean Alternative Fuel Vehicle (CAFV) Eligibility</th>\n",
              "      <th>Electric Range</th>\n",
              "      <th>Base MSRP</th>\n",
              "      <th>Legislative District</th>\n",
              "      <th>DOL Vehicle ID</th>\n",
              "      <th>Vehicle Location</th>\n",
              "      <th>Electric Utility</th>\n",
              "      <th>2020 Census Tract</th>\n",
              "    </tr>\n",
              "  </thead>\n",
              "  <tbody>\n",
              "    <tr>\n",
              "      <th>0</th>\n",
              "      <td>5YJXCAE26J</td>\n",
              "      <td>Yakima</td>\n",
              "      <td>Yakima</td>\n",
              "      <td>WA</td>\n",
              "      <td>98908.0</td>\n",
              "      <td>2018</td>\n",
              "      <td>TESLA</td>\n",
              "      <td>MODEL X</td>\n",
              "      <td>Battery Electric Vehicle (BEV)</td>\n",
              "      <td>Clean Alternative Fuel Vehicle Eligible</td>\n",
              "      <td>238</td>\n",
              "      <td>0</td>\n",
              "      <td>14.0</td>\n",
              "      <td>141151601</td>\n",
              "      <td>POINT (-120.56916 46.58514)</td>\n",
              "      <td>PACIFICORP</td>\n",
              "      <td>5.307700e+10</td>\n",
              "    </tr>\n",
              "    <tr>\n",
              "      <th>1</th>\n",
              "      <td>JHMZC5F37M</td>\n",
              "      <td>Kitsap</td>\n",
              "      <td>Poulsbo</td>\n",
              "      <td>WA</td>\n",
              "      <td>98370.0</td>\n",
              "      <td>2021</td>\n",
              "      <td>HONDA</td>\n",
              "      <td>CLARITY</td>\n",
              "      <td>Plug-in Hybrid Electric Vehicle (PHEV)</td>\n",
              "      <td>Clean Alternative Fuel Vehicle Eligible</td>\n",
              "      <td>47</td>\n",
              "      <td>0</td>\n",
              "      <td>23.0</td>\n",
              "      <td>171566447</td>\n",
              "      <td>POINT (-122.64681 47.73689)</td>\n",
              "      <td>PUGET SOUND ENERGY INC</td>\n",
              "      <td>5.303509e+10</td>\n",
              "    </tr>\n",
              "    <tr>\n",
              "      <th>2</th>\n",
              "      <td>5YJ3E1EB0K</td>\n",
              "      <td>King</td>\n",
              "      <td>Seattle</td>\n",
              "      <td>WA</td>\n",
              "      <td>98199.0</td>\n",
              "      <td>2019</td>\n",
              "      <td>TESLA</td>\n",
              "      <td>MODEL 3</td>\n",
              "      <td>Battery Electric Vehicle (BEV)</td>\n",
              "      <td>Clean Alternative Fuel Vehicle Eligible</td>\n",
              "      <td>220</td>\n",
              "      <td>0</td>\n",
              "      <td>36.0</td>\n",
              "      <td>9426525</td>\n",
              "      <td>POINT (-122.40092 47.65908)</td>\n",
              "      <td>CITY OF SEATTLE - (WA)|CITY OF TACOMA - (WA)</td>\n",
              "      <td>5.303301e+10</td>\n",
              "    </tr>\n",
              "    <tr>\n",
              "      <th>3</th>\n",
              "      <td>1N4AZ0CP5D</td>\n",
              "      <td>King</td>\n",
              "      <td>Seattle</td>\n",
              "      <td>WA</td>\n",
              "      <td>98119.0</td>\n",
              "      <td>2013</td>\n",
              "      <td>NISSAN</td>\n",
              "      <td>LEAF</td>\n",
              "      <td>Battery Electric Vehicle (BEV)</td>\n",
              "      <td>Clean Alternative Fuel Vehicle Eligible</td>\n",
              "      <td>75</td>\n",
              "      <td>0</td>\n",
              "      <td>36.0</td>\n",
              "      <td>211807760</td>\n",
              "      <td>POINT (-122.3684 47.64586)</td>\n",
              "      <td>CITY OF SEATTLE - (WA)|CITY OF TACOMA - (WA)</td>\n",
              "      <td>5.303301e+10</td>\n",
              "    </tr>\n",
              "    <tr>\n",
              "      <th>4</th>\n",
              "      <td>5YJSA1E21H</td>\n",
              "      <td>Thurston</td>\n",
              "      <td>Lacey</td>\n",
              "      <td>WA</td>\n",
              "      <td>98516.0</td>\n",
              "      <td>2017</td>\n",
              "      <td>TESLA</td>\n",
              "      <td>MODEL S</td>\n",
              "      <td>Battery Electric Vehicle (BEV)</td>\n",
              "      <td>Clean Alternative Fuel Vehicle Eligible</td>\n",
              "      <td>210</td>\n",
              "      <td>0</td>\n",
              "      <td>22.0</td>\n",
              "      <td>185810306</td>\n",
              "      <td>POINT (-122.75379 47.06316)</td>\n",
              "      <td>PUGET SOUND ENERGY INC</td>\n",
              "      <td>5.306701e+10</td>\n",
              "    </tr>\n",
              "  </tbody>\n",
              "</table>\n",
              "</div>\n",
              "      <button class=\"colab-df-convert\" onclick=\"convertToInteractive('df-9e0bee3e-4758-4c71-ab45-67931ae08b67')\"\n",
              "              title=\"Convert this dataframe to an interactive table.\"\n",
              "              style=\"display:none;\">\n",
              "        \n",
              "  <svg xmlns=\"http://www.w3.org/2000/svg\" height=\"24px\"viewBox=\"0 0 24 24\"\n",
              "       width=\"24px\">\n",
              "    <path d=\"M0 0h24v24H0V0z\" fill=\"none\"/>\n",
              "    <path d=\"M18.56 5.44l.94 2.06.94-2.06 2.06-.94-2.06-.94-.94-2.06-.94 2.06-2.06.94zm-11 1L8.5 8.5l.94-2.06 2.06-.94-2.06-.94L8.5 2.5l-.94 2.06-2.06.94zm10 10l.94 2.06.94-2.06 2.06-.94-2.06-.94-.94-2.06-.94 2.06-2.06.94z\"/><path d=\"M17.41 7.96l-1.37-1.37c-.4-.4-.92-.59-1.43-.59-.52 0-1.04.2-1.43.59L10.3 9.45l-7.72 7.72c-.78.78-.78 2.05 0 2.83L4 21.41c.39.39.9.59 1.41.59.51 0 1.02-.2 1.41-.59l7.78-7.78 2.81-2.81c.8-.78.8-2.07 0-2.86zM5.41 20L4 18.59l7.72-7.72 1.47 1.35L5.41 20z\"/>\n",
              "  </svg>\n",
              "      </button>\n",
              "      \n",
              "  <style>\n",
              "    .colab-df-container {\n",
              "      display:flex;\n",
              "      flex-wrap:wrap;\n",
              "      gap: 12px;\n",
              "    }\n",
              "\n",
              "    .colab-df-convert {\n",
              "      background-color: #E8F0FE;\n",
              "      border: none;\n",
              "      border-radius: 50%;\n",
              "      cursor: pointer;\n",
              "      display: none;\n",
              "      fill: #1967D2;\n",
              "      height: 32px;\n",
              "      padding: 0 0 0 0;\n",
              "      width: 32px;\n",
              "    }\n",
              "\n",
              "    .colab-df-convert:hover {\n",
              "      background-color: #E2EBFA;\n",
              "      box-shadow: 0px 1px 2px rgba(60, 64, 67, 0.3), 0px 1px 3px 1px rgba(60, 64, 67, 0.15);\n",
              "      fill: #174EA6;\n",
              "    }\n",
              "\n",
              "    [theme=dark] .colab-df-convert {\n",
              "      background-color: #3B4455;\n",
              "      fill: #D2E3FC;\n",
              "    }\n",
              "\n",
              "    [theme=dark] .colab-df-convert:hover {\n",
              "      background-color: #434B5C;\n",
              "      box-shadow: 0px 1px 3px 1px rgba(0, 0, 0, 0.15);\n",
              "      filter: drop-shadow(0px 1px 2px rgba(0, 0, 0, 0.3));\n",
              "      fill: #FFFFFF;\n",
              "    }\n",
              "  </style>\n",
              "\n",
              "      <script>\n",
              "        const buttonEl =\n",
              "          document.querySelector('#df-9e0bee3e-4758-4c71-ab45-67931ae08b67 button.colab-df-convert');\n",
              "        buttonEl.style.display =\n",
              "          google.colab.kernel.accessAllowed ? 'block' : 'none';\n",
              "\n",
              "        async function convertToInteractive(key) {\n",
              "          const element = document.querySelector('#df-9e0bee3e-4758-4c71-ab45-67931ae08b67');\n",
              "          const dataTable =\n",
              "            await google.colab.kernel.invokeFunction('convertToInteractive',\n",
              "                                                     [key], {});\n",
              "          if (!dataTable) return;\n",
              "\n",
              "          const docLinkHtml = 'Like what you see? Visit the ' +\n",
              "            '<a target=\"_blank\" href=https://colab.research.google.com/notebooks/data_table.ipynb>data table notebook</a>'\n",
              "            + ' to learn more about interactive tables.';\n",
              "          element.innerHTML = '';\n",
              "          dataTable['output_type'] = 'display_data';\n",
              "          await google.colab.output.renderOutput(dataTable, element);\n",
              "          const docLink = document.createElement('div');\n",
              "          docLink.innerHTML = docLinkHtml;\n",
              "          element.appendChild(docLink);\n",
              "        }\n",
              "      </script>\n",
              "    </div>\n",
              "  </div>\n",
              "  "
            ]
          },
          "metadata": {},
          "execution_count": 2
        }
      ]
    },
    {
      "cell_type": "code",
      "source": [
        "df['Clean Alternative Fuel Vehicle (CAFV) Eligibility'].unique()"
      ],
      "metadata": {
        "colab": {
          "base_uri": "https://localhost:8080/"
        },
        "id": "Ykl6bEATDaEd",
        "outputId": "3455bc83-990e-4a4c-cf5f-41a1b956d3af"
      },
      "execution_count": 3,
      "outputs": [
        {
          "output_type": "execute_result",
          "data": {
            "text/plain": [
              "array(['Clean Alternative Fuel Vehicle Eligible',\n",
              "       'Not eligible due to low battery range',\n",
              "       'Eligibility unknown as battery range has not been researched'],\n",
              "      dtype=object)"
            ]
          },
          "metadata": {},
          "execution_count": 3
        }
      ]
    },
    {
      "cell_type": "code",
      "source": [
        "df['City'].value_counts()"
      ],
      "metadata": {
        "colab": {
          "base_uri": "https://localhost:8080/"
        },
        "id": "62b91hfHHcwB",
        "outputId": "7747ff2a-7258-4940-bbc4-d190030f2081"
      },
      "execution_count": 11,
      "outputs": [
        {
          "output_type": "execute_result",
          "data": {
            "text/plain": [
              "Seattle        22894\n",
              "Bellevue        6748\n",
              "Redmond         4820\n",
              "Vancouver       4652\n",
              "Kirkland        4071\n",
              "               ...  \n",
              "Asheboro           1\n",
              "Germantown         1\n",
              "Saint Jacob        1\n",
              "Watertown          1\n",
              "Aurora             1\n",
              "Name: City, Length: 656, dtype: int64"
            ]
          },
          "metadata": {},
          "execution_count": 11
        }
      ]
    },
    {
      "cell_type": "code",
      "source": [
        "df.columns"
      ],
      "metadata": {
        "colab": {
          "base_uri": "https://localhost:8080/"
        },
        "id": "qnMXMAvDDzKf",
        "outputId": "58d797bc-a63f-41fd-bc24-4d9160ddd41b"
      },
      "execution_count": 4,
      "outputs": [
        {
          "output_type": "execute_result",
          "data": {
            "text/plain": [
              "Index(['VIN (1-10)', 'County', 'City', 'State', 'Postal Code', 'Model Year',\n",
              "       'Make', 'Model', 'Electric Vehicle Type',\n",
              "       'Clean Alternative Fuel Vehicle (CAFV) Eligibility', 'Electric Range',\n",
              "       'Base MSRP', 'Legislative District', 'DOL Vehicle ID',\n",
              "       'Vehicle Location', 'Electric Utility', '2020 Census Tract'],\n",
              "      dtype='object')"
            ]
          },
          "metadata": {},
          "execution_count": 4
        }
      ]
    },
    {
      "cell_type": "code",
      "source": [],
      "metadata": {
        "id": "BQNqYU-CG_bS"
      },
      "execution_count": null,
      "outputs": []
    }
  ]
}